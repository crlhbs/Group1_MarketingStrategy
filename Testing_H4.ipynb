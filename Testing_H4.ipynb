{
 "cells": [
  {
   "cell_type": "markdown",
   "metadata": {},
   "source": [
    "This code was written by Carl Hümbs"
   ]
  },
  {
   "cell_type": "code",
   "execution_count": 175,
   "metadata": {},
   "outputs": [],
   "source": [
    "# Importing the necessary libraries\n",
    "import pandas as pd\n",
    "import re\n",
    "from scipy import stats\n",
    "import matplotlib.pyplot as plt\n",
    "import numpy as np\n",
    "import seaborn as sns\n",
    "from scipy.stats import mannwhitneyu\n",
    "\n",
    "# Loading our cleaned dataset\n",
    "df = pd.read_csv('combined_themepark_dataset.csv')"
   ]
  },
  {
   "cell_type": "markdown",
   "metadata": {},
   "source": [
    "## In this file, Hypothesis 4 will be analyzed.\n",
    "\n",
    "* H4.a (0): μ_engagement_emojis = μ_engagement_no_emojis (Mean engagement for posts with emojis is equal to mean engagement for posts without emojis)\n",
    "\n",
    "* H4.a (A): μ_engagement_emojis ≠ μ_engagement_no_emojis (Mean engagement for posts with emojis is not equal to mean engagement for posts without emojis)\n",
    "\n",
    "Alpha (α) Value: 0.05"
   ]
  },
  {
   "cell_type": "markdown",
   "metadata": {},
   "source": [
    "#### **Data preparation:**"
   ]
  },
  {
   "cell_type": "code",
   "execution_count": 176,
   "metadata": {},
   "outputs": [],
   "source": [
    "# First, we need to identify all the emojis within the texts of the 'messages' column\n",
    "emoji_pattern = re.compile(\"[\"\n",
    "                           u\"\\U0001F300-\\U0001F5FF\"  # symbols & pictographs\n",
    "                           u\"\\U0001F680-\\U0001F6FF\"  # transport & map symbols\n",
    "                           u\"\\U0001F1E0-\\U0001F1FF\"  # flags (iOS)\n",
    "                           u\"\\U00002702-\\U000027B0\"\n",
    "                           u\"\\U000024C2-\\U0001F251\"\n",
    "                           u\"\\U0001F354-\\U0001F35F\"  # food & drink\n",
    "                           u\"\\U0001F300-\\U0001F321\"  # weather\n",
    "                           u\"\\U0001F3C3-\\U0001F3CC\"  # activities\n",
    "                           u\"\\U0001F4F1-\\U0001F4F9\"  # objects\n",
    "                           u\"\\U0001F600-\\U0001F64F\"  # smileys & people\n",
    "                           u\"\\U0000263A-\\U0000263B\"  # misc symbols\n",
    "                           u\"\\U0001F900-\\U0001F9FF\"  # skin tone modifiers & gender neutral\n",
    "                           u\"\\U0001F9A6-\\U0001F9A7\"  # animals\n",
    "                           u\"\\U0001FA6E-\\U0001FA6F\"  # tools\n",
    "                           u\"\\U0001FA78-\\U0001FA7A\"  # medical\n",
    "                           u\"\\U000023F0-\\U000023F3\"  # time\n",
    "                           u\"\\U0001FA80-\\U0001FA82\"  # transportation\n",
    "                           u\"\\U0001F9B6\"              # 🫶\n",
    "                           \"]+\", flags=re.UNICODE)\n",
    "\n",
    "# Function to check if a message contains an emoji\n",
    "def contains_emoji(text):\n",
    "    return bool(emoji_pattern.search(text))\n",
    "\n",
    "# Applying the function to the 'message' column\n",
    "df['Has_Emoji'] = df['message'].apply(contains_emoji)\n",
    "\n",
    "# Filtering the DataFrame to show only messages containing emojis\n",
    "messages_with_emoji = df[df['Has_Emoji']]"
   ]
  },
  {
   "cell_type": "code",
   "execution_count": 177,
   "metadata": {},
   "outputs": [
    {
     "data": {
      "text/html": [
       "<div>\n",
       "<style scoped>\n",
       "    .dataframe tbody tr th:only-of-type {\n",
       "        vertical-align: middle;\n",
       "    }\n",
       "\n",
       "    .dataframe tbody tr th {\n",
       "        vertical-align: top;\n",
       "    }\n",
       "\n",
       "    .dataframe thead th {\n",
       "        text-align: right;\n",
       "    }\n",
       "</style>\n",
       "<table border=\"1\" class=\"dataframe\">\n",
       "  <thead>\n",
       "    <tr style=\"text-align: right;\">\n",
       "      <th></th>\n",
       "      <th>date</th>\n",
       "      <th>profile</th>\n",
       "      <th>message</th>\n",
       "      <th>nr_reactions</th>\n",
       "      <th>nr_comments</th>\n",
       "      <th>nr_shares</th>\n",
       "      <th>comments/post</th>\n",
       "      <th>post_interaction_rate</th>\n",
       "      <th>engagement</th>\n",
       "      <th>nr_likes</th>\n",
       "      <th>link_posts</th>\n",
       "      <th>picture_posts</th>\n",
       "      <th>video_posts</th>\n",
       "      <th>profile_id</th>\n",
       "      <th>post_id</th>\n",
       "      <th>link</th>\n",
       "      <th>Has_Emoji</th>\n",
       "    </tr>\n",
       "  </thead>\n",
       "  <tbody>\n",
       "    <tr>\n",
       "      <th>0</th>\n",
       "      <td>12/31/23 9:40 PM</td>\n",
       "      <td>Wild Adventures Theme Park</td>\n",
       "      <td>🎟️🚨 Today's the FINAL day to use your 2023 Sea...</td>\n",
       "      <td>16</td>\n",
       "      <td>2</td>\n",
       "      <td>2</td>\n",
       "      <td>2</td>\n",
       "      <td>1,09E+12</td>\n",
       "      <td>1.090000e+12</td>\n",
       "      <td>13</td>\n",
       "      <td>NaN</td>\n",
       "      <td>1.0</td>\n",
       "      <td>NaN</td>\n",
       "      <td>84679583132</td>\n",
       "      <td>84679583132_770120045161180</td>\n",
       "      <td>https://www.facebook.com/617429960430190/posts...</td>\n",
       "      <td>True</td>\n",
       "    </tr>\n",
       "    <tr>\n",
       "      <th>1</th>\n",
       "      <td>12/31/23 8:01 PM</td>\n",
       "      <td>Fun Spot America</td>\n",
       "      <td>See you next year! 😉                Don’t miss...</td>\n",
       "      <td>38</td>\n",
       "      <td>1</td>\n",
       "      <td>2</td>\n",
       "      <td>1</td>\n",
       "      <td>4,17E+11</td>\n",
       "      <td>4.170000e+11</td>\n",
       "      <td>33</td>\n",
       "      <td>NaN</td>\n",
       "      <td>NaN</td>\n",
       "      <td>NaN</td>\n",
       "      <td>1,8402E+11</td>\n",
       "      <td>184020466977_767286052104076</td>\n",
       "      <td>https://www.facebook.com/653224623510220/posts...</td>\n",
       "      <td>True</td>\n",
       "    </tr>\n",
       "    <tr>\n",
       "      <th>2</th>\n",
       "      <td>12/31/23 7:30 PM</td>\n",
       "      <td>Fun Spot America</td>\n",
       "      <td>Don't miss our HUGE firework display ! 🥳\\n\\n#f...</td>\n",
       "      <td>23</td>\n",
       "      <td>2</td>\n",
       "      <td>3</td>\n",
       "      <td>2</td>\n",
       "      <td>2,85E+11</td>\n",
       "      <td>2.850000e+11</td>\n",
       "      <td>21</td>\n",
       "      <td>NaN</td>\n",
       "      <td>NaN</td>\n",
       "      <td>1.0</td>\n",
       "      <td>1,8402E+11</td>\n",
       "      <td>184020466977_767267948772553</td>\n",
       "      <td>https://www.facebook.com/653224623510220/posts...</td>\n",
       "      <td>True</td>\n",
       "    </tr>\n",
       "    <tr>\n",
       "      <th>3</th>\n",
       "      <td>12/31/23 7:00 PM</td>\n",
       "      <td>Disneyland Paris</td>\n",
       "      <td>Fijne jaarwisseling! 🥂🎉\\nEn tot volgend jaar 😉</td>\n",
       "      <td>646</td>\n",
       "      <td>52</td>\n",
       "      <td>12</td>\n",
       "      <td>56</td>\n",
       "      <td>1,36E+11</td>\n",
       "      <td>1.360000e+11</td>\n",
       "      <td>478</td>\n",
       "      <td>NaN</td>\n",
       "      <td>1.0</td>\n",
       "      <td>NaN</td>\n",
       "      <td>6,52389E+14</td>\n",
       "      <td>652389081615295_775974521237956</td>\n",
       "      <td>https://www.facebook.com/724434559725286/posts...</td>\n",
       "      <td>True</td>\n",
       "    </tr>\n",
       "    <tr>\n",
       "      <th>4</th>\n",
       "      <td>12/31/23 7:00 PM</td>\n",
       "      <td>Silverwood Theme Park</td>\n",
       "      <td>It's the last day of our New Year's Sale! Save...</td>\n",
       "      <td>17</td>\n",
       "      <td>2</td>\n",
       "      <td>0</td>\n",
       "      <td>2</td>\n",
       "      <td>4,96E+11</td>\n",
       "      <td>4.960000e+11</td>\n",
       "      <td>16</td>\n",
       "      <td>NaN</td>\n",
       "      <td>NaN</td>\n",
       "      <td>1.0</td>\n",
       "      <td>7,62702E+14</td>\n",
       "      <td>762701550509617_678920137770716</td>\n",
       "      <td>https://www.facebook.com/562559642740100/posts...</td>\n",
       "      <td>False</td>\n",
       "    </tr>\n",
       "    <tr>\n",
       "      <th>5</th>\n",
       "      <td>12/31/23 6:55 PM</td>\n",
       "      <td>Belmont Park</td>\n",
       "      <td>The sun sets over 2023…🌅\\n\\nWishing everyone a...</td>\n",
       "      <td>51</td>\n",
       "      <td>1</td>\n",
       "      <td>11</td>\n",
       "      <td>1</td>\n",
       "      <td>0.0012457732692649937</td>\n",
       "      <td>1.245773e-03</td>\n",
       "      <td>40</td>\n",
       "      <td>NaN</td>\n",
       "      <td>1.0</td>\n",
       "      <td>NaN</td>\n",
       "      <td>83231004302</td>\n",
       "      <td>83231004302_767257582104974</td>\n",
       "      <td>https://www.facebook.com/632506952246705/posts...</td>\n",
       "      <td>True</td>\n",
       "    </tr>\n",
       "    <tr>\n",
       "      <th>6</th>\n",
       "      <td>12/31/23 6:01 PM</td>\n",
       "      <td>SeaWorld Orlando</td>\n",
       "      <td>Animal rescue and rehabilitation has always be...</td>\n",
       "      <td>729</td>\n",
       "      <td>25</td>\n",
       "      <td>97</td>\n",
       "      <td>28</td>\n",
       "      <td>0.0035718617597483805</td>\n",
       "      <td>3.571862e-03</td>\n",
       "      <td>459</td>\n",
       "      <td>NaN</td>\n",
       "      <td>1.0</td>\n",
       "      <td>NaN</td>\n",
       "      <td>1782696285170057</td>\n",
       "      <td>1782696285170057_377301148304978</td>\n",
       "      <td>https://www.facebook.com/260024933365934/posts...</td>\n",
       "      <td>False</td>\n",
       "    </tr>\n",
       "  </tbody>\n",
       "</table>\n",
       "</div>"
      ],
      "text/plain": [
       "               date                     profile  \\\n",
       "0  12/31/23 9:40 PM  Wild Adventures Theme Park   \n",
       "1  12/31/23 8:01 PM            Fun Spot America   \n",
       "2  12/31/23 7:30 PM            Fun Spot America   \n",
       "3  12/31/23 7:00 PM            Disneyland Paris   \n",
       "4  12/31/23 7:00 PM       Silverwood Theme Park   \n",
       "5  12/31/23 6:55 PM                Belmont Park   \n",
       "6  12/31/23 6:01 PM            SeaWorld Orlando   \n",
       "\n",
       "                                             message  nr_reactions  \\\n",
       "0  🎟️🚨 Today's the FINAL day to use your 2023 Sea...            16   \n",
       "1  See you next year! 😉                Don’t miss...            38   \n",
       "2  Don't miss our HUGE firework display ! 🥳\\n\\n#f...            23   \n",
       "3     Fijne jaarwisseling! 🥂🎉\\nEn tot volgend jaar 😉           646   \n",
       "4  It's the last day of our New Year's Sale! Save...            17   \n",
       "5  The sun sets over 2023…🌅\\n\\nWishing everyone a...            51   \n",
       "6  Animal rescue and rehabilitation has always be...           729   \n",
       "\n",
       "   nr_comments  nr_shares  comments/post  post_interaction_rate    engagement  \\\n",
       "0            2          2              2               1,09E+12  1.090000e+12   \n",
       "1            1          2              1               4,17E+11  4.170000e+11   \n",
       "2            2          3              2               2,85E+11  2.850000e+11   \n",
       "3           52         12             56               1,36E+11  1.360000e+11   \n",
       "4            2          0              2               4,96E+11  4.960000e+11   \n",
       "5            1         11              1  0.0012457732692649937  1.245773e-03   \n",
       "6           25         97             28  0.0035718617597483805  3.571862e-03   \n",
       "\n",
       "   nr_likes  link_posts  picture_posts  video_posts        profile_id  \\\n",
       "0        13         NaN            1.0          NaN       84679583132   \n",
       "1        33         NaN            NaN          NaN        1,8402E+11   \n",
       "2        21         NaN            NaN          1.0        1,8402E+11   \n",
       "3       478         NaN            1.0          NaN       6,52389E+14   \n",
       "4        16         NaN            NaN          1.0       7,62702E+14   \n",
       "5        40         NaN            1.0          NaN       83231004302   \n",
       "6       459         NaN            1.0          NaN  1782696285170057   \n",
       "\n",
       "                            post_id  \\\n",
       "0       84679583132_770120045161180   \n",
       "1      184020466977_767286052104076   \n",
       "2      184020466977_767267948772553   \n",
       "3   652389081615295_775974521237956   \n",
       "4   762701550509617_678920137770716   \n",
       "5       83231004302_767257582104974   \n",
       "6  1782696285170057_377301148304978   \n",
       "\n",
       "                                                link  Has_Emoji  \n",
       "0  https://www.facebook.com/617429960430190/posts...       True  \n",
       "1  https://www.facebook.com/653224623510220/posts...       True  \n",
       "2  https://www.facebook.com/653224623510220/posts...       True  \n",
       "3  https://www.facebook.com/724434559725286/posts...       True  \n",
       "4  https://www.facebook.com/562559642740100/posts...      False  \n",
       "5  https://www.facebook.com/632506952246705/posts...       True  \n",
       "6  https://www.facebook.com/260024933365934/posts...      False  "
      ]
     },
     "execution_count": 177,
     "metadata": {},
     "output_type": "execute_result"
    }
   ],
   "source": [
    "df.head(7)"
   ]
  },
  {
   "cell_type": "code",
   "execution_count": 178,
   "metadata": {},
   "outputs": [
    {
     "name": "stdout",
     "output_type": "stream",
     "text": [
      "Number of posts with emojis: 9415\n"
     ]
    }
   ],
   "source": [
    "# Counting the number of posts that include an emoji\n",
    "num_posts_with_emoji = df['Has_Emoji'].sum()\n",
    "\n",
    "print(\"Number of posts with emojis:\", num_posts_with_emoji)"
   ]
  },
  {
   "cell_type": "markdown",
   "metadata": {},
   "source": [
    "#### **Testing:**"
   ]
  },
  {
   "cell_type": "markdown",
   "metadata": {},
   "source": [
    "We want to conduct a hypothesis test to compare the mean engagement for posts with emojis to the mean engagement for posts without emojis. This is a comparison of two independent groups, and since we're interested in whether the means are equal or not, a suitable test would be an independent samples t-test or a Mann-Whitney U test if the assumptions of the t-test are violated."
   ]
  },
  {
   "cell_type": "code",
   "execution_count": 179,
   "metadata": {},
   "outputs": [
    {
     "data": {
      "image/png": "[encoded data removed]",
      "text/plain": [
       "<Figure size 1000x600 with 1 Axes>"
      ]
     },
     "metadata": {},
     "output_type": "display_data"
    }
   ],
   "source": [
    "# Plotting the distribution of the 'engagement' column\n",
    "plt.figure(figsize=(10, 6))\n",
    "sns.histplot(df['engagement'], bins=20, color='skyblue', edgecolor='black', kde=True)\n",
    "plt.title('Distribution of Engagement')\n",
    "plt.xlabel('Engagement')\n",
    "plt.ylabel('Frequency')\n",
    "plt.show()"
   ]
  },
  {
   "cell_type": "markdown",
   "metadata": {},
   "source": [
    "The plot shows that the engagement follows a right-skewed distribution. Therefore, we cannot apply the t-test. "
   ]
  },
  {
   "cell_type": "code",
   "execution_count": 180,
   "metadata": {},
   "outputs": [
    {
     "name": "stdout",
     "output_type": "stream",
     "text": [
      "Unique values in 'Has_Emoji' column: [ True False]\n",
      "Sample rows with emojis:\n",
      "               date                     profile  \\\n",
      "0  12/31/23 9:40 PM  Wild Adventures Theme Park   \n",
      "1  12/31/23 8:01 PM            Fun Spot America   \n",
      "2  12/31/23 7:30 PM            Fun Spot America   \n",
      "3  12/31/23 7:00 PM            Disneyland Paris   \n",
      "5  12/31/23 6:55 PM                Belmont Park   \n",
      "\n",
      "                                             message  nr_reactions  \\\n",
      "0  🎟️🚨 Today's the FINAL day to use your 2023 Sea...            16   \n",
      "1  See you next year! 😉                Don’t miss...            38   \n",
      "2  Don't miss our HUGE firework display ! 🥳\\n\\n#f...            23   \n",
      "3     Fijne jaarwisseling! 🥂🎉\\nEn tot volgend jaar 😉           646   \n",
      "5  The sun sets over 2023…🌅\\n\\nWishing everyone a...            51   \n",
      "\n",
      "   nr_comments  nr_shares  comments/post  post_interaction_rate    engagement  \\\n",
      "0            2          2              2               1,09E+12  1.090000e+12   \n",
      "1            1          2              1               4,17E+11  4.170000e+11   \n",
      "2            2          3              2               2,85E+11  2.850000e+11   \n",
      "3           52         12             56               1,36E+11  1.360000e+11   \n",
      "5            1         11              1  0.0012457732692649937  1.245773e-03   \n",
      "\n",
      "   nr_likes  link_posts  picture_posts  video_posts   profile_id  \\\n",
      "0        13         NaN            1.0          NaN  84679583132   \n",
      "1        33         NaN            NaN          NaN   1,8402E+11   \n",
      "2        21         NaN            NaN          1.0   1,8402E+11   \n",
      "3       478         NaN            1.0          NaN  6,52389E+14   \n",
      "5        40         NaN            1.0          NaN  83231004302   \n",
      "\n",
      "                           post_id  \\\n",
      "0      84679583132_770120045161180   \n",
      "1     184020466977_767286052104076   \n",
      "2     184020466977_767267948772553   \n",
      "3  652389081615295_775974521237956   \n",
      "5      83231004302_767257582104974   \n",
      "\n",
      "                                                link  Has_Emoji  \n",
      "0  https://www.facebook.com/617429960430190/posts...       True  \n",
      "1  https://www.facebook.com/653224623510220/posts...       True  \n",
      "2  https://www.facebook.com/653224623510220/posts...       True  \n",
      "3  https://www.facebook.com/724434559725286/posts...       True  \n",
      "5  https://www.facebook.com/632506952246705/posts...       True  \n",
      "\n",
      "Sample rows without emojis:\n",
      "                date                        profile  \\\n",
      "4   12/31/23 7:00 PM          Silverwood Theme Park   \n",
      "6   12/31/23 6:01 PM               SeaWorld Orlando   \n",
      "8   12/31/23 5:01 PM             SeaWorld San Diego   \n",
      "11  12/31/23 4:17 PM     Wild Adventures Theme Park   \n",
      "12  12/31/23 3:43 PM  Universal Orlando Resort (US)   \n",
      "\n",
      "                                              message  nr_reactions  \\\n",
      "4   It's the last day of our New Year's Sale! Save...            17   \n",
      "6   Animal rescue and rehabilitation has always be...           729   \n",
      "8   As we close out 2023, we want to take a moment...           242   \n",
      "11  This place is 'snow' joke! Today's your last c...            30   \n",
      "12                              It's Blue Year's Eve!          1234   \n",
      "\n",
      "    nr_comments  nr_shares  comments/post  post_interaction_rate  \\\n",
      "4             2          0              2               4,96E+11   \n",
      "6            25         97             28  0.0035718617597483805   \n",
      "8             5         15              5   0.002332185043750723   \n",
      "11            4          3              4               2,01E+12   \n",
      "12           46         90             81               4,56E+11   \n",
      "\n",
      "      engagement  nr_likes  link_posts  picture_posts  video_posts  \\\n",
      "4   4.960000e+11        16         NaN            NaN          1.0   \n",
      "6   3.571862e-03       459         NaN            1.0          NaN   \n",
      "8   2.332185e-03       182         NaN            NaN          1.0   \n",
      "11  2.010000e+12        25         NaN            1.0          NaN   \n",
      "12  4.560000e+11       966         NaN            1.0          NaN   \n",
      "\n",
      "          profile_id                           post_id  \\\n",
      "4        7,62702E+14   762701550509617_678920137770716   \n",
      "6   1782696285170057  1782696285170057_377301148304978   \n",
      "8        4,26112E+14   426111667814056_689815569963071   \n",
      "11       84679583132       84679583132_769945921845259   \n",
      "12       90867402851       90867402851_775492054612169   \n",
      "\n",
      "                                                 link  Has_Emoji  \n",
      "4   https://www.facebook.com/562559642740100/posts...      False  \n",
      "6   https://www.facebook.com/260024933365934/posts...      False  \n",
      "8   https://www.facebook.com/579518520992777/posts...      False  \n",
      "11  https://www.facebook.com/617429960430190/posts...      False  \n",
      "12  https://www.facebook.com/648601030634606/posts...      False  \n"
     ]
    }
   ],
   "source": [
    "# Step 1: Check Unique Values in 'Has_Emoji' Column\n",
    "unique_values = df['Has_Emoji'].unique()\n",
    "print(\"Unique values in 'Has_Emoji' column:\", unique_values)\n",
    "\n",
    "# Step 2: Inspect Data for Potential Issues\n",
    "# Check if there are any rows without emojis\n",
    "rows_with_emojis = df[df['Has_Emoji'] == True]\n",
    "rows_without_emojis = df[df['Has_Emoji'] == False]\n",
    "\n",
    "# Print sample rows with and without emojis\n",
    "print(\"Sample rows with emojis:\")\n",
    "print(rows_with_emojis.head())\n",
    "\n",
    "print(\"\\nSample rows without emojis:\")\n",
    "print(rows_without_emojis.head())\n",
    "\n",
    "# Step 3: Consider Alternative Analysis Approaches\n",
    "# If all rows have emojis, consider alternative analysis approaches\n",
    "if len(rows_without_emojis) == 0:\n",
    "    print(\"\\nAll rows have emojis. Consider alternative analysis approaches.\")\n",
    "\n",
    "    # Example: Analyze engagement based on other features\n",
    "    # For example, you can analyze engagement based on post length, sentiment, or other features in the dataset.\n",
    "\n",
    "# Step 4: Data Collection (Optional)\n",
    "# If the dataset is not representative, consider collecting additional data or refining the data collection process.\n"
   ]
  },
  {
   "cell_type": "code",
   "execution_count": 181,
   "metadata": {},
   "outputs": [
    {
     "name": "stdout",
     "output_type": "stream",
     "text": [
      "One or both groups have no data. Cannot perform Mann-Whitney U test.\n"
     ]
    }
   ],
   "source": [
    "# Filter DataFrame for rows where 'Has_Emoji' is \"True\"\n",
    "engagement_with_emojis = df[df['Has_Emoji'] == 'True']['engagement']\n",
    "\n",
    "# Filter DataFrame for rows where 'Has_Emoji' is \"False\"\n",
    "engagement_without_emojis = df[df['Has_Emoji'] == 'False']['engagement']\n",
    "\n",
    "# Check if both arrays have nonzero size\n",
    "if engagement_with_emojis.size == 0 or engagement_without_emojis.size == 0:\n",
    "    print(\"One or both groups have no data. Cannot perform Mann-Whitney U test.\")\n",
    "else:\n",
    "    # Perform the Mann-Whitney U test\n",
    "    statistic, p_value = mannwhitneyu(engagement_with_emojis, engagement_without_emojis)\n",
    "\n",
    "    # Interpret the results\n",
    "    alpha = 0.05  # Significance level\n",
    "    if p_value < alpha:\n",
    "        print(\"There is a statistically significant difference in engagement between posts with emojis and posts without emojis.\")\n",
    "    else:\n",
    "        print(\"There is no statistically significant difference in engagement between posts with emojis and posts without emojis.\")\n",
    "\n",
    "    # Print the test statistic and p-value\n",
    "    print(\"Mann-Whitney U statistic:\", statistic)\n",
    "    print(\"p-value:\", p_value)\n"
   ]
  },
  {
   "cell_type": "code",
   "execution_count": 182,
   "metadata": {},
   "outputs": [
    {
     "name": "stdout",
     "output_type": "stream",
     "text": [
      "One or both groups have no data. Cannot perform Mann-Whitney U test.\n"
     ]
    }
   ],
   "source": [
    "# Filter DataFrame for rows where 'Has_Emoji' is \"True\"\n",
    "engagement_with_emojis = df[df['Has_Emoji'] == 'True']['engagement']\n",
    "\n",
    "# Filter DataFrame for rows where 'Has_Emoji' is \"False\"\n",
    "engagement_without_emojis = df[df['Has_Emoji'] == 'False']['engagement']\n",
    "\n",
    "# Check if both arrays have nonzero size\n",
    "if engagement_with_emojis.size == 0 or engagement_without_emojis.size == 0:\n",
    "    print(\"One or both groups have no data. Cannot perform Mann-Whitney U test.\")\n",
    "else:\n",
    "    # Perform the Mann-Whitney U test\n",
    "    statistic, p_value = mannwhitneyu(engagement_with_emojis, engagement_without_emojis)\n",
    "\n",
    "    # Interpret the results\n",
    "    alpha = 0.05  # Significance level\n",
    "    if p_value < alpha:\n",
    "        print(\"There is a statistically significant difference in engagement between posts with emojis and posts without emojis.\")\n",
    "    else:\n",
    "        print(\"There is no statistically significant difference in engagement between posts with emojis and posts without emojis.\")\n",
    "\n",
    "    # Print the test statistic and p-value\n",
    "    print(\"Mann-Whitney U statistic:\", statistic)\n",
    "    print(\"p-value:\", p_value)\n"
   ]
  },
  {
   "cell_type": "code",
   "execution_count": 183,
   "metadata": {},
   "outputs": [
    {
     "name": "stdout",
     "output_type": "stream",
     "text": [
      "One or both groups have no data. Cannot perform Mann-Whitney U test.\n"
     ]
    }
   ],
   "source": [
    "######### Mann whitney u test:\n",
    "\n",
    "\n",
    "# Filter the DataFrame to select rows with 'Has_Emoji' == \"True\" and extract 'engagement' data\n",
    "engagement_with_emojis = df[df['Has_Emoji'] == \"True\"]['engagement']\n",
    "\n",
    "# Filter the DataFrame to select rows with 'Has_Emoji' == \"False\" and extract 'engagement' data\n",
    "engagement_without_emojis = df[df['Has_Emoji'] == \"False\"]['engagement']\n",
    "\n",
    "# Check if both arrays have nonzero size\n",
    "if engagement_with_emojis.size == 0 or engagement_without_emojis.size == 0:\n",
    "    print(\"One or both groups have no data. Cannot perform Mann-Whitney U test.\")\n",
    "else:\n",
    "    # Perform the Mann-Whitney U test\n",
    "    statistic, p_value = mannwhitneyu(engagement_with_emojis, engagement_without_emojis)\n",
    "\n",
    "    # Interpret the results\n",
    "    alpha = 0.05  # Significance level\n",
    "    if p_value < alpha:\n",
    "        print(\"There is a statistically significant difference in engagement between posts with emojis and posts without emojis.\")\n",
    "    else:\n",
    "        print(\"There is no statistically significant difference in engagement between posts with emojis and posts without emojis.\")\n",
    "\n",
    "    # Print the test statistic and p-value\n",
    "    print(\"Mann-Whitney U statistic:\", statistic)\n",
    "    print(\"p-value:\", p_value)\n"
   ]
  },
  {
   "cell_type": "code",
   "execution_count": 184,
   "metadata": {},
   "outputs": [
    {
     "name": "stdout",
     "output_type": "stream",
     "text": [
      "Unique values in 'Has_Emoji' column: [ True False]\n"
     ]
    }
   ],
   "source": [
    "unique_values = df['Has_Emoji'].unique()\n",
    "print(\"Unique values in 'Has_Emoji' column:\", unique_values)\n"
   ]
  },
  {
   "cell_type": "code",
   "execution_count": 185,
   "metadata": {},
   "outputs": [
    {
     "name": "stdout",
     "output_type": "stream",
     "text": [
      "Engagement with emojis: Series([], Name: engagement, dtype: float64)\n",
      "Engagement without emojis: Series([], Name: engagement, dtype: float64)\n"
     ]
    }
   ],
   "source": [
    "print(\"Engagement with emojis:\", engagement_with_emojis)\n",
    "print(\"Engagement without emojis:\", engagement_without_emojis)\n"
   ]
  },
  {
   "cell_type": "markdown",
   "metadata": {},
   "source": [
    "As the engagement data does not follow a normal distribution, we can still proceed with hypothesis testing using non-parametric methods, such as the Mann-Whitney U test."
   ]
  },
  {
   "cell_type": "markdown",
   "metadata": {},
   "source": [
    "Since you've already conducted the Mann-Whitney U test and obtained the test statistic and p-value, you can interpret the results accordingly."
   ]
  },
  {
   "cell_type": "code",
   "execution_count": 186,
   "metadata": {},
   "outputs": [
    {
     "data": {
      "image/png": "[encoded data removed]",
      "text/plain": [
       "<Figure size 640x480 with 1 Axes>"
      ]
     },
     "metadata": {},
     "output_type": "display_data"
    },
    {
     "data": {
      "image/png": "[encoded data removed]",
      "text/plain": [
       "<Figure size 800x600 with 1 Axes>"
      ]
     },
     "metadata": {},
     "output_type": "display_data"
    },
    {
     "data": {
      "image/png": "[encoded data removed]",
      "text/plain": [
       "<Figure size 800x600 with 1 Axes>"
      ]
     },
     "metadata": {},
     "output_type": "display_data"
    },
    {
     "name": "stdout",
     "output_type": "stream",
     "text": [
      "Shapiro-Wilk test p-values:\n",
      "Engagement with Emoji: 0.6090642213821411\n",
      "Engagement without Emoji: 0.9322986006736755\n",
      "Levene's test p-value: 0.08717631116004611\n"
     ]
    }
   ],
   "source": [
    "# 1. Check for independence - Not applicable as there's no pairing between groups\n",
    "\n",
    "# 2. Check for normality\n",
    "# Separate engagement based on Has_Emoji\n",
    "engagement_with_emoji = df_has_emoji[df_has_emoji['Has_Emoji']]['engagement']\n",
    "engagement_without_emoji = df_has_emoji[~df_has_emoji['Has_Emoji']]['engagement']\n",
    "\n",
    "# Visual inspection using histograms\n",
    "plt.hist(engagement_with_emoji, bins=20, alpha=0.5, label='With Emoji')\n",
    "plt.hist(engagement_without_emoji, bins=20, alpha=0.5, label='Without Emoji')\n",
    "plt.legend()\n",
    "plt.title('Engagement Distribution')\n",
    "plt.xlabel('Engagement')\n",
    "plt.ylabel('Frequency')\n",
    "plt.show()\n",
    "\n",
    "# Q-Q plot\n",
    "plt.figure(figsize=(8, 6))\n",
    "stats.probplot(engagement_with_emoji, dist=\"norm\", plot=plt)\n",
    "plt.title('Q-Q Plot - Engagement with Emoji')\n",
    "plt.show()\n",
    "\n",
    "plt.figure(figsize=(8, 6))\n",
    "stats.probplot(engagement_without_emoji, dist=\"norm\", plot=plt)\n",
    "plt.title('Q-Q Plot - Engagement without Emoji')\n",
    "plt.show()\n",
    "\n",
    "# Shapiro-Wilk test for normality\n",
    "_, p1 = stats.shapiro(engagement_with_emoji)\n",
    "_, p2 = stats.shapiro(engagement_without_emoji)\n",
    "print(\"Shapiro-Wilk test p-values:\")\n",
    "print(\"Engagement with Emoji:\", p1)\n",
    "print(\"Engagement without Emoji:\", p2)\n",
    "\n",
    "# 3. Check for homogeneity of variances\n",
    "# Levene's test\n",
    "_, p_levene = stats.levene(engagement_with_emoji, engagement_without_emoji)\n",
    "print(\"Levene's test p-value:\", p_levene)"
   ]
  },
  {
   "cell_type": "markdown",
   "metadata": {},
   "source": [
    "#### **Interpretation:**\n",
    "\n",
    "based on #\n",
    "\n"
   ]
  },
  {
   "cell_type": "code",
   "execution_count": 187,
   "metadata": {},
   "outputs": [
    {
     "name": "stdout",
     "output_type": "stream",
     "text": [
      "Column: engagement\n",
      "Mean for posts with emojis: 781068756584.1749\n",
      "Mean for posts without emojis: 777189956353.6964\n",
      "Independent samples t-test p-value: 0.8292006104585474\n",
      "\n"
     ]
    }
   ],
   "source": [
    "# Splitting the DataFrame into two groups based on the 'Has_Emoji' column\n",
    "emoji_true_group = df[df['Has_Emoji'] == True]\n",
    "emoji_false_group = df[df['Has_Emoji'] == False]\n",
    "\n",
    "# Extracting the columns for comparison\n",
    "columns_to_compare = ['engagement']\n",
    "\n",
    "# Performing independent samples t-test for each column\n",
    "for column in columns_to_compare:\n",
    "    try:\n",
    "        emoji_true_values = emoji_true_group[column]\n",
    "        emoji_false_values = emoji_false_group[column]\n",
    "        \n",
    "        t_statistic, p_value = stats.ttest_ind(emoji_true_values, emoji_false_values)\n",
    "        \n",
    "        print(f\"Column: {column}\")\n",
    "        print(f\"Mean for posts with emojis: {emoji_true_values.mean()}\")\n",
    "        print(f\"Mean for posts without emojis: {emoji_false_values.mean()}\")\n",
    "        print(f\"Independent samples t-test p-value: {p_value}\")\n",
    "        print()\n",
    "    except Exception as e:\n",
    "        print(f\"Error occurred in column: {column}\")\n",
    "        print(f\"Error message: {e}\")\n",
    "        print()"
   ]
  },
  {
   "cell_type": "markdown",
   "metadata": {},
   "source": [
    "## **Hypothesis 4.b**\n",
    "\n",
    "* H4.b (0): There is no difference in engagement between posts that use emotional emojis and posts that use semantic emojis.\n",
    "\n",
    "* H4.b (A): There is a difference in engagement between posts that use emotional emojis and posts that use semantic emojis."
   ]
  },
  {
   "cell_type": "markdown",
   "metadata": {},
   "source": [
    "#### **Data Preparation:**\n",
    "First, we need to separate the emojis into two groups: emotional and semantic emojis."
   ]
  },
  {
   "cell_type": "code",
   "execution_count": 188,
   "metadata": {},
   "outputs": [
    {
     "name": "stdout",
     "output_type": "stream",
     "text": [
      "Number of emotional emojis: 1703\n",
      "Number of semantic emojis: 7712\n"
     ]
    }
   ],
   "source": [
    "# Define the range for smileys & people emojis\n",
    "emotional_emoji_range = u\"\\U0001F600-\\U0001F64F\"\n",
    "\n",
    "# Function to extract emojis from text\n",
    "def extract_emojis(text):\n",
    "    return re.findall(r'[\\U0001F600-\\U0001F64F]', text)\n",
    "\n",
    "# Filter messages containing only emojis from the specified range\n",
    "def filter_emojis_by_range(text):\n",
    "    emojis = extract_emojis(text)\n",
    "    return any(ord(emoji) >= 0x1F600 and ord(emoji) <= 0x1F64F for emoji in emojis)\n",
    "\n",
    "# Engineer the new feature 'Emoji_Type' and assign the value 'Emotional' to all rows in the existing DataFrame 'df'\n",
    "df['Emoji_Type'] = df['message'].apply(lambda x: 'Emotional' if filter_emojis_by_range(x) else 'Semantic')\n",
    "\n",
    "# Replace 'Non-Emotional' with '' in 'Emoji_Type' column where 'Has_Emoji' is False\n",
    "df.loc[df['Has_Emoji'] == False, 'Emoji_Type'] = ''\n",
    "\n",
    "# Count the number of emotional and non-emotional emojis\n",
    "emotional_count = df[df['Emoji_Type'] == 'Emotional'].shape[0]\n",
    "non_emotional_count = df[df['Emoji_Type'] == 'Semantic'].shape[0]\n",
    "\n",
    "# Display the counts\n",
    "print(\"Number of emotional emojis:\", emotional_count)\n",
    "print(\"Number of semantic emojis:\", non_emotional_count)"
   ]
  },
  {
   "cell_type": "code",
   "execution_count": 189,
   "metadata": {},
   "outputs": [
    {
     "data": {
      "text/html": [
       "<div>\n",
       "<style scoped>\n",
       "    .dataframe tbody tr th:only-of-type {\n",
       "        vertical-align: middle;\n",
       "    }\n",
       "\n",
       "    .dataframe tbody tr th {\n",
       "        vertical-align: top;\n",
       "    }\n",
       "\n",
       "    .dataframe thead th {\n",
       "        text-align: right;\n",
       "    }\n",
       "</style>\n",
       "<table border=\"1\" class=\"dataframe\">\n",
       "  <thead>\n",
       "    <tr style=\"text-align: right;\">\n",
       "      <th></th>\n",
       "      <th>date</th>\n",
       "      <th>profile</th>\n",
       "      <th>message</th>\n",
       "      <th>nr_reactions</th>\n",
       "      <th>nr_comments</th>\n",
       "      <th>nr_shares</th>\n",
       "      <th>comments/post</th>\n",
       "      <th>post_interaction_rate</th>\n",
       "      <th>engagement</th>\n",
       "      <th>nr_likes</th>\n",
       "      <th>link_posts</th>\n",
       "      <th>picture_posts</th>\n",
       "      <th>video_posts</th>\n",
       "      <th>profile_id</th>\n",
       "      <th>post_id</th>\n",
       "      <th>link</th>\n",
       "      <th>Has_Emoji</th>\n",
       "      <th>Emoji_Type</th>\n",
       "    </tr>\n",
       "  </thead>\n",
       "  <tbody>\n",
       "    <tr>\n",
       "      <th>0</th>\n",
       "      <td>12/31/23 9:40 PM</td>\n",
       "      <td>Wild Adventures Theme Park</td>\n",
       "      <td>🎟️🚨 Today's the FINAL day to use your 2023 Sea...</td>\n",
       "      <td>16</td>\n",
       "      <td>2</td>\n",
       "      <td>2</td>\n",
       "      <td>2</td>\n",
       "      <td>1,09E+12</td>\n",
       "      <td>1.090000e+12</td>\n",
       "      <td>13</td>\n",
       "      <td>NaN</td>\n",
       "      <td>1.0</td>\n",
       "      <td>NaN</td>\n",
       "      <td>84679583132</td>\n",
       "      <td>84679583132_770120045161180</td>\n",
       "      <td>https://www.facebook.com/617429960430190/posts...</td>\n",
       "      <td>True</td>\n",
       "      <td>Semantic</td>\n",
       "    </tr>\n",
       "    <tr>\n",
       "      <th>1</th>\n",
       "      <td>12/31/23 8:01 PM</td>\n",
       "      <td>Fun Spot America</td>\n",
       "      <td>See you next year! 😉                Don’t miss...</td>\n",
       "      <td>38</td>\n",
       "      <td>1</td>\n",
       "      <td>2</td>\n",
       "      <td>1</td>\n",
       "      <td>4,17E+11</td>\n",
       "      <td>4.170000e+11</td>\n",
       "      <td>33</td>\n",
       "      <td>NaN</td>\n",
       "      <td>NaN</td>\n",
       "      <td>NaN</td>\n",
       "      <td>1,8402E+11</td>\n",
       "      <td>184020466977_767286052104076</td>\n",
       "      <td>https://www.facebook.com/653224623510220/posts...</td>\n",
       "      <td>True</td>\n",
       "      <td>Emotional</td>\n",
       "    </tr>\n",
       "    <tr>\n",
       "      <th>2</th>\n",
       "      <td>12/31/23 7:30 PM</td>\n",
       "      <td>Fun Spot America</td>\n",
       "      <td>Don't miss our HUGE firework display ! 🥳\\n\\n#f...</td>\n",
       "      <td>23</td>\n",
       "      <td>2</td>\n",
       "      <td>3</td>\n",
       "      <td>2</td>\n",
       "      <td>2,85E+11</td>\n",
       "      <td>2.850000e+11</td>\n",
       "      <td>21</td>\n",
       "      <td>NaN</td>\n",
       "      <td>NaN</td>\n",
       "      <td>1.0</td>\n",
       "      <td>1,8402E+11</td>\n",
       "      <td>184020466977_767267948772553</td>\n",
       "      <td>https://www.facebook.com/653224623510220/posts...</td>\n",
       "      <td>True</td>\n",
       "      <td>Semantic</td>\n",
       "    </tr>\n",
       "    <tr>\n",
       "      <th>3</th>\n",
       "      <td>12/31/23 7:00 PM</td>\n",
       "      <td>Disneyland Paris</td>\n",
       "      <td>Fijne jaarwisseling! 🥂🎉\\nEn tot volgend jaar 😉</td>\n",
       "      <td>646</td>\n",
       "      <td>52</td>\n",
       "      <td>12</td>\n",
       "      <td>56</td>\n",
       "      <td>1,36E+11</td>\n",
       "      <td>1.360000e+11</td>\n",
       "      <td>478</td>\n",
       "      <td>NaN</td>\n",
       "      <td>1.0</td>\n",
       "      <td>NaN</td>\n",
       "      <td>6,52389E+14</td>\n",
       "      <td>652389081615295_775974521237956</td>\n",
       "      <td>https://www.facebook.com/724434559725286/posts...</td>\n",
       "      <td>True</td>\n",
       "      <td>Emotional</td>\n",
       "    </tr>\n",
       "    <tr>\n",
       "      <th>4</th>\n",
       "      <td>12/31/23 7:00 PM</td>\n",
       "      <td>Silverwood Theme Park</td>\n",
       "      <td>It's the last day of our New Year's Sale! Save...</td>\n",
       "      <td>17</td>\n",
       "      <td>2</td>\n",
       "      <td>0</td>\n",
       "      <td>2</td>\n",
       "      <td>4,96E+11</td>\n",
       "      <td>4.960000e+11</td>\n",
       "      <td>16</td>\n",
       "      <td>NaN</td>\n",
       "      <td>NaN</td>\n",
       "      <td>1.0</td>\n",
       "      <td>7,62702E+14</td>\n",
       "      <td>762701550509617_678920137770716</td>\n",
       "      <td>https://www.facebook.com/562559642740100/posts...</td>\n",
       "      <td>False</td>\n",
       "      <td></td>\n",
       "    </tr>\n",
       "  </tbody>\n",
       "</table>\n",
       "</div>"
      ],
      "text/plain": [
       "               date                     profile  \\\n",
       "0  12/31/23 9:40 PM  Wild Adventures Theme Park   \n",
       "1  12/31/23 8:01 PM            Fun Spot America   \n",
       "2  12/31/23 7:30 PM            Fun Spot America   \n",
       "3  12/31/23 7:00 PM            Disneyland Paris   \n",
       "4  12/31/23 7:00 PM       Silverwood Theme Park   \n",
       "\n",
       "                                             message  nr_reactions  \\\n",
       "0  🎟️🚨 Today's the FINAL day to use your 2023 Sea...            16   \n",
       "1  See you next year! 😉                Don’t miss...            38   \n",
       "2  Don't miss our HUGE firework display ! 🥳\\n\\n#f...            23   \n",
       "3     Fijne jaarwisseling! 🥂🎉\\nEn tot volgend jaar 😉           646   \n",
       "4  It's the last day of our New Year's Sale! Save...            17   \n",
       "\n",
       "   nr_comments  nr_shares  comments/post post_interaction_rate    engagement  \\\n",
       "0            2          2              2              1,09E+12  1.090000e+12   \n",
       "1            1          2              1              4,17E+11  4.170000e+11   \n",
       "2            2          3              2              2,85E+11  2.850000e+11   \n",
       "3           52         12             56              1,36E+11  1.360000e+11   \n",
       "4            2          0              2              4,96E+11  4.960000e+11   \n",
       "\n",
       "   nr_likes  link_posts  picture_posts  video_posts   profile_id  \\\n",
       "0        13         NaN            1.0          NaN  84679583132   \n",
       "1        33         NaN            NaN          NaN   1,8402E+11   \n",
       "2        21         NaN            NaN          1.0   1,8402E+11   \n",
       "3       478         NaN            1.0          NaN  6,52389E+14   \n",
       "4        16         NaN            NaN          1.0  7,62702E+14   \n",
       "\n",
       "                           post_id  \\\n",
       "0      84679583132_770120045161180   \n",
       "1     184020466977_767286052104076   \n",
       "2     184020466977_767267948772553   \n",
       "3  652389081615295_775974521237956   \n",
       "4  762701550509617_678920137770716   \n",
       "\n",
       "                                                link  Has_Emoji Emoji_Type  \n",
       "0  https://www.facebook.com/617429960430190/posts...       True   Semantic  \n",
       "1  https://www.facebook.com/653224623510220/posts...       True  Emotional  \n",
       "2  https://www.facebook.com/653224623510220/posts...       True   Semantic  \n",
       "3  https://www.facebook.com/724434559725286/posts...       True  Emotional  \n",
       "4  https://www.facebook.com/562559642740100/posts...      False             "
      ]
     },
     "execution_count": 189,
     "metadata": {},
     "output_type": "execute_result"
    }
   ],
   "source": [
    "df.head(5)"
   ]
  },
  {
   "cell_type": "code",
   "execution_count": 190,
   "metadata": {},
   "outputs": [],
   "source": [
    "# For this test, we will only be looking at posts that have used emojis. Therefore, we are dropping the rows where 'Has_Emoji' is False.\n",
    "df = df[df['Has_Emoji']]"
   ]
  },
  {
   "cell_type": "markdown",
   "metadata": {},
   "source": [
    "#### **Test Selection:**\n",
    "Since the data in the 'engagement' column is not normally distributed, we'll use the Mann-Whitney U test, which is a non-parametric test suitable for comparing two independent groups."
   ]
  },
  {
   "cell_type": "markdown",
   "metadata": {},
   "source": [
    "#### **Performing the test:**"
   ]
  },
  {
   "cell_type": "code",
   "execution_count": 191,
   "metadata": {},
   "outputs": [
    {
     "name": "stdout",
     "output_type": "stream",
     "text": [
      "Mann-Whitney U test results:\n",
      "Statistic: 6150432.0\n",
      "p-value: 4.1102610793487064e-05\n"
     ]
    }
   ],
   "source": [
    "# Separate engagement data for emotional and semantic emoji groups\n",
    "engagement_emotional = df[df['Emoji_Type'] == 'Emotional']['engagement']\n",
    "engagement_semantic = df[df['Emoji_Type'] == 'Semantic']['engagement']\n",
    "\n",
    "# Perform Mann-Whitney U test\n",
    "statistic, p_value = mannwhitneyu(engagement_emotional, engagement_semantic)\n",
    "\n",
    "# Display the test results\n",
    "print(\"Mann-Whitney U test results:\")\n",
    "print(\"Statistic:\", statistic)\n",
    "print(\"p-value:\", p_value)"
   ]
  },
  {
   "cell_type": "markdown",
   "metadata": {},
   "source": [
    "In the results, the p-value is very small (`4.11e-05`), indicating strong evidence against the null hypothesis. This suggests that there is a statistically significant difference between the two groups being compared. "
   ]
  },
  {
   "cell_type": "code",
   "execution_count": 192,
   "metadata": {},
   "outputs": [
    {
     "data": {
      "image/png": "[encoded data removed]",
      "text/plain": [
       "<Figure size 800x600 with 1 Axes>"
      ]
     },
     "metadata": {},
     "output_type": "display_data"
    }
   ],
   "source": [
    "# Define custom palette with neon light blue and a lighter shade of blue\n",
    "custom_palette = [\"#00FFFF\", \"#3399FF\"]  # Neon light blue, Lighter shade of blue\n",
    "\n",
    "# Create a box plot with custom palette\n",
    "plt.figure(figsize=(8, 6))\n",
    "sns.boxplot(x='Emoji_Type', y='engagement', data=df, palette=custom_palette)\n",
    "plt.title('Engagement by Emoji Type')\n",
    "plt.xlabel('Emoji Type')\n",
    "plt.ylabel('Engagement')\n",
    "plt.show()"
   ]
  },
  {
   "cell_type": "markdown",
   "metadata": {},
   "source": [
    "#### **Interpretations of results**"
   ]
  },
  {
   "cell_type": "code",
   "execution_count": 193,
   "metadata": {},
   "outputs": [
    {
     "name": "stdout",
     "output_type": "stream",
     "text": [
      "Reject the null hypothesis: There is a significant difference in engagement between emotional and semantic emoji groups.\n"
     ]
    }
   ],
   "source": [
    "if p_value < 0.05:\n",
    "    print(\"Reject the null hypothesis: There is a significant difference in engagement between emotional and semantic emoji groups.\")\n",
    "else:\n",
    "    print(\"Fail to reject the null hypothesis: There is no significant difference in engagement between emotional and semantic emoji groups.\")"
   ]
  }
 ],
 "metadata": {
  "kernelspec": {
   "display_name": "base",
   "language": "python",
   "name": "python3"
  },
  "language_info": {
   "codemirror_mode": {
    "name": "ipython",
    "version": 3
   },
   "file_extension": ".py",
   "mimetype": "text/x-python",
   "name": "python",
   "nbconvert_exporter": "python",
   "pygments_lexer": "ipython3",
   "version": "3.11.4"
  }
 },
 "nbformat": 4,
 "nbformat_minor": 2
}
