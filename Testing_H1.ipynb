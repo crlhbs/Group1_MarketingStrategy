{
 "cells": [
  {
   "cell_type": "code",
   "execution_count": 46,
   "metadata": {},
   "outputs": [],
   "source": [
    "import pandas as pd"
   ]
  },
  {
   "cell_type": "code",
   "execution_count": 47,
   "metadata": {},
   "outputs": [
    {
     "name": "stdout",
     "output_type": "stream",
     "text": [
      "Original length of dataframe: 15443\n"
     ]
    },
    {
     "data": {
      "text/html": [
       "<div>\n",
       "<style scoped>\n",
       "    .dataframe tbody tr th:only-of-type {\n",
       "        vertical-align: middle;\n",
       "    }\n",
       "\n",
       "    .dataframe tbody tr th {\n",
       "        vertical-align: top;\n",
       "    }\n",
       "\n",
       "    .dataframe thead th {\n",
       "        text-align: right;\n",
       "    }\n",
       "</style>\n",
       "<table border=\"1\" class=\"dataframe\">\n",
       "  <thead>\n",
       "    <tr style=\"text-align: right;\">\n",
       "      <th></th>\n",
       "      <th>Date</th>\n",
       "      <th>Profile</th>\n",
       "      <th>Message</th>\n",
       "      <th>Number of Reactions</th>\n",
       "      <th>Number of Shares</th>\n",
       "      <th>Number of Comments (primary)</th>\n",
       "      <th>Number of Shares.1</th>\n",
       "      <th>Comments per post</th>\n",
       "      <th>Comments on posts by fans</th>\n",
       "      <th>Post interaction rate</th>\n",
       "      <th>Engagement</th>\n",
       "      <th>Number of Likes</th>\n",
       "      <th>Link-posts</th>\n",
       "      <th>Picture Posts</th>\n",
       "      <th>Video-posts</th>\n",
       "      <th>Profile-ID</th>\n",
       "      <th>Post-ID</th>\n",
       "      <th>Link</th>\n",
       "    </tr>\n",
       "  </thead>\n",
       "  <tbody>\n",
       "    <tr>\n",
       "      <th>0</th>\n",
       "      <td>12/31/23 9:40 PM</td>\n",
       "      <td>Wild Adventures Theme Park</td>\n",
       "      <td>🎟️🚨 Today's the FINAL day to use your 2023 Sea...</td>\n",
       "      <td>16.0</td>\n",
       "      <td>NaN</td>\n",
       "      <td>2.0</td>\n",
       "      <td>2.0</td>\n",
       "      <td>2.0</td>\n",
       "      <td>2.0</td>\n",
       "      <td>1,09E+12</td>\n",
       "      <td>1,09E+12</td>\n",
       "      <td>13.0</td>\n",
       "      <td>NaN</td>\n",
       "      <td>1.0</td>\n",
       "      <td>NaN</td>\n",
       "      <td>84679583132</td>\n",
       "      <td>84679583132_770120045161180</td>\n",
       "      <td>https://www.facebook.com/617429960430190/posts...</td>\n",
       "    </tr>\n",
       "    <tr>\n",
       "      <th>1</th>\n",
       "      <td>12/31/23 8:01 PM</td>\n",
       "      <td>Fun Spot America</td>\n",
       "      <td>See you next year! 😉                Don’t miss...</td>\n",
       "      <td>38.0</td>\n",
       "      <td>NaN</td>\n",
       "      <td>1.0</td>\n",
       "      <td>2.0</td>\n",
       "      <td>1.0</td>\n",
       "      <td>1.0</td>\n",
       "      <td>4,17E+11</td>\n",
       "      <td>4,17E+11</td>\n",
       "      <td>33.0</td>\n",
       "      <td>NaN</td>\n",
       "      <td>NaN</td>\n",
       "      <td>NaN</td>\n",
       "      <td>1,8402E+11</td>\n",
       "      <td>184020466977_767286052104076</td>\n",
       "      <td>https://www.facebook.com/653224623510220/posts...</td>\n",
       "    </tr>\n",
       "    <tr>\n",
       "      <th>2</th>\n",
       "      <td>12/31/23 7:30 PM</td>\n",
       "      <td>Fun Spot America</td>\n",
       "      <td>Don't miss our HUGE firework display ! 🥳\\n\\n#f...</td>\n",
       "      <td>23.0</td>\n",
       "      <td>NaN</td>\n",
       "      <td>2.0</td>\n",
       "      <td>3.0</td>\n",
       "      <td>2.0</td>\n",
       "      <td>2.0</td>\n",
       "      <td>2,85E+11</td>\n",
       "      <td>2,85E+11</td>\n",
       "      <td>21.0</td>\n",
       "      <td>NaN</td>\n",
       "      <td>NaN</td>\n",
       "      <td>1.0</td>\n",
       "      <td>1,8402E+11</td>\n",
       "      <td>184020466977_767267948772553</td>\n",
       "      <td>https://www.facebook.com/653224623510220/posts...</td>\n",
       "    </tr>\n",
       "    <tr>\n",
       "      <th>3</th>\n",
       "      <td>12/31/23 7:00 PM</td>\n",
       "      <td>Disneyland Paris</td>\n",
       "      <td>Fijne jaarwisseling! 🥂🎉\\nEn tot volgend jaar 😉</td>\n",
       "      <td>646.0</td>\n",
       "      <td>NaN</td>\n",
       "      <td>52.0</td>\n",
       "      <td>12.0</td>\n",
       "      <td>56.0</td>\n",
       "      <td>56.0</td>\n",
       "      <td>1,36E+11</td>\n",
       "      <td>1,36E+11</td>\n",
       "      <td>478.0</td>\n",
       "      <td>NaN</td>\n",
       "      <td>1.0</td>\n",
       "      <td>NaN</td>\n",
       "      <td>6,52389E+14</td>\n",
       "      <td>652389081615295_775974521237956</td>\n",
       "      <td>https://www.facebook.com/724434559725286/posts...</td>\n",
       "    </tr>\n",
       "    <tr>\n",
       "      <th>4</th>\n",
       "      <td>12/31/23 7:00 PM</td>\n",
       "      <td>Silverwood Theme Park</td>\n",
       "      <td>It's the last day of our New Year's Sale! Save...</td>\n",
       "      <td>17.0</td>\n",
       "      <td>NaN</td>\n",
       "      <td>2.0</td>\n",
       "      <td>0.0</td>\n",
       "      <td>2.0</td>\n",
       "      <td>2.0</td>\n",
       "      <td>4,96E+11</td>\n",
       "      <td>4,96E+11</td>\n",
       "      <td>16.0</td>\n",
       "      <td>NaN</td>\n",
       "      <td>NaN</td>\n",
       "      <td>1.0</td>\n",
       "      <td>7,62702E+14</td>\n",
       "      <td>762701550509617_678920137770716</td>\n",
       "      <td>https://www.facebook.com/562559642740100/posts...</td>\n",
       "    </tr>\n",
       "  </tbody>\n",
       "</table>\n",
       "</div>"
      ],
      "text/plain": [
       "               Date                     Profile  \\\n",
       "0  12/31/23 9:40 PM  Wild Adventures Theme Park   \n",
       "1  12/31/23 8:01 PM            Fun Spot America   \n",
       "2  12/31/23 7:30 PM            Fun Spot America   \n",
       "3  12/31/23 7:00 PM            Disneyland Paris   \n",
       "4  12/31/23 7:00 PM       Silverwood Theme Park   \n",
       "\n",
       "                                             Message  Number of Reactions  \\\n",
       "0  🎟️🚨 Today's the FINAL day to use your 2023 Sea...                 16.0   \n",
       "1  See you next year! 😉                Don’t miss...                 38.0   \n",
       "2  Don't miss our HUGE firework display ! 🥳\\n\\n#f...                 23.0   \n",
       "3     Fijne jaarwisseling! 🥂🎉\\nEn tot volgend jaar 😉                646.0   \n",
       "4  It's the last day of our New Year's Sale! Save...                 17.0   \n",
       "\n",
       "   Number of Shares  Number of Comments (primary)  Number of Shares.1  \\\n",
       "0               NaN                           2.0                 2.0   \n",
       "1               NaN                           1.0                 2.0   \n",
       "2               NaN                           2.0                 3.0   \n",
       "3               NaN                          52.0                12.0   \n",
       "4               NaN                           2.0                 0.0   \n",
       "\n",
       "   Comments per post  Comments on posts by fans Post interaction rate  \\\n",
       "0                2.0                        2.0              1,09E+12   \n",
       "1                1.0                        1.0              4,17E+11   \n",
       "2                2.0                        2.0              2,85E+11   \n",
       "3               56.0                       56.0              1,36E+11   \n",
       "4                2.0                        2.0              4,96E+11   \n",
       "\n",
       "  Engagement  Number of Likes  Link-posts  Picture Posts  Video-posts  \\\n",
       "0   1,09E+12             13.0         NaN            1.0          NaN   \n",
       "1   4,17E+11             33.0         NaN            NaN          NaN   \n",
       "2   2,85E+11             21.0         NaN            NaN          1.0   \n",
       "3   1,36E+11            478.0         NaN            1.0          NaN   \n",
       "4   4,96E+11             16.0         NaN            NaN          1.0   \n",
       "\n",
       "    Profile-ID                          Post-ID  \\\n",
       "0  84679583132      84679583132_770120045161180   \n",
       "1   1,8402E+11     184020466977_767286052104076   \n",
       "2   1,8402E+11     184020466977_767267948772553   \n",
       "3  6,52389E+14  652389081615295_775974521237956   \n",
       "4  7,62702E+14  762701550509617_678920137770716   \n",
       "\n",
       "                                                Link  \n",
       "0  https://www.facebook.com/617429960430190/posts...  \n",
       "1  https://www.facebook.com/653224623510220/posts...  \n",
       "2  https://www.facebook.com/653224623510220/posts...  \n",
       "3  https://www.facebook.com/724434559725286/posts...  \n",
       "4  https://www.facebook.com/562559642740100/posts...  "
      ]
     },
     "execution_count": 47,
     "metadata": {},
     "output_type": "execute_result"
    }
   ],
   "source": [
    "df = pd.read_csv(r\"C:\\Users\\matth\\Desktop\\Master\\teamAverage\\Combined_Themeparks.csv\")\n",
    "print('Original length of dataframe:', len(df))\n",
    "df.head()"
   ]
  },
  {
   "cell_type": "code",
   "execution_count": 48,
   "metadata": {},
   "outputs": [
    {
     "name": "stdout",
     "output_type": "stream",
     "text": [
      "0        12/31/23 9:40 PM\n",
      "1        12/31/23 8:01 PM\n",
      "2        12/31/23 7:30 PM\n",
      "3        12/31/23 7:00 PM\n",
      "4        12/31/23 7:00 PM\n",
      "               ...       \n",
      "15438    01/01/2023 02:00\n",
      "15439    01/01/2023 01:20\n",
      "15440    01/01/2023 00:01\n",
      "15441    01/01/2023 00:00\n",
      "15442    01/01/2023 00:00\n",
      "Name: Date, Length: 15443, dtype: object\n"
     ]
    }
   ],
   "source": [
    "# Extract the 'Date' column\n",
    "date_column = df['Date']\n",
    "\n",
    "# Display the 'Date' column\n",
    "print(date_column)"
   ]
  },
  {
   "cell_type": "markdown",
   "metadata": {},
   "source": [
    "Split up the time of day in morning, afternoon and evening"
   ]
  },
  {
   "cell_type": "code",
   "execution_count": 49,
   "metadata": {},
   "outputs": [
    {
     "name": "stderr",
     "output_type": "stream",
     "text": [
      "C:\\Users\\matth\\AppData\\Local\\Temp\\ipykernel_19196\\3430098498.py:6: UserWarning: Could not infer format, so each element will be parsed individually, falling back to `dateutil`. To ensure parsing is consistent and as-expected, please specify a format.\n",
      "  df['DateTime'] = pd.to_datetime(split_date_time['Date'] + ' ' + split_date_time['Time'])\n"
     ]
    },
    {
     "name": "stdout",
     "output_type": "stream",
     "text": [
      "                   Date            DateTime Day of Week Time of Day\n",
      "0      12/31/23 9:40 PM 2023-12-31 21:40:00      Sunday     Evening\n",
      "1      12/31/23 8:01 PM 2023-12-31 20:01:00      Sunday     Evening\n",
      "2      12/31/23 7:30 PM 2023-12-31 19:30:00      Sunday     Evening\n",
      "3      12/31/23 7:00 PM 2023-12-31 19:00:00      Sunday     Evening\n",
      "4      12/31/23 7:00 PM 2023-12-31 19:00:00      Sunday     Evening\n",
      "...                 ...                 ...         ...         ...\n",
      "15438  01/01/2023 02:00 2023-01-01 02:00:00      Sunday     Morning\n",
      "15439  01/01/2023 01:20 2023-01-01 01:20:00      Sunday     Morning\n",
      "15440  01/01/2023 00:01 2023-01-01 00:01:00      Sunday     Morning\n",
      "15441  01/01/2023 00:00 2023-01-01 00:00:00      Sunday     Morning\n",
      "15442  01/01/2023 00:00 2023-01-01 00:00:00      Sunday     Morning\n",
      "\n",
      "[15443 rows x 4 columns]\n"
     ]
    }
   ],
   "source": [
    "# Split the 'Date' column into 'Date' and 'Time' columns\n",
    "split_date_time = df['Date'].str.split(' ', n=1, expand=True)\n",
    "split_date_time.columns = ['Date', 'Time']\n",
    "\n",
    "# Combine date and time to create a datetime column\n",
    "df['DateTime'] = pd.to_datetime(split_date_time['Date'] + ' ' + split_date_time['Time'])\n",
    "\n",
    "# Categorize dates into days of the week (Monday to Sunday)\n",
    "def categorize_day_of_week(date):\n",
    "    return date.strftime('%A')  # Returns the day of the week as a string\n",
    "\n",
    "# Apply categorization to create a new column 'Day of Week'\n",
    "df['Day of Week'] = df['DateTime'].apply(categorize_day_of_week)\n",
    "\n",
    "# Categorize times into morning, afternoon, and evening\n",
    "def categorize_time(time):\n",
    "    if time.hour < 12:\n",
    "        return 'Morning'\n",
    "    elif time.hour < 18:\n",
    "        return 'Afternoon'\n",
    "    else:\n",
    "        return 'Evening'\n",
    "\n",
    "# Apply categorization to create a new column 'Time of Day'\n",
    "df['Time of Day'] = df['DateTime'].apply(categorize_time)\n",
    "\n",
    "# Display the result\n",
    "print(df[['Date', 'DateTime', 'Day of Week', 'Time of Day']])"
   ]
  },
  {
   "cell_type": "markdown",
   "metadata": {},
   "source": [
    "Calculate the engagement"
   ]
  },
  {
   "cell_type": "code",
   "execution_count": 50,
   "metadata": {},
   "outputs": [
    {
     "name": "stdout",
     "output_type": "stream",
     "text": [
      "                   Date                                    Profile  \\\n",
      "0      12/31/23 9:40 PM                 Wild Adventures Theme Park   \n",
      "1      12/31/23 8:01 PM                           Fun Spot America   \n",
      "2      12/31/23 7:30 PM                           Fun Spot America   \n",
      "3      12/31/23 7:00 PM                           Disneyland Paris   \n",
      "4      12/31/23 7:00 PM                      Silverwood Theme Park   \n",
      "...                 ...                                        ...   \n",
      "15438  01/01/2023 02:00                 Wild Adventures Theme Park   \n",
      "15439  01/01/2023 01:20                                   Playland   \n",
      "15440  01/01/2023 00:01                           Disneyland Paris   \n",
      "15441  01/01/2023 00:00  Six Flags Over Georgia & Hurricane Harbor   \n",
      "15442  01/01/2023 00:00                         Knott's Berry Farm   \n",
      "\n",
      "      Time of Day Engagement  \n",
      "0         Evening   1,09E+12  \n",
      "1         Evening   4,17E+11  \n",
      "2         Evening   2,85E+11  \n",
      "3         Evening   1,36E+11  \n",
      "4         Evening   4,96E+11  \n",
      "...           ...        ...  \n",
      "15438     Morning   1,25E+11  \n",
      "15439     Morning   2,46E+09  \n",
      "15440     Morning   1,75E+12  \n",
      "15441     Morning   1,42E+12  \n",
      "15442     Morning   8,60E+11  \n",
      "\n",
      "[15443 rows x 4 columns]\n"
     ]
    }
   ],
   "source": [
    "# Calculate Total Interactions (Engagement)\n",
    "#df['Engagement'] = df['Number of Reactions'].fillna(0) + df['Number of Shares'].fillna(0) + df['Number of Comments (primary)'].fillna(0)\n",
    "\n",
    "# Displaying the calculated engagement metric along with other relevant columns\n",
    "print(df[['Date', 'Profile', 'Time of Day', 'Engagement']])"
   ]
  },
  {
   "cell_type": "code",
   "execution_count": 51,
   "metadata": {},
   "outputs": [],
   "source": [
    "# Remove the comma from the string and convert it to a float\n",
    "df['Engagement'] = df['Engagement'].str.replace(',', '.').astype(float)"
   ]
  },
  {
   "cell_type": "markdown",
   "metadata": {},
   "source": [
    "import pandas as pd\n",
    "from scipy.stats import f_oneway\n",
    "\n",
    "# Assuming 'df' is your DataFrame containing the dataset\n",
    "\n",
    "# Perform ANOVA test\n",
    "result = f_oneway(\n",
    "    df[df['Time of Day'] == 'Morning']['Engagement'].dropna(),\n",
    "    df[df['Time of Day'] == 'Afternoon']['Engagement'].dropna(),\n",
    "    df[df['Time of Day'] == 'Evening']['Engagement'].dropna()\n",
    ")\n",
    "\n",
    "# Display ANOVA test results\n",
    "print(\"ANOVA Test Results:\")\n",
    "print(\"F-statistic:\", result.statistic)\n",
    "print(\"p-value:\", result.pvalue)\n",
    "\n",
    "# Interpret the results\n",
    "alpha = 0.05  # significance level\n",
    "if result.pvalue < alpha:\n",
    "    print(\"The p-value is less than\", alpha, \"so we reject the null hypothesis.\")\n",
    "    print(\"There is evidence to suggest that post time significantly affects user engagement in Facebook posts.\")\n",
    "else:\n",
    "    print(\"The p-value is greater than or equal to\", alpha, \"so we fail to reject the null hypothesis.\")\n",
    "    print(\"There is no significant evidence to suggest that post time affects user engagement in Facebook posts.\")\n"
   ]
  },
  {
   "cell_type": "code",
   "execution_count": 52,
   "metadata": {},
   "outputs": [
    {
     "name": "stdout",
     "output_type": "stream",
     "text": [
      "Index(['Date', 'Profile', 'Message', 'Number of Reactions', 'Number of Shares',\n",
      "       'Number of Comments (primary)', 'Number of Shares.1',\n",
      "       'Comments per post', 'Comments on posts by fans',\n",
      "       'Post interaction rate', 'Engagement', 'Number of Likes', 'Link-posts',\n",
      "       'Picture Posts', 'Video-posts', 'Profile-ID', 'Post-ID', 'Link',\n",
      "       'DateTime', 'Day of Week', 'Time of Day'],\n",
      "      dtype='object')\n"
     ]
    }
   ],
   "source": [
    "# Print column names in the DataFrame\n",
    "print(df.columns)\n"
   ]
  },
  {
   "cell_type": "code",
   "execution_count": 53,
   "metadata": {},
   "outputs": [
    {
     "name": "stdout",
     "output_type": "stream",
     "text": [
      "Unique Weekdays:\n",
      "Sunday\n",
      "Saturday\n",
      "Friday\n",
      "Thursday\n",
      "Wednesday\n",
      "Tuesday\n",
      "Monday\n"
     ]
    }
   ],
   "source": [
    "# Extract unique weekdays\n",
    "unique_weekdays = df['Day of Week'].unique()\n",
    "\n",
    "# Display the unique weekdays\n",
    "print(\"Unique Weekdays:\")\n",
    "for weekday in unique_weekdays:\n",
    "    print(weekday)"
   ]
  },
  {
   "cell_type": "code",
   "execution_count": 54,
   "metadata": {},
   "outputs": [
    {
     "name": "stdout",
     "output_type": "stream",
     "text": [
      "Unique Times of Day:\n",
      "Evening\n",
      "Afternoon\n",
      "Morning\n"
     ]
    }
   ],
   "source": [
    "# Extract unique times of the day\n",
    "unique_times_of_day = df['Time of Day'].unique()\n",
    "\n",
    "# Display the unique times of the day\n",
    "print(\"Unique Times of Day:\")\n",
    "for time_of_day in unique_times_of_day:\n",
    "    print(time_of_day)"
   ]
  },
  {
   "cell_type": "code",
   "execution_count": 55,
   "metadata": {},
   "outputs": [
    {
     "data": {
      "image/png": "[encoded data removed]",
      "text/plain": [
       "<Figure size 1200x400 with 3 Axes>"
      ]
     },
     "metadata": {},
     "output_type": "display_data"
    }
   ],
   "source": [
    "import seaborn as sns\n",
    "import matplotlib.pyplot as plt\n",
    "\n",
    "# Set the style of the seaborn plots\n",
    "sns.set_style(\"whitegrid\")\n",
    "\n",
    "# Create a facet grid of histograms\n",
    "g = sns.FacetGrid(df, col='Time of Day', col_wrap=3, height=4)\n",
    "g.map(plt.hist, 'Engagement', bins=20, color='skyblue', alpha=0.7)\n",
    "\n",
    "# Set labels and titles\n",
    "g.set_axis_labels(\"Engagement\", \"Frequency\")\n",
    "g.set_titles(\"Time of Day: {col_name}\")\n",
    "\n",
    "# Show the plot\n",
    "plt.show()\n"
   ]
  },
  {
   "cell_type": "code",
   "execution_count": 56,
   "metadata": {},
   "outputs": [
    {
     "data": {
      "image/png": "[encoded data removed]",
      "text/plain": [
       "<Figure size 1000x600 with 1 Axes>"
      ]
     },
     "metadata": {},
     "output_type": "display_data"
    }
   ],
   "source": [
    "import seaborn as sns\n",
    "import matplotlib.pyplot as plt\n",
    "\n",
    "# Create box plot\n",
    "plt.figure(figsize=(10, 6))\n",
    "sns.boxplot(x='Time of Day', y='Engagement', data=df)\n",
    "plt.title('Engagement Across Different Times of the Day')\n",
    "plt.xlabel('Time of Day')\n",
    "plt.ylabel('Engagement')\n",
    "plt.show()"
   ]
  },
  {
   "cell_type": "code",
   "execution_count": 57,
   "metadata": {},
   "outputs": [
    {
     "data": {
      "image/png": "[encoded data removed]",
      "text/plain": [
       "<Figure size 1000x600 with 1 Axes>"
      ]
     },
     "metadata": {},
     "output_type": "display_data"
    }
   ],
   "source": [
    "# Create histogram\n",
    "plt.figure(figsize=(10, 6))\n",
    "sns.histplot(df['Engagement'], bins=20, kde=True)\n",
    "plt.title('Distribution of Engagement')\n",
    "plt.xlabel('Engagement')\n",
    "plt.ylabel('Frequency')\n",
    "plt.show()\n"
   ]
  },
  {
   "cell_type": "markdown",
   "metadata": {},
   "source": [
    "Shapiro-Wilk test to see if the data is normally distributed"
   ]
  },
  {
   "cell_type": "code",
   "execution_count": 58,
   "metadata": {},
   "outputs": [
    {
     "name": "stdout",
     "output_type": "stream",
     "text": [
      "Shapiro-Wilk Test Results:\n",
      "Test Statistic: 0.7344926595687866\n",
      "p-value: 0.0\n",
      "The data does not follow a normal distribution (reject the null hypothesis).\n"
     ]
    },
    {
     "name": "stderr",
     "output_type": "stream",
     "text": [
      "c:\\Users\\matth\\AppData\\Local\\Programs\\Python\\Python312\\Lib\\site-packages\\scipy\\stats\\_morestats.py:1882: UserWarning: p-value may not be accurate for N > 5000.\n",
      "  warnings.warn(\"p-value may not be accurate for N > 5000.\")\n"
     ]
    }
   ],
   "source": [
    "from scipy.stats import shapiro\n",
    "\n",
    "# Shapiro-Wilk test for normality\n",
    "statistic, p_value = shapiro(df['Engagement'])\n",
    "\n",
    "# Display the test result\n",
    "print(\"Shapiro-Wilk Test Results:\")\n",
    "print(\"Test Statistic:\", statistic)\n",
    "print(\"p-value:\", p_value)\n",
    "\n",
    "# Interpretation\n",
    "alpha = 0.05  # significance level\n",
    "if p_value > alpha:\n",
    "    print(\"The data follows a normal distribution (fail to reject the null hypothesis).\")\n",
    "else:\n",
    "    print(\"The data does not follow a normal distribution (reject the null hypothesis).\")\n"
   ]
  },
  {
   "cell_type": "markdown",
   "metadata": {},
   "source": [
    "levene test to look at the homogeneity of varianc"
   ]
  },
  {
   "cell_type": "code",
   "execution_count": 59,
   "metadata": {},
   "outputs": [
    {
     "name": "stdout",
     "output_type": "stream",
     "text": [
      "Levene's Test Results:\n",
      "Test Statistic: 2.530363623271553\n",
      "p-value: 0.07966308072019027\n",
      "The variances are approximately equal across groups (fail to reject the null hypothesis).\n"
     ]
    }
   ],
   "source": [
    "from scipy.stats import levene\n",
    "\n",
    "# Levene's test for homogeneity of variance\n",
    "statistic, p_value = levene(\n",
    "    df[df['Time of Day'] == 'Morning']['Engagement'].dropna(),\n",
    "    df[df['Time of Day'] == 'Afternoon']['Engagement'].dropna(),\n",
    "    df[df['Time of Day'] == 'Evening']['Engagement'].dropna()\n",
    ")\n",
    "\n",
    "# Display the test result\n",
    "print(\"Levene's Test Results:\")\n",
    "print(\"Test Statistic:\", statistic)\n",
    "print(\"p-value:\", p_value)\n",
    "\n",
    "# Interpretation\n",
    "alpha = 0.05  # significance level\n",
    "if p_value > alpha:\n",
    "    print(\"The variances are approximately equal across groups (fail to reject the null hypothesis).\")\n",
    "else:\n",
    "    print(\"The variances are significantly different across groups (reject the null hypothesis).\")\n"
   ]
  },
  {
   "cell_type": "markdown",
   "metadata": {},
   "source": [
    "Anova test to check"
   ]
  },
  {
   "cell_type": "code",
   "execution_count": 60,
   "metadata": {},
   "outputs": [
    {
     "name": "stdout",
     "output_type": "stream",
     "text": [
      "ANOVA Test Results:\n",
      "F-statistic: 3.253911346266927\n",
      "p-value: 0.03864933184048914\n",
      "\n",
      "Post Hoc Analysis (Tukey's HSD):\n",
      "                Multiple Comparison of Means - Tukey HSD, FWER=0.05                 \n",
      "====================================================================================\n",
      "  group1   group2      meandiff     p-adj        lower            upper       reject\n",
      "------------------------------------------------------------------------------------\n",
      "Afternoon Evening -43912812942.1626 0.0858 -92458264002.4872   4632638118.162  False\n",
      "Afternoon Morning    2377163455.635 0.9955 -59492387572.1784 64246714483.4484  False\n",
      "  Evening Morning  46289976397.7976 0.1188  -8687207139.8298 101267159935.425  False\n",
      "------------------------------------------------------------------------------------\n",
      "\n",
      "There is no significant difference between morning and afternoon posts.\n"
     ]
    }
   ],
   "source": [
    "import pandas as pd\n",
    "from scipy.stats import f_oneway\n",
    "from statsmodels.stats.multicomp import pairwise_tukeyhsd\n",
    "# Perform ANOVA test\n",
    "result_anova = f_oneway(\n",
    "    df[df['Time of Day'] == 'Morning']['Engagement'].dropna(),\n",
    "    df[df['Time of Day'] == 'Afternoon']['Engagement'].dropna(),\n",
    "    df[df['Time of Day'] == 'Evening']['Engagement'].dropna()\n",
    ")\n",
    "\n",
    "# Display ANOVA test results\n",
    "print(\"ANOVA Test Results:\")\n",
    "print(\"F-statistic:\", result_anova.statistic)\n",
    "print(\"p-value:\", result_anova.pvalue)\n",
    "\n",
    "# Perform post hoc analysis (Tukey's HSD)\n",
    "if result_anova.pvalue < 0.05:  # Check if ANOVA result is significant\n",
    "    posthoc = pairwise_tukeyhsd(df['Engagement'], df['Time of Day'], alpha=0.05)\n",
    "    print(\"\\nPost Hoc Analysis (Tukey's HSD):\")\n",
    "    print(posthoc)\n",
    "\n",
    "    # Interpretation\n",
    "    morning_vs_afternoon = posthoc.reject[0]  # Compare morning vs afternoon\n",
    "    if morning_vs_afternoon:\n",
    "        print(\"\\nThere is a significant difference between morning and afternoon posts.\")\n",
    "    else:\n",
    "        print(\"\\nThere is no significant difference between morning and afternoon posts.\")\n",
    "else:\n",
    "    print(\"\\nNo significant difference among time periods.\")\n"
   ]
  },
  {
   "cell_type": "markdown",
   "metadata": {},
   "source": [
    "Welch Anova test"
   ]
  },
  {
   "cell_type": "code",
   "execution_count": 61,
   "metadata": {},
   "outputs": [
    {
     "name": "stdout",
     "output_type": "stream",
     "text": [
      "Welch's ANOVA Test Results:\n",
      "        Source  ddof1        ddof2         F     p-unc       np2\n",
      "0  Time of Day      2  6913.670663  3.243358  0.039092  0.000421\n"
     ]
    }
   ],
   "source": [
    "import pingouin as pg\n",
    "\n",
    "# Perform Welch's ANOVA test\n",
    "result_welch_anova = pg.welch_anova(\n",
    "    data=df,\n",
    "    dv='Engagement',\n",
    "    between='Time of Day'\n",
    ")\n",
    "\n",
    "# Display Welch's ANOVA test results\n",
    "print(\"Welch's ANOVA Test Results:\")\n",
    "print(result_welch_anova)\n"
   ]
  },
  {
   "cell_type": "markdown",
   "metadata": {},
   "source": [
    "Kruskal-Wallis test to answer H1a"
   ]
  },
  {
   "cell_type": "code",
   "execution_count": 70,
   "metadata": {},
   "outputs": [
    {
     "name": "stdout",
     "output_type": "stream",
     "text": [
      "Kruskal-Wallis Test Results:\n",
      "H-statistic: 13.045974487026838\n",
      "p-value: 0.0014692734625790177\n",
      "There is a significant difference in user engagement levels among posts made during different time periods (reject the null hypothesis).\n"
     ]
    }
   ],
   "source": [
    "from scipy.stats import kruskal\n",
    "\n",
    "# Define the engagement data for each time period\n",
    "engagement_morning = df[df['Time of Day'] == 'Morning']['Engagement'].dropna()\n",
    "engagement_afternoon = df[df['Time of Day'] == 'Afternoon']['Engagement'].dropna()\n",
    "engagement_evening = df[df['Time of Day'] == 'Evening']['Engagement'].dropna()\n",
    "\n",
    "# Perform Kruskal-Wallis test\n",
    "result_kruskal = kruskal(engagement_morning, engagement_afternoon, engagement_evening)\n",
    "\n",
    "# Display Kruskal-Wallis test results\n",
    "print(\"Kruskal-Wallis Test Results:\")\n",
    "print(\"H-statistic:\", result_kruskal.statistic)\n",
    "print(\"p-value:\", result_kruskal.pvalue)\n",
    "\n",
    "# Interpret the results\n",
    "alpha = 0.05\n",
    "if result_kruskal.pvalue < alpha:\n",
    "    print(\"There is a significant difference in user engagement levels among posts made during different time periods (reject the null hypothesis).\")\n",
    "else:\n",
    "    print(\"There is no significant difference in user engagement levels among posts made during different time periods (fail to reject the null hypothesis).\")\n"
   ]
  },
  {
   "cell_type": "markdown",
   "metadata": {},
   "source": [
    "from scipy.stats import kruskal, mannwhitneyu\n",
    "from itertools import combinations\n",
    "\n",
    "# Define the time periods for comparison\n",
    "time_periods = ['Morning', 'Afternoon', 'Evening']\n",
    "\n",
    "# Perform Kruskal-Wallis test\n",
    "result_kruskal = kruskal(\n",
    "    df[df['Time of Day'] == 'Morning']['Engagement'].dropna(),\n",
    "    df[df['Time of Day'] == 'Afternoon']['Engagement'].dropna(),\n",
    "    df[df['Time of Day'] == 'Evening']['Engagement'].dropna()\n",
    ")\n",
    "\n",
    "# Display Kruskal-Wallis test results\n",
    "print(\"Kruskal-Wallis Test Results:\")\n",
    "print(\"H-statistic:\", result_kruskal.statistic)\n",
    "print(\"p-value:\", result_kruskal.pvalue)\n",
    "\n",
    "# Perform pairwise comparisons using Mann-Whitney U test with Bonferroni correction\n",
    "alpha = 0.05\n",
    "n_groups = len(time_periods)\n",
    "pairwise_comparisons = list(combinations(time_periods, 2))\n",
    "for group1, group2 in pairwise_comparisons:\n",
    "    group1_data = df[df['Time of Day'] == group1]['Engagement'].dropna()\n",
    "    group2_data = df[df['Time of Day'] == group2]['Engagement'].dropna()\n",
    "    \n",
    "    # Perform Mann-Whitney U test\n",
    "    result_mannwhitney = mannwhitneyu(group1_data, group2_data)\n",
    "    \n",
    "    # Apply Bonferroni correction to the significance level\n",
    "    adjusted_alpha = alpha / len(pairwise_comparisons)\n",
    "    \n",
    "    # Display pairwise comparison results\n",
    "    print(f\"\\nPairwise Comparison: {group1} vs {group2}\")\n",
    "    print(\"U-statistic:\", result_mannwhitney.statistic)\n",
    "    print(\"p-value:\", result_mannwhitney.pvalue)\n",
    "    if result_mannwhitney.pvalue < adjusted_alpha:\n",
    "        print(\"The difference is statistically significant (reject the null hypothesis).\")\n",
    "    else:\n",
    "        print(\"There is no statistically significant difference (fail to reject the null hypothesis).\")\n"
   ]
  },
  {
   "cell_type": "code",
   "execution_count": 69,
   "metadata": {},
   "outputs": [
    {
     "name": "stdout",
     "output_type": "stream",
     "text": [
      "Kruskal-Wallis Test Results:\n",
      "H-statistic: 13.045974487026838\n",
      "p-value: 0.0014692734625790177\n",
      "\n",
      "Pairwise Comparison: Morning vs Afternoon\n",
      "U-statistic: 6132313.5\n",
      "p-value: 0.09502203540421394\n",
      "There is no statistically significant difference (fail to reject the null hypothesis).\n",
      "\n",
      "Pairwise Comparison: Morning vs Evening\n",
      "U-statistic: 12746916.0\n",
      "p-value: 0.0004488453261844004\n",
      "The difference is statistically significant (reject the null hypothesis).\n",
      "\n",
      "Pairwise Comparison: Afternoon vs Evening\n",
      "U-statistic: 17708770.5\n",
      "p-value: 0.06565687691921648\n",
      "There is no statistically significant difference (fail to reject the null hypothesis).\n"
     ]
    }
   ],
   "source": [
    "from scipy.stats import kruskal, mannwhitneyu\n",
    "from itertools import combinations\n",
    "\n",
    "# Define the time periods for comparison\n",
    "time_periods = ['Morning', 'Afternoon', 'Evening']\n",
    "\n",
    "# Perform Kruskal-Wallis test\n",
    "result_kruskal = kruskal(\n",
    "    df[df['Time of Day'] == 'Morning']['Engagement'].dropna(),\n",
    "    df[df['Time of Day'] == 'Afternoon']['Engagement'].dropna(),\n",
    "    df[df['Time of Day'] == 'Evening']['Engagement'].dropna()\n",
    ")\n",
    "\n",
    "# Display Kruskal-Wallis test results\n",
    "print(\"Kruskal-Wallis Test Results:\")\n",
    "print(\"H-statistic:\", result_kruskal.statistic)\n",
    "print(\"p-value:\", result_kruskal.pvalue)\n",
    "\n",
    "# Perform pairwise comparisons using Mann-Whitney U test with Bonferroni correction\n",
    "alpha = 0.05\n",
    "n_groups = len(time_periods)\n",
    "pairwise_comparisons = list(combinations(time_periods, 2))\n",
    "for group1, group2 in pairwise_comparisons:\n",
    "    group1_data = df[df['Time of Day'] == group1]['Engagement'].dropna()\n",
    "    group2_data = df[df['Time of Day'] == group2]['Engagement'].dropna()\n",
    "    \n",
    "    # Perform Mann-Whitney U test\n",
    "    result_mannwhitney = mannwhitneyu(group1_data, group2_data)\n",
    "    \n",
    "    # Apply Bonferroni correction to the significance level\n",
    "    adjusted_alpha = alpha / len(pairwise_comparisons)\n",
    "    \n",
    "    # Display pairwise comparison results\n",
    "    print(f\"\\nPairwise Comparison: {group1} vs {group2}\")\n",
    "    print(\"U-statistic:\", result_mannwhitney.statistic)\n",
    "    print(\"p-value:\", result_mannwhitney.pvalue)\n",
    "    if result_mannwhitney.pvalue < adjusted_alpha:\n",
    "        print(\"The difference is statistically significant (reject the null hypothesis).\")\n",
    "    else:\n",
    "        print(\"There is no statistically significant difference (fail to reject the null hypothesis).\")\n"
   ]
  },
  {
   "cell_type": "markdown",
   "metadata": {},
   "source": [
    "Mann-Whitney U test to answer H1b"
   ]
  },
  {
   "cell_type": "markdown",
   "metadata": {},
   "source": [
    "from scipy.stats import mannwhitneyu\n",
    "\n",
    "# Perform Mann-Whitney U test (Morning vs. Afternoon)\n",
    "result_mannwhitney = mannwhitneyu(\n",
    "    df[df['Time of Day'] == 'Morning']['Engagement'].dropna(),\n",
    "    df[df['Time of Day'] == 'Afternoon']['Engagement'].dropna()\n",
    ")\n",
    "\n",
    "# Display Mann-Whitney U test results\n",
    "print(\"Mann-Whitney U Test Results:\")\n",
    "print(\"U-statistic:\", result_mannwhitney.statistic)\n",
    "print(\"p-value:\", result_mannwhitney.pvalue)\n"
   ]
  },
  {
   "cell_type": "code",
   "execution_count": 64,
   "metadata": {},
   "outputs": [
    {
     "name": "stdout",
     "output_type": "stream",
     "text": [
      "Mann-Whitney U Test Results for Morning vs Afternoon:\n",
      "U-statistic: 6132313.5\n",
      "p-value: 0.09502203540421394\n",
      "There is no statistically significant difference (fail to reject the null hypothesis).\n",
      "\n",
      "Mann-Whitney U Test Results for Morning vs Evening:\n",
      "U-statistic: 12746916.0\n",
      "p-value: 0.0004488453261844004\n",
      "The difference is statistically significant (reject the null hypothesis).\n",
      "\n",
      "Mann-Whitney U Test Results for Afternoon vs Evening:\n",
      "U-statistic: 17708770.5\n",
      "p-value: 0.06565687691921648\n",
      "There is no statistically significant difference (fail to reject the null hypothesis).\n",
      "\n"
     ]
    }
   ],
   "source": [
    "from scipy.stats import mannwhitneyu\n",
    "\n",
    "# Define the time periods for comparison\n",
    "time_periods = ['Morning', 'Afternoon', 'Evening']\n",
    "\n",
    "# Perform Mann-Whitney U tests for each pair of time periods\n",
    "for i in range(len(time_periods)):\n",
    "    for j in range(i+1, len(time_periods)):\n",
    "        # Select engagement data for the current pair of time periods\n",
    "        data_1 = df[df['Time of Day'] == time_periods[i]]['Engagement'].dropna()\n",
    "        data_2 = df[df['Time of Day'] == time_periods[j]]['Engagement'].dropna()\n",
    "        \n",
    "        # Perform Mann-Whitney U test\n",
    "        result = mannwhitneyu(data_1, data_2)\n",
    "        \n",
    "        # Display Mann-Whitney U test results\n",
    "        print(f\"Mann-Whitney U Test Results for {time_periods[i]} vs {time_periods[j]}:\")\n",
    "        print(\"U-statistic:\", result.statistic)\n",
    "        print(\"p-value:\", result.pvalue)\n",
    "        \n",
    "        # Determine if the test passes or fails based on the significance level (e.g., 0.05)\n",
    "        alpha = 0.05\n",
    "        if result.pvalue < alpha:\n",
    "            print(\"The difference is statistically significant (reject the null hypothesis).\")\n",
    "        else:\n",
    "            print(\"There is no statistically significant difference (fail to reject the null hypothesis).\")\n",
    "        print()\n"
   ]
  },
  {
   "cell_type": "code",
   "execution_count": 65,
   "metadata": {},
   "outputs": [
    {
     "name": "stdout",
     "output_type": "stream",
     "text": [
      "Mann-Whitney U Test Results for Morning vs Afternoon:\n",
      "U-statistic: 6132313.5\n",
      "p-value: 0.09502203540421394\n",
      "There is no statistically significant difference (fail to reject the null hypothesis).\n",
      "\n",
      "Common Language Effect Size: 0.511417788253262\n",
      "\n",
      "Mann-Whitney U Test Results for Morning vs Evening:\n",
      "U-statistic: 12746916.0\n",
      "p-value: 0.0004488453261844004\n",
      "The difference is statistically significant (reject the null hypothesis).\n",
      "\n"
     ]
    },
    {
     "name": "stdout",
     "output_type": "stream",
     "text": [
      "Common Language Effect Size: 0.5215645709461363\n",
      "\n",
      "Mann-Whitney U Test Results for Afternoon vs Evening:\n",
      "U-statistic: 17708770.5\n",
      "p-value: 0.06565687691921648\n",
      "There is no statistically significant difference (fail to reject the null hypothesis).\n",
      "\n",
      "Common Language Effect Size: 0.5098734243867524\n",
      "\n"
     ]
    }
   ],
   "source": [
    "from scipy.stats import mannwhitneyu\n",
    "import numpy as np\n",
    "\n",
    "# Define the time periods for comparison\n",
    "time_periods = ['Morning', 'Afternoon', 'Evening']\n",
    "\n",
    "# Define a function to calculate the Common Language Effect Size\n",
    "def cles_ind(x1, x2):\n",
    "    \"\"\"Calculate Common Language Effect Size Indicator for independent groups.\n",
    "    Arguments:\n",
    "    x1, x2: Arrays of values for two groups\n",
    "    Returns:\n",
    "    cles: Common Language Effect Size\n",
    "    \"\"\"\n",
    "    x1 = np.array(x1)\n",
    "    x2 = np.array(x2)\n",
    "    diff = x1[:, None] - x2\n",
    "    cles = (diff > 0).sum() / diff.size\n",
    "    return cles\n",
    "\n",
    "# Perform Mann-Whitney U tests for each pair of time periods\n",
    "for i in range(len(time_periods)):\n",
    "    for j in range(i+1, len(time_periods)):\n",
    "        # Select engagement data for the current pair of time periods\n",
    "        data_1 = df[df['Time of Day'] == time_periods[i]]['Engagement'].dropna()\n",
    "        data_2 = df[df['Time of Day'] == time_periods[j]]['Engagement'].dropna()\n",
    "        \n",
    "        # Perform Mann-Whitney U test\n",
    "        result = mannwhitneyu(data_1, data_2)\n",
    "        \n",
    "        # Display Mann-Whitney U test results\n",
    "        print(f\"Mann-Whitney U Test Results for {time_periods[i]} vs {time_periods[j]}:\")\n",
    "        print(\"U-statistic:\", result.statistic)\n",
    "        print(\"p-value:\", result.pvalue)\n",
    "        \n",
    "        # Determine if the test passes or fails based on the significance level (e.g., 0.05)\n",
    "        alpha = 0.05\n",
    "        if result.pvalue < alpha:\n",
    "            print(\"The difference is statistically significant (reject the null hypothesis).\")\n",
    "        else:\n",
    "            print(\"There is no statistically significant difference (fail to reject the null hypothesis).\")\n",
    "        print()\n",
    "        \n",
    "        # Calculate the Common Language Effect Size\n",
    "        cles = cles_ind(data_1, data_2)\n",
    "        print(\"Common Language Effect Size:\", cles)\n",
    "        print()\n"
   ]
  },
  {
   "cell_type": "code",
   "execution_count": 66,
   "metadata": {},
   "outputs": [
    {
     "name": "stdout",
     "output_type": "stream",
     "text": [
      "╒════╤═══════════════════╤═══════════════════════════════╤════════════════════════════════════════════════════════════════════════════════════════════════════════════════════════════════════════════════════════════════════════════════════════════════════════════════════════════════════════════════════════════════════════════════════════════════════════════════════════════════════════════════════════════════════════════════════════════════════════════════════════════════════════════════════════════════════════════════════════════════════════════════════════════════════════════════════════════════════════════════════════════════════════════════════════════╤═══════════════════════╤════════════════════╤════════════════════════════════╤══════════════════════╤═════════════════════╤═════════════════════════════╤═════════════════════════╤══════════════╤═══════════════════╤══════════════╤═════════════════╤═══════════════╤══════════════════╤══════════════════════════════════╤════════════════════════════════════════════════════════════════╤═════════════════════╤═══════════════╤═══════════════╕\n",
      "│    │ Date              │ Profile                       │ Message                                                                                                                                                                                                                                                                                                                                                                                                                                                                                                                                                                                                                    │   Number of Reactions │   Number of Shares │   Number of Comments (primary) │   Number of Shares.1 │   Comments per post │   Comments on posts by fans │ Post interaction rate   │   Engagement │   Number of Likes │   Link-posts │   Picture Posts │   Video-posts │ Profile-ID       │                          Post-ID │ Link                                                           │ DateTime            │ Day of Week   │ Time of Day   │\n",
      "╞════╪═══════════════════╪═══════════════════════════════╪════════════════════════════════════════════════════════════════════════════════════════════════════════════════════════════════════════════════════════════════════════════════════════════════════════════════════════════════════════════════════════════════════════════════════════════════════════════════════════════════════════════════════════════════════════════════════════════════════════════════════════════════════════════════════════════════════════════════════════════════════════════════════════════════════════════════════════════════════════════════════════════════════════════════════════════╪═══════════════════════╪════════════════════╪════════════════════════════════╪══════════════════════╪═════════════════════╪═════════════════════════════╪═════════════════════════╪══════════════╪═══════════════════╪══════════════╪═════════════════╪═══════════════╪══════════════════╪══════════════════════════════════╪════════════════════════════════════════════════════════════════╪═════════════════════╪═══════════════╪═══════════════╡\n",
      "│  0 │ 12/31/23 9:40 PM  │ Wild Adventures Theme Park    │ 🎟️🚨 Today's the FINAL day to use your 2023 Season Passes! Don't miss out on a day packed with festive cheer, animal adventures, thrilling rides, and a lakeside Fireworks Spectacular starting at 8PM! 🎄🎢✨ And remember, after today, 2024 Season Pass prices go up too! Lock in the best deal now for next year's fun! 🌟🎁 https://bit.ly/3WlSO2S                                                                                                                                                                                                                                                                    │                    16 │                nan │                              2 │                    2 │                   2 │                           2 │ 1,09E+12                │   1.09e+12   │                13 │          nan │               1 │           nan │ 84679583132      │      84679583132_770120045161180 │ https://www.facebook.com/617429960430190/posts/770120045161180 │ 2023-12-31 21:40:00 │ Sunday        │ Evening       │\n",
      "├────┼───────────────────┼───────────────────────────────┼────────────────────────────────────────────────────────────────────────────────────────────────────────────────────────────────────────────────────────────────────────────────────────────────────────────────────────────────────────────────────────────────────────────────────────────────────────────────────────────────────────────────────────────────────────────────────────────────────────────────────────────────────────────────────────────────────────────────────────────────────────────────────────────────────────────────────────────────────────────────────────────────────────────────────────────┼───────────────────────┼────────────────────┼────────────────────────────────┼──────────────────────┼─────────────────────┼─────────────────────────────┼─────────────────────────┼──────────────┼───────────────────┼──────────────┼─────────────────┼───────────────┼──────────────────┼──────────────────────────────────┼────────────────────────────────────────────────────────────────┼─────────────────────┼───────────────┼───────────────┤\n",
      "│  1 │ 12/31/23 8:01 PM  │ Fun Spot America              │ See you next year! 😉                Don’t miss our HUGE firework display tonight at midnight 🎆🎇#fireworks #NYE #NewYear2024 #bye2023 #HUGEFun                                                                                                                                                                                                                                                                                                                                                                                                                                                                           │                    38 │                nan │                              1 │                    2 │                   1 │                           1 │ 4,17E+11                │   4.17e+11   │                33 │          nan │             nan │           nan │ 1,8402E+11       │     184020466977_767286052104076 │ https://www.facebook.com/653224623510220/posts/767286052104076 │ 2023-12-31 20:01:00 │ Sunday        │ Evening       │\n",
      "├────┼───────────────────┼───────────────────────────────┼────────────────────────────────────────────────────────────────────────────────────────────────────────────────────────────────────────────────────────────────────────────────────────────────────────────────────────────────────────────────────────────────────────────────────────────────────────────────────────────────────────────────────────────────────────────────────────────────────────────────────────────────────────────────────────────────────────────────────────────────────────────────────────────────────────────────────────────────────────────────────────────────────────────────────────────┼───────────────────────┼────────────────────┼────────────────────────────────┼──────────────────────┼─────────────────────┼─────────────────────────────┼─────────────────────────┼──────────────┼───────────────────┼──────────────┼─────────────────┼───────────────┼──────────────────┼──────────────────────────────────┼────────────────────────────────────────────────────────────────┼─────────────────────┼───────────────┼───────────────┤\n",
      "│  2 │ 12/31/23 7:30 PM  │ Fun Spot America              │ Don't miss our HUGE firework display ! 🥳                                                                                                                                                                                                                                                                                                                                                                                                                                                                                                                                                                                  │                    23 │                nan │                              2 │                    3 │                   2 │                           2 │ 2,85E+11                │   2.85e+11   │                21 │          nan │             nan │             1 │ 1,8402E+11       │     184020466977_767267948772553 │ https://www.facebook.com/653224623510220/posts/767267948772553 │ 2023-12-31 19:30:00 │ Sunday        │ Evening       │\n",
      "│    │                   │                               │                                                                                                                                                                                                                                                                                                                                                                                                                                                                                                                                                                                                                            │                       │                    │                                │                      │                     │                             │                         │              │                   │              │                 │               │                  │                                  │                                                                │                     │               │               │\n",
      "│    │                   │                               │ #fireworks  #NYE #newyear #Themepark #Hugefun #celebrate #makememories #funspotamerica                                                                                                                                                                                                                                                                                                                                                                                                                                                                                                                                     │                       │                    │                                │                      │                     │                             │                         │              │                   │              │                 │               │                  │                                  │                                                                │                     │               │               │\n",
      "├────┼───────────────────┼───────────────────────────────┼────────────────────────────────────────────────────────────────────────────────────────────────────────────────────────────────────────────────────────────────────────────────────────────────────────────────────────────────────────────────────────────────────────────────────────────────────────────────────────────────────────────────────────────────────────────────────────────────────────────────────────────────────────────────────────────────────────────────────────────────────────────────────────────────────────────────────────────────────────────────────────────────────────────────────────────┼───────────────────────┼────────────────────┼────────────────────────────────┼──────────────────────┼─────────────────────┼─────────────────────────────┼─────────────────────────┼──────────────┼───────────────────┼──────────────┼─────────────────┼───────────────┼──────────────────┼──────────────────────────────────┼────────────────────────────────────────────────────────────────┼─────────────────────┼───────────────┼───────────────┤\n",
      "│  3 │ 12/31/23 7:00 PM  │ Disneyland Paris              │ Fijne jaarwisseling! 🥂🎉                                                                                                                                                                                                                                                                                                                                                                                                                                                                                                                                                                                                  │                   646 │                nan │                             52 │                   12 │                  56 │                          56 │ 1,36E+11                │   1.36e+11   │               478 │          nan │               1 │           nan │ 6,52389E+14      │  652389081615295_775974521237956 │ https://www.facebook.com/724434559725286/posts/775974521237956 │ 2023-12-31 19:00:00 │ Sunday        │ Evening       │\n",
      "│    │                   │                               │ En tot volgend jaar 😉                                                                                                                                                                                                                                                                                                                                                                                                                                                                                                                                                                                                     │                       │                    │                                │                      │                     │                             │                         │              │                   │              │                 │               │                  │                                  │                                                                │                     │               │               │\n",
      "├────┼───────────────────┼───────────────────────────────┼────────────────────────────────────────────────────────────────────────────────────────────────────────────────────────────────────────────────────────────────────────────────────────────────────────────────────────────────────────────────────────────────────────────────────────────────────────────────────────────────────────────────────────────────────────────────────────────────────────────────────────────────────────────────────────────────────────────────────────────────────────────────────────────────────────────────────────────────────────────────────────────────────────────────────────────┼───────────────────────┼────────────────────┼────────────────────────────────┼──────────────────────┼─────────────────────┼─────────────────────────────┼─────────────────────────┼──────────────┼───────────────────┼──────────────┼─────────────────┼───────────────┼──────────────────┼──────────────────────────────────┼────────────────────────────────────────────────────────────────┼─────────────────────┼───────────────┼───────────────┤\n",
      "│  4 │ 12/31/23 7:00 PM  │ Silverwood Theme Park         │ It's the last day of our New Year's Sale! Save up to $25 on 1-day and 2-day tickets and make new memories in the brand new Emerald Forest expansion of Boulder Beach Water Park! New adventures await in 2024! https://sw4.fun/2024                                                                                                                                                                                                                                                                                                                                                                                        │                    17 │                nan │                              2 │                    0 │                   2 │                           2 │ 4,96E+11                │   4.96e+11   │                16 │          nan │             nan │             1 │ 7,62702E+14      │  762701550509617_678920137770716 │ https://www.facebook.com/562559642740100/posts/678920137770716 │ 2023-12-31 19:00:00 │ Sunday        │ Evening       │\n",
      "├────┼───────────────────┼───────────────────────────────┼────────────────────────────────────────────────────────────────────────────────────────────────────────────────────────────────────────────────────────────────────────────────────────────────────────────────────────────────────────────────────────────────────────────────────────────────────────────────────────────────────────────────────────────────────────────────────────────────────────────────────────────────────────────────────────────────────────────────────────────────────────────────────────────────────────────────────────────────────────────────────────────────────────────────────────────┼───────────────────────┼────────────────────┼────────────────────────────────┼──────────────────────┼─────────────────────┼─────────────────────────────┼─────────────────────────┼──────────────┼───────────────────┼──────────────┼─────────────────┼───────────────┼──────────────────┼──────────────────────────────────┼────────────────────────────────────────────────────────────────┼─────────────────────┼───────────────┼───────────────┤\n",
      "│  5 │ 12/31/23 6:55 PM  │ Belmont Park                  │ The sun sets over 2023…🌅                                                                                                                                                                                                                                                                                                                                                                                                                                                                                                                                                                                                  │                    51 │                nan │                              1 │                   11 │                   1 │                           1 │ 0.0012457732692649937   │   0.00124577 │                40 │          nan │               1 │           nan │ 83231004302      │      83231004302_767257582104974 │ https://www.facebook.com/632506952246705/posts/767257582104974 │ 2023-12-31 18:55:00 │ Sunday        │ Evening       │\n",
      "│    │                   │                               │                                                                                                                                                                                                                                                                                                                                                                                                                                                                                                                                                                                                                            │                       │                    │                                │                      │                     │                             │                         │              │                   │              │                 │               │                  │                                  │                                                                │                     │               │               │\n",
      "│    │                   │                               │ Wishing everyone a happy, safe and healthy 2024 from Belmont Park! 🎉 There’s still time to squeeze in some family fun at your favorite beachside amusement park…                                                                                                                                                                                                                                                                                                                                                                                                                                                          │                       │                    │                                │                      │                     │                             │                         │              │                   │              │                 │               │                  │                                  │                                                                │                     │               │               │\n",
      "│    │                   │                               │                                                                                                                                                                                                                                                                                                                                                                                                                                                                                                                                                                                                                            │                       │                    │                                │                      │                     │                             │                         │              │                   │              │                 │               │                  │                                  │                                                                │                     │               │               │\n",
      "│    │                   │                               │ Ring in 2024 with your FAVORITE Rides & Attractions! We’ll be OPEN New Year’s Eve from 11-9 pm and OPEN from 11-10 pm on New Year’s Day! 🥳                                                                                                                                                                                                                                                                                                                                                                                                                                                                                │                       │                    │                                │                      │                     │                             │                         │              │                   │              │                 │               │                  │                                  │                                                                │                     │               │               │\n",
      "│    │                   │                               │                                                                                                                                                                                                                                                                                                                                                                                                                                                                                                                                                                                                                            │                       │                    │                                │                      │                     │                             │                         │              │                   │              │                 │               │                  │                                  │                                                                │                     │               │               │\n",
      "│    │                   │                               │ See you soon 🎢                                                                                                                                                                                                                                                                                                                                                                                                                                                                                                                                                                                                            │                       │                    │                                │                      │                     │                             │                         │              │                   │              │                 │               │                  │                                  │                                                                │                     │               │               │\n",
      "├────┼───────────────────┼───────────────────────────────┼────────────────────────────────────────────────────────────────────────────────────────────────────────────────────────────────────────────────────────────────────────────────────────────────────────────────────────────────────────────────────────────────────────────────────────────────────────────────────────────────────────────────────────────────────────────────────────────────────────────────────────────────────────────────────────────────────────────────────────────────────────────────────────────────────────────────────────────────────────────────────────────────────────────────────────────┼───────────────────────┼────────────────────┼────────────────────────────────┼──────────────────────┼─────────────────────┼─────────────────────────────┼─────────────────────────┼──────────────┼───────────────────┼──────────────┼─────────────────┼───────────────┼──────────────────┼──────────────────────────────────┼────────────────────────────────────────────────────────────────┼─────────────────────┼───────────────┼───────────────┤\n",
      "│  6 │ 12/31/23 6:01 PM  │ SeaWorld Orlando              │ Animal rescue and rehabilitation has always been an integral part of what SeaWorld is. In 2023, our incredible SeaWorld Rescue team has rescued over 80 animals. We have returned 70% back to their natural habitat and working diligently to reach 100%. To date we have rescued over 40,000 animals and are one of the world's largest marine animal rescue organizations. Our teams are on call 24/7/365, partnering with multiple government agencies to rescue and help animals in need of our care! We want to thank our incredible teams for making this possible in 2023. Looking forward to another amazing year! │                   729 │                nan │                             25 │                   97 │                  28 │                          28 │ 0.0035718617597483805   │   0.00357186 │               459 │          nan │               1 │           nan │ 1782696285170057 │ 1782696285170057_377301148304978 │ https://www.facebook.com/260024933365934/posts/377301148304978 │ 2023-12-31 18:01:00 │ Sunday        │ Evening       │\n",
      "├────┼───────────────────┼───────────────────────────────┼────────────────────────────────────────────────────────────────────────────────────────────────────────────────────────────────────────────────────────────────────────────────────────────────────────────────────────────────────────────────────────────────────────────────────────────────────────────────────────────────────────────────────────────────────────────────────────────────────────────────────────────────────────────────────────────────────────────────────────────────────────────────────────────────────────────────────────────────────────────────────────────────────────────────────────────┼───────────────────────┼────────────────────┼────────────────────────────────┼──────────────────────┼─────────────────────┼─────────────────────────────┼─────────────────────────┼──────────────┼───────────────────┼──────────────┼─────────────────┼───────────────┼──────────────────┼──────────────────────────────────┼────────────────────────────────────────────────────────────────┼─────────────────────┼───────────────┼───────────────┤\n",
      "│  7 │ 12/31/23 5:30 PM  │ Canada's Wonderland           │ As this roller coaster of a year comes to a thrilling close, let's loop through the high moments we’ll not soon forget! 🎢🎉Cheers to a New Year we hope will be filled with more smiles, laughs and memory-making! 🥂🌟                                                                                                                                                                                                                                                                                                                                                                                                   │                   102 │                nan │                              9 │                   14 │                  13 │                          13 │ 1,51E+12                │   1.51e+12   │                88 │          nan │             nan │             1 │ 95469803923      │      95469803923_775191387982844 │ https://www.facebook.com/633676285467689/posts/775191387982844 │ 2023-12-31 17:30:00 │ Sunday        │ Afternoon     │\n",
      "├────┼───────────────────┼───────────────────────────────┼────────────────────────────────────────────────────────────────────────────────────────────────────────────────────────────────────────────────────────────────────────────────────────────────────────────────────────────────────────────────────────────────────────────────────────────────────────────────────────────────────────────────────────────────────────────────────────────────────────────────────────────────────────────────────────────────────────────────────────────────────────────────────────────────────────────────────────────────────────────────────────────────────────────────────────────┼───────────────────────┼────────────────────┼────────────────────────────────┼──────────────────────┼─────────────────────┼─────────────────────────────┼─────────────────────────┼──────────────┼───────────────────┼──────────────┼─────────────────┼───────────────┼──────────────────┼──────────────────────────────────┼────────────────────────────────────────────────────────────────┼─────────────────────┼───────────────┼───────────────┤\n",
      "│  8 │ 12/31/23 5:01 PM  │ SeaWorld San Diego            │ As we close out 2023, we want to take a moment to thank the many ambassadors who make up our team here at SeaWorld. ​                                                                                                                                                                                                                                                                                                                                                                                                                                                                                                       │                   242 │                nan │                              5 │                   15 │                   5 │                           5 │ 0.002332185043750723    │   0.00233219 │               182 │          nan │             nan │             1 │ 4,26112E+14      │  426111667814056_689815569963071 │ https://www.facebook.com/579518520992777/posts/689815569963071 │ 2023-12-31 17:01:00 │ Sunday        │ Afternoon     │\n",
      "│    │                   │                               │                                                                                                                                                                                                                                                                                                                                                                                                                                                                                                                                                                                                                            │                       │                    │                                │                      │                     │                             │                         │              │                   │              │                 │               │                  │                                  │                                                                │                     │               │               │\n",
      "│    │                   │                               │ ​Between last summer's grand opening of Arctic Rescue, an all-new lineup of summer entertainment, the opening of Rescue Jr. and the hatching of our first emperor penguin chick in over a decade, it has been a busy year for all of us! It is because of our team that we can give exceptional care to our animals and deliver one-of-a-kind experiences for our guests all year long. Thank you for an incredible year!                                                                                                                                                                                                   │                       │                    │                                │                      │                     │                             │                         │              │                   │              │                 │               │                  │                                  │                                                                │                     │               │               │\n",
      "├────┼───────────────────┼───────────────────────────────┼────────────────────────────────────────────────────────────────────────────────────────────────────────────────────────────────────────────────────────────────────────────────────────────────────────────────────────────────────────────────────────────────────────────────────────────────────────────────────────────────────────────────────────────────────────────────────────────────────────────────────────────────────────────────────────────────────────────────────────────────────────────────────────────────────────────────────────────────────────────────────────────────────────────────────────────┼───────────────────────┼────────────────────┼────────────────────────────────┼──────────────────────┼─────────────────────┼─────────────────────────────┼─────────────────────────┼──────────────┼───────────────────┼──────────────┼─────────────────┼───────────────┼──────────────────┼──────────────────────────────────┼────────────────────────────────────────────────────────────────┼─────────────────────┼───────────────┼───────────────┤\n",
      "│  9 │ 12/31/23 5:00 PM  │ Lake Compounce                │ Who’s ready to party tonight? 🪩                                                                                                                                                                                                                                                                                                                                                                                                                                                                                                                                                                                           │                    60 │                nan │                              3 │                    5 │                   3 │                           3 │ 4,14E+12                │   4.14e+12   │                46 │          nan │               1 │           nan │ 80018245271      │      80018245271_791501566346367 │ https://www.facebook.com/548816340614892/posts/791501566346367 │ 2023-12-31 17:00:00 │ Sunday        │ Afternoon     │\n",
      "│    │                   │                               │                                                                                                                                                                                                                                                                                                                                                                                                                                                                                                                                                                                                                            │                       │                    │                                │                      │                     │                             │                         │              │                   │              │                 │               │                  │                                  │                                                                │                     │               │               │\n",
      "│    │                   │                               │ Join Kyle the Crocodile and his friends at our Kids New Year’s Eve Bash from 6-8pm! 🥳                                                                                                                                                                                                                                                                                                                                                                                                                                                                                                                                     │                       │                    │                                │                      │                     │                             │                         │              │                   │              │                 │               │                  │                                  │                                                                │                     │               │               │\n",
      "│    │                   │                               │                                                                                                                                                                                                                                                                                                                                                                                                                                                                                                                                                                                                                            │                       │                    │                                │                      │                     │                             │                         │              │                   │              │                 │               │                  │                                  │                                                                │                     │               │               │\n",
      "│    │                   │                               │ 🎆 Final Fireworks Show of the Season at 7:30pm                                                                                                                                                                                                                                                                                                                                                                                                                                                                                                                                                                            │                       │                    │                                │                      │                     │                             │                         │              │                   │              │                 │               │                  │                                  │                                                                │                     │               │               │\n",
      "│    │                   │                               │ 🫧 Bubble Dance Party                                                                                                                                                                                                                                                                                                                                                                                                                                                                                                                                                                                                      │                       │                    │                                │                      │                     │                             │                         │              │                   │              │                 │               │                  │                                  │                                                                │                     │               │               │\n",
      "│    │                   │                               │ 🕺 Live DJ                                                                                                                                                                                                                                                                                                                                                                                                                                                                                                                                                                                                                 │                       │                    │                                │                      │                     │                             │                         │              │                   │              │                 │               │                  │                                  │                                                                │                     │               │               │\n",
      "│    │                   │                               │ 🧃Juicebox Toast & Countdown                                                                                                                                                                                                                                                                                                                                                                                                                                                                                                                                                                                               │                       │                    │                                │                      │                     │                             │                         │              │                   │              │                 │               │                  │                                  │                                                                │                     │               │               │\n",
      "│    │                   │                               │ ✨ and so much more!                                                                                                                                                                                                                                                                                                                                                                                                                                                                                                                                                                                                       │                       │                    │                                │                      │                     │                             │                         │              │                   │              │                 │               │                  │                                  │                                                                │                     │               │               │\n",
      "│    │                   │                               │                                                                                                                                                                                                                                                                                                                                                                                                                                                                                                                                                                                                                            │                       │                    │                                │                      │                     │                             │                         │              │                   │              │                 │               │                  │                                  │                                                                │                     │               │               │\n",
      "│    │                   │                               │ Learn More: https://www.lakecompounce.com/discover-the-park/holiday-lights/shows-rides-more                                                                                                                                                                                                                                                                                                                                                                                                                                                                                                                                │                       │                    │                                │                      │                     │                             │                         │              │                   │              │                 │               │                  │                                  │                                                                │                     │               │               │\n",
      "├────┼───────────────────┼───────────────────────────────┼────────────────────────────────────────────────────────────────────────────────────────────────────────────────────────────────────────────────────────────────────────────────────────────────────────────────────────────────────────────────────────────────────────────────────────────────────────────────────────────────────────────────────────────────────────────────────────────────────────────────────────────────────────────────────────────────────────────────────────────────────────────────────────────────────────────────────────────────────────────────────────────────────────────────────────────┼───────────────────────┼────────────────────┼────────────────────────────────┼──────────────────────┼─────────────────────┼─────────────────────────────┼─────────────────────────┼──────────────┼───────────────────┼──────────────┼─────────────────┼───────────────┼──────────────────┼──────────────────────────────────┼────────────────────────────────────────────────────────────────┼─────────────────────┼───────────────┼───────────────┤\n",
      "│ 10 │ 12/31/23 4:30 PM  │ Happy Hollow Park & Zoo       │ Today is the day! Join in and countdown to noon at Happy Hollow's Noon Year's Eve event! 🎊 There will be magic shows, animal encounters, a scavenger hunt and a confetti-filled celebration for the new year 🎉 Don't miss out on all the fun 🐲 More info at happyhollow.org/noon-years-eve                                                                                                                                                                                                                                                                                                                              │                     9 │                nan │                              0 │                    0 │                   0 │                           0 │ 2,28E+12                │   2.28e+12   │                 9 │          nan │               1 │           nan │ 1,32943E+11      │     132942835175_754037053419799 │ https://www.facebook.com/328743942615781/posts/754037053419799 │ 2023-12-31 16:30:00 │ Sunday        │ Afternoon     │\n",
      "├────┼───────────────────┼───────────────────────────────┼────────────────────────────────────────────────────────────────────────────────────────────────────────────────────────────────────────────────────────────────────────────────────────────────────────────────────────────────────────────────────────────────────────────────────────────────────────────────────────────────────────────────────────────────────────────────────────────────────────────────────────────────────────────────────────────────────────────────────────────────────────────────────────────────────────────────────────────────────────────────────────────────────────────────────────────┼───────────────────────┼────────────────────┼────────────────────────────────┼──────────────────────┼─────────────────────┼─────────────────────────────┼─────────────────────────┼──────────────┼───────────────────┼──────────────┼─────────────────┼───────────────┼──────────────────┼──────────────────────────────────┼────────────────────────────────────────────────────────────────┼─────────────────────┼───────────────┼───────────────┤\n",
      "│ 11 │ 12/31/23 4:17 PM  │ Wild Adventures Theme Park    │ This place is 'snow' joke! Today's your last chance to experience Georgia's largest snow foam party at Wild Adventures Christmas Wild & Bright! Enjoy piles of snow, festive entertainment, dazzling light displays and a Fireworks Spectacular tonight at 8PM: https://bit.ly/3rjKlli                                                                                                                                                                                                                                                                                                                                     │                    30 │                nan │                              4 │                    3 │                   4 │                           4 │ 2,01E+12                │   2.01e+12   │                25 │          nan │               1 │           nan │ 84679583132      │      84679583132_769945921845259 │ https://www.facebook.com/617429960430190/posts/769945921845259 │ 2023-12-31 16:17:00 │ Sunday        │ Afternoon     │\n",
      "├────┼───────────────────┼───────────────────────────────┼────────────────────────────────────────────────────────────────────────────────────────────────────────────────────────────────────────────────────────────────────────────────────────────────────────────────────────────────────────────────────────────────────────────────────────────────────────────────────────────────────────────────────────────────────────────────────────────────────────────────────────────────────────────────────────────────────────────────────────────────────────────────────────────────────────────────────────────────────────────────────────────────────────────────────────────┼───────────────────────┼────────────────────┼────────────────────────────────┼──────────────────────┼─────────────────────┼─────────────────────────────┼─────────────────────────┼──────────────┼───────────────────┼──────────────┼─────────────────┼───────────────┼──────────────────┼──────────────────────────────────┼────────────────────────────────────────────────────────────────┼─────────────────────┼───────────────┼───────────────┤\n",
      "│ 12 │ 12/31/23 3:43 PM  │ Universal Orlando Resort (US) │ It's Blue Year's Eve!                                                                                                                                                                                                                                                                                                                                                                                                                                                                                                                                                                                                      │                  1234 │                nan │                             46 │                   90 │                  81 │                          81 │ 4,56E+11                │   4.56e+11   │               966 │          nan │               1 │           nan │ 90867402851      │      90867402851_775492054612169 │ https://www.facebook.com/648601030634606/posts/775492054612169 │ 2023-12-31 15:43:00 │ Sunday        │ Afternoon     │\n",
      "├────┼───────────────────┼───────────────────────────────┼────────────────────────────────────────────────────────────────────────────────────────────────────────────────────────────────────────────────────────────────────────────────────────────────────────────────────────────────────────────────────────────────────────────────────────────────────────────────────────────────────────────────────────────────────────────────────────────────────────────────────────────────────────────────────────────────────────────────────────────────────────────────────────────────────────────────────────────────────────────────────────────────────────────────────────────┼───────────────────────┼────────────────────┼────────────────────────────────┼──────────────────────┼─────────────────────┼─────────────────────────────┼─────────────────────────┼──────────────┼───────────────────┼──────────────┼─────────────────┼───────────────┼──────────────────┼──────────────────────────────────┼────────────────────────────────────────────────────────────────┼─────────────────────┼───────────────┼───────────────┤\n",
      "│ 13 │ 12/31/23 3:31 PM  │ Busch Gardens Tampa Bay       │ What better way to ring in 2024 than with unforgettable fun during the day and fireworks at night?! 🎆 Join us tonight for a festive NYE fireworks show, entertainment and more until 1:00 am! Plus, don't forget that you still have until tomorrow to save up to 40% on tickets, Fun Cards & Annual Passes with our extended Holiday Sale by visiting the link in our bio. See you all next year! 🎢😉                                                                                                                                                                                                                   │                   332 │                nan │                             15 │                   38 │                  20 │                          20 │ 5,77E+11                │   5.77e+11   │               266 │          nan │             nan │             1 │ 68181225238      │      68181225238_755682239923749 │ https://www.facebook.com/638736908284950/posts/755682239923749 │ 2023-12-31 15:31:00 │ Sunday        │ Afternoon     │\n",
      "├────┼───────────────────┼───────────────────────────────┼────────────────────────────────────────────────────────────────────────────────────────────────────────────────────────────────────────────────────────────────────────────────────────────────────────────────────────────────────────────────────────────────────────────────────────────────────────────────────────────────────────────────────────────────────────────────────────────────────────────────────────────────────────────────────────────────────────────────────────────────────────────────────────────────────────────────────────────────────────────────────────────────────────────────────────────┼───────────────────────┼────────────────────┼────────────────────────────────┼──────────────────────┼─────────────────────┼─────────────────────────────┼─────────────────────────┼──────────────┼───────────────────┼──────────────┼─────────────────┼───────────────┼──────────────────┼──────────────────────────────────┼────────────────────────────────────────────────────────────────┼─────────────────────┼───────────────┼───────────────┤\n",
      "│ 14 │ 12/31/23 1:15 PM  │ Hersheypark                   │ Don't wait! Today is the last day to save up to $60 and enjoy a 9-month payment plan for 2024 Season Passes! Explore the new perks and get ready for a year full of fun!                                                                                                                                                                                                                                                                                                                                                                                                                                                   │                    52 │                nan │                              2 │                    0 │                   2 │                           2 │ 6,28E+10                │   6.28e+10   │                44 │          nan │             nan │             1 │ 16994689356      │      16994689356_763305079162692 │ https://www.facebook.com/639748524851682/posts/763305079162692 │ 2023-12-31 13:15:00 │ Sunday        │ Afternoon     │\n",
      "│    │                   │                               │ https://bit.ly/2LBjR9a                                                                                                                                                                                                                                                                                                                                                                                                                                                                                                                                                                                                     │                       │                    │                                │                      │                     │                             │                         │              │                   │              │                 │               │                  │                                  │                                                                │                     │               │               │\n",
      "├────┼───────────────────┼───────────────────────────────┼────────────────────────────────────────────────────────────────────────────────────────────────────────────────────────────────────────────────────────────────────────────────────────────────────────────────────────────────────────────────────────────────────────────────────────────────────────────────────────────────────────────────────────────────────────────────────────────────────────────────────────────────────────────────────────────────────────────────────────────────────────────────────────────────────────────────────────────────────────────────────────────────────────────────────────────┼───────────────────────┼────────────────────┼────────────────────────────────┼──────────────────────┼─────────────────────┼─────────────────────────────┼─────────────────────────┼──────────────┼───────────────────┼──────────────┼─────────────────┼───────────────┼──────────────────┼──────────────────────────────────┼────────────────────────────────────────────────────────────────┼─────────────────────┼───────────────┼───────────────┤\n",
      "│ 15 │ 12/31/23 9:00 AM  │ Gilroy Gardens                │ Today is the LAST DAY of the year and the LAST DAY to claim your New Year Bonus Bundle with every 2024 Premium Membership! Buy today and come out to the park to spend your  $30 in Bonus Bucks, bring a friend along for FREE, and also enjoy our January Bonus Days on January 5, 6 & 7. But hurry...this amazing offer ends at midnight!                                                                                                                                                                                                                                                                                │                    36 │                nan │                              2 │                    1 │                   2 │                           2 │ 4,77E+11                │   4.77e+11   │                26 │          nan │               1 │           nan │ 1,22944E+14      │  122943674395623_763208052510844 │ https://www.facebook.com/547581810740137/posts/763208052510844 │ 2023-12-31 09:00:00 │ Sunday        │ Morning       │\n",
      "│    │                   │                               │                                                                                                                                                                                                                                                                                                                                                                                                                                                                                                                                                                                                                            │                       │                    │                                │                      │                     │                             │                         │              │                   │              │                 │               │                  │                                  │                                                                │                     │               │               │\n",
      "│    │                   │                               │ gilroygardens.org/tickets/memberships                                                                                                                                                                                                                                                                                                                                                                                                                                                                                                                                                                                      │                       │                    │                                │                      │                     │                             │                         │              │                   │              │                 │               │                  │                                  │                                                                │                     │               │               │\n",
      "├────┼───────────────────┼───────────────────────────────┼────────────────────────────────────────────────────────────────────────────────────────────────────────────────────────────────────────────────────────────────────────────────────────────────────────────────────────────────────────────────────────────────────────────────────────────────────────────────────────────────────────────────────────────────────────────────────────────────────────────────────────────────────────────────────────────────────────────────────────────────────────────────────────────────────────────────────────────────────────────────────────────────────────────────────────────┼───────────────────────┼────────────────────┼────────────────────────────────┼──────────────────────┼─────────────────────┼─────────────────────────────┼─────────────────────────┼──────────────┼───────────────────┼──────────────┼─────────────────┼───────────────┼──────────────────┼──────────────────────────────────┼────────────────────────────────────────────────────────────────┼─────────────────────┼───────────────┼───────────────┤\n",
      "│ 16 │ 12/31/23 5:21 AM  │ Sea Life Park                 │ #FunFact: Did you know that Honu have specialized glands that help them excrete excess salt from their bodies, allowing them to survive in saltwater environments?                                                                                                                                                                                                                                                                                                                                                                                                                                                         │                    16 │                nan │                              1 │                    2 │                   1 │                           1 │ 7,17E+10                │   7.17e+10   │                14 │          nan │               1 │           nan │ 1,05016E+14      │  105015532870022_697162422516955 │ https://www.facebook.com/512254014341131/posts/697162422516955 │ 2023-12-31 05:21:00 │ Sunday        │ Morning       │\n",
      "│    │                   │                               │                                                                                                                                                                                                                                                                                                                                                                                                                                                                                                                                                                                                                            │                       │                    │                                │                      │                     │                             │                         │              │                   │              │                 │               │                  │                                  │                                                                │                     │               │               │\n",
      "│    │                   │                               │ Learn more about Hawaiian Sea Turtles during your next park visit!                                                                                                                                                                                                                                                                                                                                                                                                                                                                                                                                                         │                       │                    │                                │                      │                     │                             │                         │              │                   │              │                 │               │                  │                                  │                                                                │                     │               │               │\n",
      "├────┼───────────────────┼───────────────────────────────┼────────────────────────────────────────────────────────────────────────────────────────────────────────────────────────────────────────────────────────────────────────────────────────────────────────────────────────────────────────────────────────────────────────────────────────────────────────────────────────────────────────────────────────────────────────────────────────────────────────────────────────────────────────────────────────────────────────────────────────────────────────────────────────────────────────────────────────────────────────────────────────────────────────────────────────────┼───────────────────────┼────────────────────┼────────────────────────────────┼──────────────────────┼─────────────────────┼─────────────────────────────┼─────────────────────────┼──────────────┼───────────────────┼──────────────┼─────────────────┼───────────────┼──────────────────┼──────────────────────────────────┼────────────────────────────────────────────────────────────────┼─────────────────────┼───────────────┼───────────────┤\n",
      "│ 17 │ 12/31/23 3:15 AM  │ LEGOLAND California           │ Our tree really takes its “day to night” outfit transformation to a whole new level! 🎄 Come see our AWESOME new Christmas tree before Holidays at LEGOLAND ends. True holiday magic. ✨                                                                                                                                                                                                                                                                                                                                                                                                                                   │                    42 │                nan │                              4 │                    1 │                   5 │                           5 │ 7,35E+10                │   7.35e+10   │                37 │          nan │             nan │             1 │ 1,43631E+14      │  143631389003522_766432308856366 │ https://www.facebook.com/665808788918719/posts/766432308856366 │ 2023-12-31 03:15:00 │ Sunday        │ Morning       │\n",
      "├────┼───────────────────┼───────────────────────────────┼────────────────────────────────────────────────────────────────────────────────────────────────────────────────────────────────────────────────────────────────────────────────────────────────────────────────────────────────────────────────────────────────────────────────────────────────────────────────────────────────────────────────────────────────────────────────────────────────────────────────────────────────────────────────────────────────────────────────────────────────────────────────────────────────────────────────────────────────────────────────────────────────────────────────────────────┼───────────────────────┼────────────────────┼────────────────────────────────┼──────────────────────┼─────────────────────┼─────────────────────────────┼─────────────────────────┼──────────────┼───────────────────┼──────────────┼─────────────────┼───────────────┼──────────────────┼──────────────────────────────────┼────────────────────────────────────────────────────────────────┼─────────────────────┼───────────────┼───────────────┤\n",
      "│ 18 │ 12/31/23 2:24 AM  │ Wild Adventures Theme Park    │ Only one day left before prices go up! 😱 Get your 2024 Season Passes now to save up to $35 and enjoy benefits like Bring-A-Friend Tickets, Free Concert Admission, Free Animal Feedings and MORE!  https://www.wildadventures.com/buy-tickets/season-passes/                                                                                                                                                                                                                                                                                                                                                              │                    10 │                nan │                              1 │                    0 │                   1 │                           1 │ 5,98E+10                │   5.98e+10   │                 9 │          nan │               1 │           nan │ 84679583132      │      84679583132_769618858544632 │ https://www.facebook.com/617429960430190/posts/769618858544632 │ 2023-12-31 02:24:00 │ Sunday        │ Morning       │\n",
      "├────┼───────────────────┼───────────────────────────────┼────────────────────────────────────────────────────────────────────────────────────────────────────────────────────────────────────────────────────────────────────────────────────────────────────────────────────────────────────────────────────────────────────────────────────────────────────────────────────────────────────────────────────────────────────────────────────────────────────────────────────────────────────────────────────────────────────────────────────────────────────────────────────────────────────────────────────────────────────────────────────────────────────────────────────────────┼───────────────────────┼────────────────────┼────────────────────────────────┼──────────────────────┼─────────────────────┼─────────────────────────────┼─────────────────────────┼──────────────┼───────────────────┼──────────────┼─────────────────┼───────────────┼──────────────────┼──────────────────────────────────┼────────────────────────────────────────────────────────────────┼─────────────────────┼───────────────┼───────────────┤\n",
      "│ 19 │ 12/31/23 1:53 AM  │ Elitch Gardens                │ Need some *lit* plans for a family-friendly New Year’s Eve? ✨ Visit Luminova Holidays at Elitch Gardens! Tomorrow, December 31, is the last day of the event. Open 5-9pm! 🥳                                                                                                                                                                                                                                                                                                                                                                                                                                              │                    57 │                nan │                             12 │                    5 │                  14 │                          14 │ 5,13E+11                │   5.13e+11   │                41 │          nan │               1 │           nan │ 62242807350      │      62242807350_751896490309978 │ https://www.facebook.com/547583224074640/posts/751896490309978 │ 2023-12-31 01:53:00 │ Sunday        │ Morning       │\n",
      "├────┼───────────────────┼───────────────────────────────┼────────────────────────────────────────────────────────────────────────────────────────────────────────────────────────────────────────────────────────────────────────────────────────────────────────────────────────────────────────────────────────────────────────────────────────────────────────────────────────────────────────────────────────────────────────────────────────────────────────────────────────────────────────────────────────────────────────────────────────────────────────────────────────────────────────────────────────────────────────────────────────────────────────────────────────────┼───────────────────────┼────────────────────┼────────────────────────────────┼──────────────────────┼─────────────────────┼─────────────────────────────┼─────────────────────────┼──────────────┼───────────────────┼──────────────┼─────────────────┼───────────────┼──────────────────┼──────────────────────────────────┼────────────────────────────────────────────────────────────────┼─────────────────────┼───────────────┼───────────────┤\n",
      "│ 20 │ 12/31/23 1:02 AM  │ Six Flags Great Adventure     │ Get out here now and close out the 2023 season with us! There are only three days left of Holiday in The Park! 🎄 ✨                                                                                                                                                                                                                                                                                                                                                                                                                                                                                                       │                   107 │                nan │                             20 │                    4 │                  30 │                          30 │ 1,25E+10                │   1.25e+10   │                80 │          nan │               1 │           nan │ 69421318512      │      69421318512_749769017185768 │ https://www.facebook.com/630574765771861/posts/749769017185768 │ 2023-12-31 01:02:00 │ Sunday        │ Morning       │\n",
      "├────┼───────────────────┼───────────────────────────────┼────────────────────────────────────────────────────────────────────────────────────────────────────────────────────────────────────────────────────────────────────────────────────────────────────────────────────────────────────────────────────────────────────────────────────────────────────────────────────────────────────────────────────────────────────────────────────────────────────────────────────────────────────────────────────────────────────────────────────────────────────────────────────────────────────────────────────────────────────────────────────────────────────────────────────────────┼───────────────────────┼────────────────────┼────────────────────────────────┼──────────────────────┼─────────────────────┼─────────────────────────────┼─────────────────────────┼──────────────┼───────────────────┼──────────────┼─────────────────┼───────────────┼──────────────────┼──────────────────────────────────┼────────────────────────────────────────────────────────────────┼─────────────────────┼───────────────┼───────────────┤\n",
      "│ 21 │ 12/31/23 1:00 AM  │ Pacific Park                  │ Embark on a luminous journey with Pacific Wheel at Pacific Park! 🎡☀️ Soak in the breathtaking views of the SoCal coastline from 130 feet above the iconic Santa Monica Pier. Standing tall at 85 feet, this solar-powered Ferris wheel takes you on a captivating ride at 2.5 revolutions per minute. Don't miss the dazzling evening spectacle, as 174,000 LED lights paint the night with dynamic, computer-generated magic! 🌙✨                                                                                                                                                                                       │                    17 │                nan │                              0 │                    2 │                   0 │                           0 │ 3,39E+12                │   3.39e+12   │                14 │          nan │               1 │           nan │ 61119627598      │      61119627598_749717757203972 │ https://www.facebook.com/562953045880445/posts/749717757203972 │ 2023-12-31 01:00:00 │ Sunday        │ Morning       │\n",
      "├────┼───────────────────┼───────────────────────────────┼────────────────────────────────────────────────────────────────────────────────────────────────────────────────────────────────────────────────────────────────────────────────────────────────────────────────────────────────────────────────────────────────────────────────────────────────────────────────────────────────────────────────────────────────────────────────────────────────────────────────────────────────────────────────────────────────────────────────────────────────────────────────────────────────────────────────────────────────────────────────────────────────────────────────────────────┼───────────────────────┼────────────────────┼────────────────────────────────┼──────────────────────┼─────────────────────┼─────────────────────────────┼─────────────────────────┼──────────────┼───────────────────┼──────────────┼─────────────────┼───────────────┼──────────────────┼──────────────────────────────────┼────────────────────────────────────────────────────────────────┼─────────────────────┼───────────────┼───────────────┤\n",
      "│ 22 │ 12/31/23 12:40 AM │ Happy Hollow Park & Zoo       │ We are “ducky” to have your support! We met our $90,000 goal! Thank you for helping Happy Hollow Foundation double the impact this holiday season — your generosity continues to fund conservation, education and play at Happy Hollow.                                                                                                                                                                                                                                                                                                                                                                                    │                    15 │                nan │                              0 │                    0 │                   0 │                           0 │ 3,80E+12                │   3.8e+12    │                10 │          nan │               1 │           nan │ 1,32943E+11      │     132942835175_753673856789452 │ https://www.facebook.com/328743942615781/posts/753673856789452 │ 2023-12-31 00:40:00 │ Sunday        │ Morning       │\n",
      "├────┼───────────────────┼───────────────────────────────┼────────────────────────────────────────────────────────────────────────────────────────────────────────────────────────────────────────────────────────────────────────────────────────────────────────────────────────────────────────────────────────────────────────────────────────────────────────────────────────────────────────────────────────────────────────────────────────────────────────────────────────────────────────────────────────────────────────────────────────────────────────────────────────────────────────────────────────────────────────────────────────────────────────────────────────────┼───────────────────────┼────────────────────┼────────────────────────────────┼──────────────────────┼─────────────────────┼─────────────────────────────┼─────────────────────────┼──────────────┼───────────────────┼──────────────┼─────────────────┼───────────────┼──────────────────┼──────────────────────────────────┼────────────────────────────────────────────────────────────────┼─────────────────────┼───────────────┼───────────────┤\n",
      "│ 23 │ 12/31/23 12:26 AM │ Busch Gardens Williamsburg    │ Spread some holiday cheer, fireworks are almost here! Join us tomorrow for a spectacular fireworks display to ring in 2024! 🎇                                                                                                                                                                                                                                                                                                                                                                                                                                                                                             │                   131 │                nan │                             10 │                    8 │                  17 │                          17 │ 2,19E+12                │   2.19e+12   │               112 │          nan │               1 │           nan │ 18543728314      │      18543728314_759061129595858 │ https://www.facebook.com/660535342781771/posts/759061129595858 │ 2023-12-31 00:26:00 │ Sunday        │ Morning       │\n",
      "├────┼───────────────────┼───────────────────────────────┼────────────────────────────────────────────────────────────────────────────────────────────────────────────────────────────────────────────────────────────────────────────────────────────────────────────────────────────────────────────────────────────────────────────────────────────────────────────────────────────────────────────────────────────────────────────────────────────────────────────────────────────────────────────────────────────────────────────────────────────────────────────────────────────────────────────────────────────────────────────────────────────────────────────────────────────┼───────────────────────┼────────────────────┼────────────────────────────────┼──────────────────────┼─────────────────────┼─────────────────────────────┼─────────────────────────┼──────────────┼───────────────────┼──────────────┼─────────────────┼───────────────┼──────────────────┼──────────────────────────────────┼────────────────────────────────────────────────────────────────┼─────────────────────┼───────────────┼───────────────┤\n",
      "│ 24 │ 12/31/23 12:26 AM │ Santa Cruz Beach Boardwalk    │ 🌊🌈🎢                                                                                                                                                                                                                                                                                                                                                                                                                                                                                                                                                                                                                     │                   580 │                nan │                             12 │                   48 │                  12 │                          12 │ 0.0015418974493643287   │   0.0015419  │               398 │          nan │               1 │           nan │ 40035168377      │      40035168377_800734422097594 │ https://www.facebook.com/648251637345874/posts/800734422097594 │ 2023-12-31 00:26:00 │ Sunday        │ Morning       │\n",
      "╘════╧═══════════════════╧═══════════════════════════════╧════════════════════════════════════════════════════════════════════════════════════════════════════════════════════════════════════════════════════════════════════════════════════════════════════════════════════════════════════════════════════════════════════════════════════════════════════════════════════════════════════════════════════════════════════════════════════════════════════════════════════════════════════════════════════════════════════════════════════════════════════════════════════════════════════════════════════════════════════════════════════════════════════════════════════════════╧═══════════════════════╧════════════════════╧════════════════════════════════╧══════════════════════╧═════════════════════╧═════════════════════════════╧═════════════════════════╧══════════════╧═══════════════════╧══════════════╧═════════════════╧═══════════════╧══════════════════╧══════════════════════════════════╧════════════════════════════════════════════════════════════════╧═════════════════════╧═══════════════╧═══════════════╛\n"
     ]
    }
   ],
   "source": [
    "from tabulate import tabulate\n",
    "\n",
    "# Display the top 25 results of the DataFrame in a formatted table\n",
    "print(tabulate(df.head(25), headers='keys', tablefmt='fancy_grid'))"
   ]
  }
 ],
 "metadata": {
  "kernelspec": {
   "display_name": "Python 3",
   "language": "python",
   "name": "python3"
  },
  "language_info": {
   "codemirror_mode": {
    "name": "ipython",
    "version": 3
   },
   "file_extension": ".py",
   "mimetype": "text/x-python",
   "name": "python",
   "nbconvert_exporter": "python",
   "pygments_lexer": "ipython3",
   "version": "3.12.0"
  }
 },
 "nbformat": 4,
 "nbformat_minor": 2
}
