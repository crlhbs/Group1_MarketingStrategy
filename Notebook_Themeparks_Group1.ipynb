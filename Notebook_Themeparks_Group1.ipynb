{
 "cells": [
  {
   "cell_type": "markdown",
   "metadata": {},
   "source": [
    "# Digital Marketing Strategy\n",
    "\n",
    "Team \n",
    "* Paul Antony | 500938419 \n",
    "* Carl Hümbs | 500927977 \n",
    "* Matthijs Snijders | 500780453 \n",
    "* Otto Tagapere | 500930931 "
   ]
  },
  {
   "cell_type": "code",
   "execution_count": 14,
   "metadata": {},
   "outputs": [],
   "source": [
    "#Importing all necessary libraries\n",
    "\n",
    "import pandas as pd\n",
    "import matplotlib.pyplot as plt\n",
    "import seaborn as sns"
   ]
  },
  {
   "cell_type": "markdown",
   "metadata": {},
   "source": [
    "## 1. Data preprocessing and cleaning"
   ]
  },
  {
   "cell_type": "code",
   "execution_count": 15,
   "metadata": {},
   "outputs": [],
   "source": [
    "# Importing the 4 csv files\n",
    "\n",
    "df_1 = pd.read_csv('https://raw.githubusercontent.com/crlhbs/Group1_MarketingStrategy/main/original%20theme%20park%20datasets/Themeparcs%20I.csv?token=GHSAT0AAAAAACPJTRO6YHOXTFAG56P57LV6ZPQHJFQ', delimiter=';')\n",
    "df_2 = pd.read_csv('https://raw.githubusercontent.com/crlhbs/Group1_MarketingStrategy/main/original%20theme%20park%20datasets/Themeparcs%20II.csv?token=GHSAT0AAAAAACPJTRO7BYOUWE2CLI6AFLXMZPQHNDQ', delimiter=';')\n",
    "df_3 = pd.read_csv('https://raw.githubusercontent.com/crlhbs/Group1_MarketingStrategy/main/original%20theme%20park%20datasets/Themeparcs%20III.csv?token=GHSAT0AAAAAACPJTRO6XX66HWSEJ6XWSRBMZPQHN3A', delimiter=';')\n",
    "df_4 = pd.read_csv('https://raw.githubusercontent.com/crlhbs/Group1_MarketingStrategy/main/original%20theme%20park%20datasets/Themeparcs%20IV.csv?token=GHSAT0AAAAAACPJTRO7CPU4UIDQ5MBDQZIUZPQHK7A', delimiter=';')"
   ]
  },
  {
   "cell_type": "code",
   "execution_count": 16,
   "metadata": {},
   "outputs": [
    {
     "name": "stdout",
     "output_type": "stream",
     "text": [
      "               Date                     Profile  \\\n",
      "0  12/31/23 9:40 PM  Wild Adventures Theme Park   \n",
      "1  12/31/23 8:01 PM            Fun Spot America   \n",
      "2  12/31/23 7:30 PM            Fun Spot America   \n",
      "3  12/31/23 7:00 PM            Disneyland Paris   \n",
      "4  12/31/23 7:00 PM       Silverwood Theme Park   \n",
      "\n",
      "                                             Message  Number of Reactions  \\\n",
      "0  🎟️🚨 Today's the FINAL day to use your 2023 Sea...                 16.0   \n",
      "1  See you next year! 😉                Don’t miss...                 38.0   \n",
      "2  Don't miss our HUGE firework display ! 🥳\\n\\n#f...                 23.0   \n",
      "3     Fijne jaarwisseling! 🥂🎉\\nEn tot volgend jaar 😉                646.0   \n",
      "4  It's the last day of our New Year's Sale! Save...                 17.0   \n",
      "\n",
      "   Number of Shares  Number of Comments (primary)  Number of Shares.1  \\\n",
      "0               NaN                           2.0                 2.0   \n",
      "1               NaN                           1.0                 2.0   \n",
      "2               NaN                           2.0                 3.0   \n",
      "3               NaN                          52.0                12.0   \n",
      "4               NaN                           2.0                 0.0   \n",
      "\n",
      "   Comments per post  Comments on posts by fans Post interaction rate  \\\n",
      "0                2.0                        2.0              1,09E+12   \n",
      "1                1.0                        1.0              4,17E+11   \n",
      "2                2.0                        2.0              2,85E+11   \n",
      "3               56.0                       56.0              1,36E+11   \n",
      "4                2.0                        2.0              4,96E+11   \n",
      "\n",
      "  Engagement  Number of Likes  Link-posts  Picture Posts  Video-posts  \\\n",
      "0   1,09E+12             13.0         NaN            1.0          NaN   \n",
      "1   4,17E+11             33.0         NaN            NaN          NaN   \n",
      "2   2,85E+11             21.0         NaN            NaN          1.0   \n",
      "3   1,36E+11            478.0         NaN            1.0          NaN   \n",
      "4   4,96E+11             16.0         NaN            NaN          1.0   \n",
      "\n",
      "    Profile-ID                          Post-ID  \\\n",
      "0  84679583132      84679583132_770120045161180   \n",
      "1   1,8402E+11     184020466977_767286052104076   \n",
      "2   1,8402E+11     184020466977_767267948772553   \n",
      "3  6,52389E+14  652389081615295_775974521237956   \n",
      "4  7,62702E+14  762701550509617_678920137770716   \n",
      "\n",
      "                                                Link  \n",
      "0  https://www.facebook.com/617429960430190/posts...  \n",
      "1  https://www.facebook.com/653224623510220/posts...  \n",
      "2  https://www.facebook.com/653224623510220/posts...  \n",
      "3  https://www.facebook.com/724434559725286/posts...  \n",
      "4  https://www.facebook.com/562559642740100/posts...  \n"
     ]
    }
   ],
   "source": [
    "# Merging the 4 csv files into 1 single table\n",
    "\n",
    "# Concatenate the DataFrames along the rows\n",
    "df = pd.concat([df_1, df_2, df_3, df_4], ignore_index=True)\n",
    "\n",
    "# To verify the combined DataFrame\n",
    "print(df.head())\n",
    "\n",
    "# Now combined_df contains all the rows from df_1, df_2, df_3, and df_4 in a single DataFrame."
   ]
  },
  {
   "cell_type": "markdown",
   "metadata": {},
   "source": [
    "### 1.1 Cleaning the dataset"
   ]
  },
  {
   "cell_type": "code",
   "execution_count": 17,
   "metadata": {},
   "outputs": [
    {
     "name": "stdout",
     "output_type": "stream",
     "text": [
      "Missing values in each column:\n",
      "Date                                0\n",
      "Profile                             0\n",
      "Message                             0\n",
      "Number of Reactions                 0\n",
      "Number of Shares                15443\n",
      "Number of Comments (primary)        0\n",
      "Number of Shares.1                  0\n",
      "Comments per post                   0\n",
      "Comments on posts by fans           0\n",
      "Post interaction rate               0\n",
      "Engagement                          0\n",
      "Number of Likes                     0\n",
      "Link-posts                      14888\n",
      "Picture Posts                    3881\n",
      "Video-posts                     12964\n",
      "Profile-ID                          0\n",
      "Post-ID                             0\n",
      "Link                                0\n",
      "dtype: int64\n",
      "\n",
      "Columns with missing values:\n",
      "Number of Shares    15443\n",
      "Link-posts          14888\n",
      "Picture Posts        3881\n",
      "Video-posts         12964\n",
      "dtype: int64\n"
     ]
    }
   ],
   "source": [
    "# Check for missing values in the combined DataFrame\n",
    "missing_values = df.isnull().sum()\n",
    "\n",
    "# Display the count of missing values for each column\n",
    "print(\"Missing values in each column:\")\n",
    "print(missing_values)\n",
    "\n",
    "# If you want to display only the columns with missing values:\n",
    "print(\"\\nColumns with missing values:\")\n",
    "print(missing_values[missing_values > 0])"
   ]
  },
  {
   "cell_type": "code",
   "execution_count": 18,
   "metadata": {},
   "outputs": [],
   "source": [
    "# Dropping the \"Number of Shares\" column as it is empty in every single row of the dataset\n",
    "df.drop(columns=['Number of Shares', 'Comments on posts by fans'], inplace=True)"
   ]
  },
  {
   "cell_type": "code",
   "execution_count": 19,
   "metadata": {},
   "outputs": [
    {
     "name": "stdout",
     "output_type": "stream",
     "text": [
      "Date                             object\n",
      "Profile                          object\n",
      "Message                          object\n",
      "Number of Reactions               int32\n",
      "Number of Comments (primary)      int32\n",
      "Number of Shares.1                int32\n",
      "Comments per post                 int32\n",
      "Post interaction rate            object\n",
      "Engagement                       object\n",
      "Number of Likes                   int32\n",
      "Link-posts                      float64\n",
      "Picture Posts                   float64\n",
      "Video-posts                     float64\n",
      "Profile-ID                       object\n",
      "Post-ID                          object\n",
      "Link                             object\n",
      "dtype: object\n"
     ]
    }
   ],
   "source": [
    "# List of columns to convert to integers\n",
    "columns_to_convert = ['Number of Reactions', 'Number of Comments (primary)', 'Number of Shares.1', \n",
    "                      'Comments per post', 'Number of Likes']\n",
    "\n",
    "# Convert float values to integers\n",
    "df[columns_to_convert] = df[columns_to_convert].astype(int)\n",
    "\n",
    "# Verify the changes\n",
    "print(df.dtypes)"
   ]
  },
  {
   "cell_type": "code",
   "execution_count": 20,
   "metadata": {},
   "outputs": [],
   "source": [
    "# Remove the comma from the string and convert it to a float\n",
    "df['Engagement'] = df['Engagement'].str.replace(',', '.').astype(float)"
   ]
  },
  {
   "cell_type": "code",
   "execution_count": 21,
   "metadata": {},
   "outputs": [],
   "source": [
    "#for better overview, we will change the names of the columns\n",
    "df.rename(columns={'Date': 'date', 'Profile': 'profile','Message': 'message', 'Number of Reactions': 'nr_reactions', 'Number of Comments (primary)': 'nr_comments', 'Number of Shares.1': 'nr_shares', 'Comments per post': 'comments/post', 'Post interaction rate': 'post_interaction_rate', 'Engagement': 'engagement', 'Number of Likes': 'nr_likes', 'Link-posts': 'link_posts', 'Picture Posts': 'picture_posts', 'Video-posts': 'video_posts','Profile-ID': 'profile_id','Post-ID': 'post_id','Link': 'link',}, inplace=True)\n",
    "#display the pfofile column in small letters\n",
    "df['profile'] = df['profile'].str.lower()"
   ]
  },
  {
   "cell_type": "code",
   "execution_count": 22,
   "metadata": {},
   "outputs": [
    {
     "data": {
      "text/html": [
       "<div>\n",
       "<style scoped>\n",
       "    .dataframe tbody tr th:only-of-type {\n",
       "        vertical-align: middle;\n",
       "    }\n",
       "\n",
       "    .dataframe tbody tr th {\n",
       "        vertical-align: top;\n",
       "    }\n",
       "\n",
       "    .dataframe thead th {\n",
       "        text-align: right;\n",
       "    }\n",
       "</style>\n",
       "<table border=\"1\" class=\"dataframe\">\n",
       "  <thead>\n",
       "    <tr style=\"text-align: right;\">\n",
       "      <th></th>\n",
       "      <th>date</th>\n",
       "      <th>profile</th>\n",
       "      <th>message</th>\n",
       "      <th>nr_reactions</th>\n",
       "      <th>nr_comments</th>\n",
       "      <th>nr_shares</th>\n",
       "      <th>comments/post</th>\n",
       "      <th>post_interaction_rate</th>\n",
       "      <th>engagement</th>\n",
       "      <th>nr_likes</th>\n",
       "      <th>link_posts</th>\n",
       "      <th>picture_posts</th>\n",
       "      <th>video_posts</th>\n",
       "      <th>profile_id</th>\n",
       "      <th>post_id</th>\n",
       "      <th>link</th>\n",
       "    </tr>\n",
       "  </thead>\n",
       "  <tbody>\n",
       "    <tr>\n",
       "      <th>0</th>\n",
       "      <td>12/31/23 9:40 PM</td>\n",
       "      <td>wild adventures theme park</td>\n",
       "      <td>🎟️🚨 Today's the FINAL day to use your 2023 Sea...</td>\n",
       "      <td>16</td>\n",
       "      <td>2</td>\n",
       "      <td>2</td>\n",
       "      <td>2</td>\n",
       "      <td>1,09E+12</td>\n",
       "      <td>1.090000e+12</td>\n",
       "      <td>13</td>\n",
       "      <td>NaN</td>\n",
       "      <td>1.0</td>\n",
       "      <td>NaN</td>\n",
       "      <td>84679583132</td>\n",
       "      <td>84679583132_770120045161180</td>\n",
       "      <td>https://www.facebook.com/617429960430190/posts...</td>\n",
       "    </tr>\n",
       "  </tbody>\n",
       "</table>\n",
       "</div>"
      ],
      "text/plain": [
       "               date                     profile  \\\n",
       "0  12/31/23 9:40 PM  wild adventures theme park   \n",
       "\n",
       "                                             message  nr_reactions  \\\n",
       "0  🎟️🚨 Today's the FINAL day to use your 2023 Sea...            16   \n",
       "\n",
       "   nr_comments  nr_shares  comments/post post_interaction_rate    engagement  \\\n",
       "0            2          2              2              1,09E+12  1.090000e+12   \n",
       "\n",
       "   nr_likes  link_posts  picture_posts  video_posts   profile_id  \\\n",
       "0        13         NaN            1.0          NaN  84679583132   \n",
       "\n",
       "                       post_id  \\\n",
       "0  84679583132_770120045161180   \n",
       "\n",
       "                                                link  \n",
       "0  https://www.facebook.com/617429960430190/posts...  "
      ]
     },
     "execution_count": 22,
     "metadata": {},
     "output_type": "execute_result"
    }
   ],
   "source": [
    "df.head(1)"
   ]
  },
  {
   "cell_type": "markdown",
   "metadata": {},
   "source": [
    "### **1.3 Adding the Level 2 variable**"
   ]
  },
  {
   "cell_type": "code",
   "execution_count": 23,
   "metadata": {},
   "outputs": [
    {
     "name": "stdout",
     "output_type": "stream",
     "text": [
      "                      Profile  Followers\n",
      "0  Wild Adventures Theme Park         66\n",
      "1            Fun Spot America     100000\n",
      "2       Silverwood Theme Park     381000\n",
      "3                Belmont Park      51000\n",
      "4            SeaWorld Orlando     267000\n"
     ]
    }
   ],
   "source": [
    "#read the excel file into a dataframe\n",
    "level2_df = pd.read_excel('Themepark_Followers.xlsx')\n",
    "#to check the first few rows of the dataframe, you can use\n",
    "print(level2_df.head())\n"
   ]
  },
  {
   "cell_type": "code",
   "execution_count": 24,
   "metadata": {},
   "outputs": [
    {
     "data": {
      "text/html": [
       "<div>\n",
       "<style scoped>\n",
       "    .dataframe tbody tr th:only-of-type {\n",
       "        vertical-align: middle;\n",
       "    }\n",
       "\n",
       "    .dataframe tbody tr th {\n",
       "        vertical-align: top;\n",
       "    }\n",
       "\n",
       "    .dataframe thead th {\n",
       "        text-align: right;\n",
       "    }\n",
       "</style>\n",
       "<table border=\"1\" class=\"dataframe\">\n",
       "  <thead>\n",
       "    <tr style=\"text-align: right;\">\n",
       "      <th></th>\n",
       "      <th>profile</th>\n",
       "      <th>followers</th>\n",
       "    </tr>\n",
       "  </thead>\n",
       "  <tbody>\n",
       "    <tr>\n",
       "      <th>0</th>\n",
       "      <td>wild adventures theme park</td>\n",
       "      <td>66</td>\n",
       "    </tr>\n",
       "  </tbody>\n",
       "</table>\n",
       "</div>"
      ],
      "text/plain": [
       "                      profile  followers\n",
       "0  wild adventures theme park         66"
      ]
     },
     "execution_count": 24,
     "metadata": {},
     "output_type": "execute_result"
    }
   ],
   "source": [
    "#rename the columns\n",
    "level2_df.rename(columns={'Followers': 'followers', 'Profile': 'profile',}, inplace=True)\n",
    "#display the pfofile column in small letters\n",
    "level2_df['profile'] = level2_df['profile'].str.lower()\n",
    "level2_df.head(1)"
   ]
  },
  {
   "cell_type": "code",
   "execution_count": 25,
   "metadata": {},
   "outputs": [
    {
     "data": {
      "text/html": [
       "<div>\n",
       "<style scoped>\n",
       "    .dataframe tbody tr th:only-of-type {\n",
       "        vertical-align: middle;\n",
       "    }\n",
       "\n",
       "    .dataframe tbody tr th {\n",
       "        vertical-align: top;\n",
       "    }\n",
       "\n",
       "    .dataframe thead th {\n",
       "        text-align: right;\n",
       "    }\n",
       "</style>\n",
       "<table border=\"1\" class=\"dataframe\">\n",
       "  <thead>\n",
       "    <tr style=\"text-align: right;\">\n",
       "      <th></th>\n",
       "      <th>date</th>\n",
       "      <th>profile</th>\n",
       "      <th>message</th>\n",
       "      <th>nr_reactions</th>\n",
       "      <th>nr_comments</th>\n",
       "      <th>nr_shares</th>\n",
       "      <th>comments/post</th>\n",
       "      <th>post_interaction_rate</th>\n",
       "      <th>engagement</th>\n",
       "      <th>nr_likes</th>\n",
       "      <th>link_posts</th>\n",
       "      <th>picture_posts</th>\n",
       "      <th>video_posts</th>\n",
       "      <th>profile_id</th>\n",
       "      <th>post_id</th>\n",
       "      <th>link</th>\n",
       "      <th>followers</th>\n",
       "    </tr>\n",
       "  </thead>\n",
       "  <tbody>\n",
       "    <tr>\n",
       "      <th>0</th>\n",
       "      <td>12/31/23 9:40 PM</td>\n",
       "      <td>wild adventures theme park</td>\n",
       "      <td>🎟️🚨 Today's the FINAL day to use your 2023 Sea...</td>\n",
       "      <td>16</td>\n",
       "      <td>2</td>\n",
       "      <td>2</td>\n",
       "      <td>2</td>\n",
       "      <td>1,09E+12</td>\n",
       "      <td>1.090000e+12</td>\n",
       "      <td>13</td>\n",
       "      <td>NaN</td>\n",
       "      <td>1.0</td>\n",
       "      <td>NaN</td>\n",
       "      <td>84679583132</td>\n",
       "      <td>84679583132_770120045161180</td>\n",
       "      <td>https://www.facebook.com/617429960430190/posts...</td>\n",
       "      <td>66.0</td>\n",
       "    </tr>\n",
       "    <tr>\n",
       "      <th>1</th>\n",
       "      <td>12/31/23 8:01 PM</td>\n",
       "      <td>fun spot america</td>\n",
       "      <td>See you next year! 😉                Don’t miss...</td>\n",
       "      <td>38</td>\n",
       "      <td>1</td>\n",
       "      <td>2</td>\n",
       "      <td>1</td>\n",
       "      <td>4,17E+11</td>\n",
       "      <td>4.170000e+11</td>\n",
       "      <td>33</td>\n",
       "      <td>NaN</td>\n",
       "      <td>NaN</td>\n",
       "      <td>NaN</td>\n",
       "      <td>1,8402E+11</td>\n",
       "      <td>184020466977_767286052104076</td>\n",
       "      <td>https://www.facebook.com/653224623510220/posts...</td>\n",
       "      <td>100000.0</td>\n",
       "    </tr>\n",
       "    <tr>\n",
       "      <th>2</th>\n",
       "      <td>12/31/23 7:30 PM</td>\n",
       "      <td>fun spot america</td>\n",
       "      <td>Don't miss our HUGE firework display ! 🥳\\n\\n#f...</td>\n",
       "      <td>23</td>\n",
       "      <td>2</td>\n",
       "      <td>3</td>\n",
       "      <td>2</td>\n",
       "      <td>2,85E+11</td>\n",
       "      <td>2.850000e+11</td>\n",
       "      <td>21</td>\n",
       "      <td>NaN</td>\n",
       "      <td>NaN</td>\n",
       "      <td>1.0</td>\n",
       "      <td>1,8402E+11</td>\n",
       "      <td>184020466977_767267948772553</td>\n",
       "      <td>https://www.facebook.com/653224623510220/posts...</td>\n",
       "      <td>100000.0</td>\n",
       "    </tr>\n",
       "    <tr>\n",
       "      <th>3</th>\n",
       "      <td>12/31/23 7:00 PM</td>\n",
       "      <td>disneyland paris</td>\n",
       "      <td>Fijne jaarwisseling! 🥂🎉\\nEn tot volgend jaar 😉</td>\n",
       "      <td>646</td>\n",
       "      <td>52</td>\n",
       "      <td>12</td>\n",
       "      <td>56</td>\n",
       "      <td>1,36E+11</td>\n",
       "      <td>1.360000e+11</td>\n",
       "      <td>478</td>\n",
       "      <td>NaN</td>\n",
       "      <td>1.0</td>\n",
       "      <td>NaN</td>\n",
       "      <td>6,52389E+14</td>\n",
       "      <td>652389081615295_775974521237956</td>\n",
       "      <td>https://www.facebook.com/724434559725286/posts...</td>\n",
       "      <td>NaN</td>\n",
       "    </tr>\n",
       "    <tr>\n",
       "      <th>4</th>\n",
       "      <td>12/31/23 7:00 PM</td>\n",
       "      <td>silverwood theme park</td>\n",
       "      <td>It's the last day of our New Year's Sale! Save...</td>\n",
       "      <td>17</td>\n",
       "      <td>2</td>\n",
       "      <td>0</td>\n",
       "      <td>2</td>\n",
       "      <td>4,96E+11</td>\n",
       "      <td>4.960000e+11</td>\n",
       "      <td>16</td>\n",
       "      <td>NaN</td>\n",
       "      <td>NaN</td>\n",
       "      <td>1.0</td>\n",
       "      <td>7,62702E+14</td>\n",
       "      <td>762701550509617_678920137770716</td>\n",
       "      <td>https://www.facebook.com/562559642740100/posts...</td>\n",
       "      <td>381000.0</td>\n",
       "    </tr>\n",
       "  </tbody>\n",
       "</table>\n",
       "</div>"
      ],
      "text/plain": [
       "               date                     profile  \\\n",
       "0  12/31/23 9:40 PM  wild adventures theme park   \n",
       "1  12/31/23 8:01 PM            fun spot america   \n",
       "2  12/31/23 7:30 PM            fun spot america   \n",
       "3  12/31/23 7:00 PM            disneyland paris   \n",
       "4  12/31/23 7:00 PM       silverwood theme park   \n",
       "\n",
       "                                             message  nr_reactions  \\\n",
       "0  🎟️🚨 Today's the FINAL day to use your 2023 Sea...            16   \n",
       "1  See you next year! 😉                Don’t miss...            38   \n",
       "2  Don't miss our HUGE firework display ! 🥳\\n\\n#f...            23   \n",
       "3     Fijne jaarwisseling! 🥂🎉\\nEn tot volgend jaar 😉           646   \n",
       "4  It's the last day of our New Year's Sale! Save...            17   \n",
       "\n",
       "   nr_comments  nr_shares  comments/post post_interaction_rate    engagement  \\\n",
       "0            2          2              2              1,09E+12  1.090000e+12   \n",
       "1            1          2              1              4,17E+11  4.170000e+11   \n",
       "2            2          3              2              2,85E+11  2.850000e+11   \n",
       "3           52         12             56              1,36E+11  1.360000e+11   \n",
       "4            2          0              2              4,96E+11  4.960000e+11   \n",
       "\n",
       "   nr_likes  link_posts  picture_posts  video_posts   profile_id  \\\n",
       "0        13         NaN            1.0          NaN  84679583132   \n",
       "1        33         NaN            NaN          NaN   1,8402E+11   \n",
       "2        21         NaN            NaN          1.0   1,8402E+11   \n",
       "3       478         NaN            1.0          NaN  6,52389E+14   \n",
       "4        16         NaN            NaN          1.0  7,62702E+14   \n",
       "\n",
       "                           post_id  \\\n",
       "0      84679583132_770120045161180   \n",
       "1     184020466977_767286052104076   \n",
       "2     184020466977_767267948772553   \n",
       "3  652389081615295_775974521237956   \n",
       "4  762701550509617_678920137770716   \n",
       "\n",
       "                                                link  followers  \n",
       "0  https://www.facebook.com/617429960430190/posts...       66.0  \n",
       "1  https://www.facebook.com/653224623510220/posts...   100000.0  \n",
       "2  https://www.facebook.com/653224623510220/posts...   100000.0  \n",
       "3  https://www.facebook.com/724434559725286/posts...        NaN  \n",
       "4  https://www.facebook.com/562559642740100/posts...   381000.0  "
      ]
     },
     "execution_count": 25,
     "metadata": {},
     "output_type": "execute_result"
    }
   ],
   "source": [
    "# Merge 'combined_df' with 'level2_df' on the 'profile' column\n",
    "combined_df = df.merge(level2_df, on='profile', how='left')\n",
    "#show combined_df\n",
    "combined_df.head()\n"
   ]
  },
  {
   "cell_type": "markdown",
   "metadata": {},
   "source": [
    "### **1.4 Exporting the combined and cleaned dataset** for further analytics in separate files"
   ]
  },
  {
   "cell_type": "code",
   "execution_count": 26,
   "metadata": {},
   "outputs": [],
   "source": [
    "# The combined df will be pushed to our github repository\n",
    "combined_df.to_csv('combined_themepark_dataset.csv', index=False)"
   ]
  }
 ],
 "metadata": {
  "kernelspec": {
   "display_name": "base",
   "language": "python",
   "name": "python3"
  },
  "language_info": {
   "codemirror_mode": {
    "name": "ipython",
    "version": 3
   },
   "file_extension": ".py",
   "mimetype": "text/x-python",
   "name": "python",
   "nbconvert_exporter": "python",
   "pygments_lexer": "ipython3",
   "version": "3.11.5"
  }
 },
 "nbformat": 4,
 "nbformat_minor": 2
}
