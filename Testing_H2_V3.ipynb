{
 "cells": [
  {
   "cell_type": "markdown",
   "metadata": {},
   "source": [
    "code by **PAUL ANTONY**"
   ]
  },
  {
   "cell_type": "markdown",
   "metadata": {},
   "source": [
    "**Importing necessary libraries and dataset from repository.**\n",
    "Dataset was firstly combined and afterwards cleaned within the team. Following Hypothesis 2 \"Posts including pictures and videos generate higher engagement levels (likes, comments, shares) compared to posts without those elements on US Theme Park Facebook profiles.\" will be checked within this Python File.\n"
   ]
  },
  {
   "cell_type": "code",
   "execution_count": 17,
   "metadata": {},
   "outputs": [
    {
     "name": "stdout",
     "output_type": "stream",
     "text": [
      "Original length of dataframe: 15443\n"
     ]
    }
   ],
   "source": [
    "# Importing the necessary libraries\n",
    "import pandas as pd\n",
    "import numpy as np\n",
    "from tabulate import tabulate\n",
    "import re\n",
    "import seaborn as sns\n",
    "from scipy import stats\n",
    "import matplotlib.pyplot as plt\n",
    "\n",
    "#loading our cleaned dataset\n",
    "df = pd.read_csv('combined_themepark_dataset.csv')\n",
    "df_original_len = len(df)\n",
    "print('Original length of dataframe:', df_original_len)"
   ]
  },
  {
   "cell_type": "code",
   "execution_count": 18,
   "metadata": {},
   "outputs": [
    {
     "data": {
      "text/html": [
       "<div>\n",
       "<style scoped>\n",
       "    .dataframe tbody tr th:only-of-type {\n",
       "        vertical-align: middle;\n",
       "    }\n",
       "\n",
       "    .dataframe tbody tr th {\n",
       "        vertical-align: top;\n",
       "    }\n",
       "\n",
       "    .dataframe thead th {\n",
       "        text-align: right;\n",
       "    }\n",
       "</style>\n",
       "<table border=\"1\" class=\"dataframe\">\n",
       "  <thead>\n",
       "    <tr style=\"text-align: right;\">\n",
       "      <th></th>\n",
       "      <th>date</th>\n",
       "      <th>profile</th>\n",
       "      <th>message</th>\n",
       "      <th>nr_reactions</th>\n",
       "      <th>nr_comments</th>\n",
       "      <th>nr_shares</th>\n",
       "      <th>comments/post</th>\n",
       "      <th>post_interaction_rate</th>\n",
       "      <th>engagement</th>\n",
       "      <th>nr_likes</th>\n",
       "      <th>link_posts</th>\n",
       "      <th>picture_posts</th>\n",
       "      <th>video_posts</th>\n",
       "      <th>profile_id</th>\n",
       "      <th>post_id</th>\n",
       "      <th>link</th>\n",
       "    </tr>\n",
       "  </thead>\n",
       "  <tbody>\n",
       "    <tr>\n",
       "      <th>0</th>\n",
       "      <td>12/31/23 9:40 PM</td>\n",
       "      <td>Wild Adventures Theme Park</td>\n",
       "      <td>🎟️🚨 Today's the FINAL day to use your 2023 Sea...</td>\n",
       "      <td>16</td>\n",
       "      <td>2</td>\n",
       "      <td>2</td>\n",
       "      <td>2</td>\n",
       "      <td>1,09E+12</td>\n",
       "      <td>1,09E+12</td>\n",
       "      <td>13</td>\n",
       "      <td>NaN</td>\n",
       "      <td>1.0</td>\n",
       "      <td>NaN</td>\n",
       "      <td>84679583132</td>\n",
       "      <td>84679583132_770120045161180</td>\n",
       "      <td>https://www.facebook.com/617429960430190/posts...</td>\n",
       "    </tr>\n",
       "  </tbody>\n",
       "</table>\n",
       "</div>"
      ],
      "text/plain": [
       "               date                     profile  \\\n",
       "0  12/31/23 9:40 PM  Wild Adventures Theme Park   \n",
       "\n",
       "                                             message  nr_reactions  \\\n",
       "0  🎟️🚨 Today's the FINAL day to use your 2023 Sea...            16   \n",
       "\n",
       "   nr_comments  nr_shares  comments/post post_interaction_rate engagement  \\\n",
       "0            2          2              2              1,09E+12   1,09E+12   \n",
       "\n",
       "   nr_likes  link_posts  picture_posts  video_posts   profile_id  \\\n",
       "0        13         NaN            1.0          NaN  84679583132   \n",
       "\n",
       "                       post_id  \\\n",
       "0  84679583132_770120045161180   \n",
       "\n",
       "                                                link  \n",
       "0  https://www.facebook.com/617429960430190/posts...  "
      ]
     },
     "execution_count": 18,
     "metadata": {},
     "output_type": "execute_result"
    }
   ],
   "source": [
    "df.head(1)"
   ]
  },
  {
   "cell_type": "markdown",
   "metadata": {},
   "source": [
    "**Main Research Question of the Report:** What strategies can US theme parks employ to enhance audience engagement based on insights from performance analysis on Facebook posts? <br>\n",
    "**Sub-Research Question for Hypothesis 2:** What impact do different types of posts (link, picture, video) have on the engagement levels of US Theme Park Facebook profiles? \n",
    "\n",
    "# Testing Hypothesis 2\n",
    "\n",
    "* H0: Posts including pictures and videos generate higher engagement levels (likes, comments, shares) compared to posts without those elements on US Theme Park Facebook profiles.\n",
    "* HA: Posts including pictures and videos generate lower engagement levels (likes, comments, shares) compared to posts without those elements on US Theme Park Facebook profiles."
   ]
  },
  {
   "cell_type": "code",
   "execution_count": 19,
   "metadata": {},
   "outputs": [
    {
     "data": {
      "text/plain": [
       "date                         0\n",
       "profile                      0\n",
       "message                      0\n",
       "nr_reactions                 0\n",
       "nr_comments                  0\n",
       "nr_shares                    0\n",
       "comments/post                0\n",
       "post_interaction_rate        0\n",
       "engagement                   0\n",
       "nr_likes                     0\n",
       "link_posts               14888\n",
       "picture_posts             3881\n",
       "video_posts              12964\n",
       "profile_id                   0\n",
       "post_id                      0\n",
       "link                         0\n",
       "dtype: int64"
      ]
     },
     "execution_count": 19,
     "metadata": {},
     "output_type": "execute_result"
    }
   ],
   "source": [
    "#check if there are rows without data\n",
    "df.isnull().sum()"
   ]
  },
  {
   "cell_type": "code",
   "execution_count": 20,
   "metadata": {},
   "outputs": [
    {
     "data": {
      "text/plain": [
       "date                      object\n",
       "profile                   object\n",
       "message                   object\n",
       "nr_reactions               int64\n",
       "nr_comments                int64\n",
       "nr_shares                  int64\n",
       "comments/post              int64\n",
       "post_interaction_rate     object\n",
       "engagement                object\n",
       "nr_likes                   int64\n",
       "link_posts               float64\n",
       "picture_posts            float64\n",
       "video_posts              float64\n",
       "profile_id                object\n",
       "post_id                   object\n",
       "link                      object\n",
       "dtype: object"
      ]
     },
     "execution_count": 20,
     "metadata": {},
     "output_type": "execute_result"
    }
   ],
   "source": [
    "#check data types\n",
    "df.dtypes"
   ]
  },
  {
   "cell_type": "code",
   "execution_count": 21,
   "metadata": {},
   "outputs": [],
   "source": [
    "#list of column names to drop\n",
    "columns_to_drop = ['message', 'date', 'profile_id', 'post_id', 'link',]\n",
    "#remove specified columns\n",
    "df = df.drop(columns=columns_to_drop)"
   ]
  },
  {
   "cell_type": "markdown",
   "metadata": {},
   "source": [
    "When examining the data type, it was found that there are a lot of missing values in the columns 'picture_posts' and 'video_posts'. This has to do with the fact that if it was a picture post, for example, the value 1 was assigned, on the other hand a NaN value remained. \n",
    "\n",
    "As a next log-safe step, I will now generate a new feature that combines this information. So if it is a picture post, the value 1 is assigned. If it is a video post, the value 2 and if the post does not contain an image or video, the value 3."
   ]
  },
  {
   "cell_type": "code",
   "execution_count": 22,
   "metadata": {},
   "outputs": [
    {
     "data": {
      "text/html": [
       "<div>\n",
       "<style scoped>\n",
       "    .dataframe tbody tr th:only-of-type {\n",
       "        vertical-align: middle;\n",
       "    }\n",
       "\n",
       "    .dataframe tbody tr th {\n",
       "        vertical-align: top;\n",
       "    }\n",
       "\n",
       "    .dataframe thead th {\n",
       "        text-align: right;\n",
       "    }\n",
       "</style>\n",
       "<table border=\"1\" class=\"dataframe\">\n",
       "  <thead>\n",
       "    <tr style=\"text-align: right;\">\n",
       "      <th></th>\n",
       "      <th>picture_posts</th>\n",
       "      <th>video_posts</th>\n",
       "      <th>post_type</th>\n",
       "    </tr>\n",
       "  </thead>\n",
       "  <tbody>\n",
       "    <tr>\n",
       "      <th>0</th>\n",
       "      <td>1.0</td>\n",
       "      <td>NaN</td>\n",
       "      <td>1</td>\n",
       "    </tr>\n",
       "    <tr>\n",
       "      <th>1</th>\n",
       "      <td>NaN</td>\n",
       "      <td>NaN</td>\n",
       "      <td>3</td>\n",
       "    </tr>\n",
       "    <tr>\n",
       "      <th>2</th>\n",
       "      <td>NaN</td>\n",
       "      <td>1.0</td>\n",
       "      <td>2</td>\n",
       "    </tr>\n",
       "    <tr>\n",
       "      <th>3</th>\n",
       "      <td>1.0</td>\n",
       "      <td>NaN</td>\n",
       "      <td>1</td>\n",
       "    </tr>\n",
       "    <tr>\n",
       "      <th>4</th>\n",
       "      <td>NaN</td>\n",
       "      <td>1.0</td>\n",
       "      <td>2</td>\n",
       "    </tr>\n",
       "  </tbody>\n",
       "</table>\n",
       "</div>"
      ],
      "text/plain": [
       "   picture_posts  video_posts  post_type\n",
       "0            1.0          NaN          1\n",
       "1            NaN          NaN          3\n",
       "2            NaN          1.0          2\n",
       "3            1.0          NaN          1\n",
       "4            NaN          1.0          2"
      ]
     },
     "execution_count": 22,
     "metadata": {},
     "output_type": "execute_result"
    }
   ],
   "source": [
    "#setting conditions for the columns\n",
    "conditions = [\n",
    "    ~df['picture_posts'].isna(),  # Not NaN for Picture Posts\n",
    "    ~df['video_posts'].isna()     # Not NaN for Video-posts\n",
    "]\n",
    "\n",
    "#updated values to assign based on the conditions: 1 for picture_posts, 2 for video_posts\n",
    "values = [1, 2]\n",
    "\n",
    "#create the new column 'post_type' with an 'other' category for everything else except picture and video posts\n",
    "df['post_type'] = np.select(conditions, values, default=3)\n",
    "\n",
    "#display the first few rows of the dataframe to verify the new column\n",
    "df[['picture_posts', 'video_posts', 'post_type']].head()\n"
   ]
  },
  {
   "cell_type": "code",
   "execution_count": 23,
   "metadata": {},
   "outputs": [
    {
     "name": "stdout",
     "output_type": "stream",
     "text": [
      "post_type\n",
      "1    11562\n",
      "2     2479\n",
      "3     1402\n",
      "Name: count, dtype: int64\n"
     ]
    }
   ],
   "source": [
    "#counting the occurrences of 1, 2, and 3 in the 'post_type' column\n",
    "post_type_counts = df['post_type'].value_counts()\n",
    "#displaying the counts\n",
    "print(post_type_counts)"
   ]
  },
  {
   "cell_type": "markdown",
   "metadata": {},
   "source": [
    "So we can see, that there are `11562` columns containing picture_posts, `2479` columns containing video_posts and `1402` without any of those."
   ]
  },
  {
   "cell_type": "code",
   "execution_count": 24,
   "metadata": {},
   "outputs": [
    {
     "data": {
      "image/png": "[encoded data removed]",
      "text/plain": [
       "<Figure size 640x480 with 1 Axes>"
      ]
     },
     "metadata": {},
     "output_type": "display_data"
    }
   ],
   "source": [
    "#plotting the histogram for the 'post_type' column\n",
    "plt.hist(df['post_type'], bins=[0.5, 1.5, 2.5, 3.5], edgecolor='black', alpha=0.7)\n",
    "\n",
    "#setting the x-ticks to correspond to the updated post types\n",
    "plt.xticks(ticks=[1, 2, 3], labels=['Picture', 'Video', 'Other'])\n",
    "\n",
    "#setting title and labels\n",
    "plt.title('Histogram of Post Types')\n",
    "plt.xlabel('Post Type')\n",
    "plt.ylabel('Frequency')\n",
    "\n",
    "#displaying the plot\n",
    "plt.show()"
   ]
  },
  {
   "cell_type": "code",
   "execution_count": 25,
   "metadata": {},
   "outputs": [],
   "source": [
    "#dropping the specified columns from the DataFrame\n",
    "df = df.drop(columns=['link_posts', 'picture_posts', 'video_posts'])"
   ]
  },
  {
   "cell_type": "code",
   "execution_count": 26,
   "metadata": {},
   "outputs": [
    {
     "name": "stdout",
     "output_type": "stream",
     "text": [
      "╒════╤════════════════════════════╤════════════════╤═══════════════╤═════════════╤═════════════════╤═════════════════════════╤══════════════╤════════════╤═════════════╕\n",
      "│    │ profile                    │   nr_reactions │   nr_comments │   nr_shares │   comments/post │ post_interaction_rate   │ engagement   │   nr_likes │   post_type │\n",
      "╞════╪════════════════════════════╪════════════════╪═══════════════╪═════════════╪═════════════════╪═════════════════════════╪══════════════╪════════════╪═════════════╡\n",
      "│  0 │ Wild Adventures Theme Park │             16 │             2 │           2 │               2 │ 1,09E+12                │ 1,09E+12     │         13 │           1 │\n",
      "├────┼────────────────────────────┼────────────────┼───────────────┼─────────────┼─────────────────┼─────────────────────────┼──────────────┼────────────┼─────────────┤\n",
      "│  1 │ Fun Spot America           │             38 │             1 │           2 │               1 │ 4,17E+11                │ 4,17E+11     │         33 │           3 │\n",
      "├────┼────────────────────────────┼────────────────┼───────────────┼─────────────┼─────────────────┼─────────────────────────┼──────────────┼────────────┼─────────────┤\n",
      "│  2 │ Fun Spot America           │             23 │             2 │           3 │               2 │ 2,85E+11                │ 2,85E+11     │         21 │           2 │\n",
      "├────┼────────────────────────────┼────────────────┼───────────────┼─────────────┼─────────────────┼─────────────────────────┼──────────────┼────────────┼─────────────┤\n",
      "│  3 │ Disneyland Paris           │            646 │            52 │          12 │              56 │ 1,36E+11                │ 1,36E+11     │        478 │           1 │\n",
      "├────┼────────────────────────────┼────────────────┼───────────────┼─────────────┼─────────────────┼─────────────────────────┼──────────────┼────────────┼─────────────┤\n",
      "│  4 │ Silverwood Theme Park      │             17 │             2 │           0 │               2 │ 4,96E+11                │ 4,96E+11     │         16 │           2 │\n",
      "╘════╧════════════════════════════╧════════════════╧═══════════════╧═════════════╧═════════════════╧═════════════════════════╧══════════════╧════════════╧═════════════╛\n"
     ]
    }
   ],
   "source": [
    "#display df in a formatted table\n",
    "print(tabulate(df.head(), headers='keys', tablefmt='fancy_grid'))"
   ]
  },
  {
   "cell_type": "code",
   "execution_count": 27,
   "metadata": {},
   "outputs": [
    {
     "data": {
      "image/png": "[encoded data removed]",
      "text/plain": [
       "<Figure size 600x450 with 2 Axes>"
      ]
     },
     "metadata": {},
     "output_type": "display_data"
    }
   ],
   "source": [
    "#preperation for correlation analysis on numerical columns, include all the float and int\n",
    "numerical_cols = df.select_dtypes(include=['float64', 'int64']).columns\n",
    "correlation_matrix = df[numerical_cols].corr()\n",
    "numerical_cols\n",
    "\n",
    "#plotting the correlation matrix\n",
    "plt.figure(figsize=(6, 4.5))\n",
    "sns.heatmap(correlation_matrix, annot=True, cmap='coolwarm', fmt=\".2f\")\n",
    "plt.title(\"Correlation Matrix of Numerical Variables\")\n",
    "plt.show()"
   ]
  },
  {
   "cell_type": "code",
   "execution_count": 28,
   "metadata": {},
   "outputs": [
    {
     "data": {
      "text/html": [
       "<div>\n",
       "<style scoped>\n",
       "    .dataframe tbody tr th:only-of-type {\n",
       "        vertical-align: middle;\n",
       "    }\n",
       "\n",
       "    .dataframe tbody tr th {\n",
       "        vertical-align: top;\n",
       "    }\n",
       "\n",
       "    .dataframe thead th {\n",
       "        text-align: right;\n",
       "    }\n",
       "</style>\n",
       "<table border=\"1\" class=\"dataframe\">\n",
       "  <thead>\n",
       "    <tr style=\"text-align: right;\">\n",
       "      <th></th>\n",
       "      <th>profile</th>\n",
       "      <th>nr_reactions</th>\n",
       "      <th>nr_comments</th>\n",
       "      <th>nr_shares</th>\n",
       "      <th>comments/post</th>\n",
       "      <th>post_interaction_rate</th>\n",
       "      <th>engagement</th>\n",
       "      <th>nr_likes</th>\n",
       "      <th>post_type</th>\n",
       "    </tr>\n",
       "  </thead>\n",
       "  <tbody>\n",
       "    <tr>\n",
       "      <th>0</th>\n",
       "      <td>Wild Adventures Theme Park</td>\n",
       "      <td>16</td>\n",
       "      <td>2</td>\n",
       "      <td>2</td>\n",
       "      <td>2</td>\n",
       "      <td>1,09E+12</td>\n",
       "      <td>1,09E+12</td>\n",
       "      <td>13</td>\n",
       "      <td>1</td>\n",
       "    </tr>\n",
       "    <tr>\n",
       "      <th>1</th>\n",
       "      <td>Fun Spot America</td>\n",
       "      <td>38</td>\n",
       "      <td>1</td>\n",
       "      <td>2</td>\n",
       "      <td>1</td>\n",
       "      <td>4,17E+11</td>\n",
       "      <td>4,17E+11</td>\n",
       "      <td>33</td>\n",
       "      <td>3</td>\n",
       "    </tr>\n",
       "    <tr>\n",
       "      <th>2</th>\n",
       "      <td>Fun Spot America</td>\n",
       "      <td>23</td>\n",
       "      <td>2</td>\n",
       "      <td>3</td>\n",
       "      <td>2</td>\n",
       "      <td>2,85E+11</td>\n",
       "      <td>2,85E+11</td>\n",
       "      <td>21</td>\n",
       "      <td>2</td>\n",
       "    </tr>\n",
       "    <tr>\n",
       "      <th>3</th>\n",
       "      <td>Disneyland Paris</td>\n",
       "      <td>646</td>\n",
       "      <td>52</td>\n",
       "      <td>12</td>\n",
       "      <td>56</td>\n",
       "      <td>1,36E+11</td>\n",
       "      <td>1,36E+11</td>\n",
       "      <td>478</td>\n",
       "      <td>1</td>\n",
       "    </tr>\n",
       "    <tr>\n",
       "      <th>4</th>\n",
       "      <td>Silverwood Theme Park</td>\n",
       "      <td>17</td>\n",
       "      <td>2</td>\n",
       "      <td>0</td>\n",
       "      <td>2</td>\n",
       "      <td>4,96E+11</td>\n",
       "      <td>4,96E+11</td>\n",
       "      <td>16</td>\n",
       "      <td>2</td>\n",
       "    </tr>\n",
       "  </tbody>\n",
       "</table>\n",
       "</div>"
      ],
      "text/plain": [
       "                      profile  nr_reactions  nr_comments  nr_shares  \\\n",
       "0  Wild Adventures Theme Park            16            2          2   \n",
       "1            Fun Spot America            38            1          2   \n",
       "2            Fun Spot America            23            2          3   \n",
       "3            Disneyland Paris           646           52         12   \n",
       "4       Silverwood Theme Park            17            2          0   \n",
       "\n",
       "   comments/post post_interaction_rate engagement  nr_likes  post_type  \n",
       "0              2              1,09E+12   1,09E+12        13          1  \n",
       "1              1              4,17E+11   4,17E+11        33          3  \n",
       "2              2              2,85E+11   2,85E+11        21          2  \n",
       "3             56              1,36E+11   1,36E+11       478          1  \n",
       "4              2              4,96E+11   4,96E+11        16          2  "
      ]
     },
     "execution_count": 28,
     "metadata": {},
     "output_type": "execute_result"
    }
   ],
   "source": [
    "df.head()"
   ]
  },
  {
   "cell_type": "code",
   "execution_count": 29,
   "metadata": {},
   "outputs": [
    {
     "data": {
      "text/plain": [
       "profile                  object\n",
       "nr_reactions              int64\n",
       "nr_comments               int64\n",
       "nr_shares                 int64\n",
       "comments/post             int64\n",
       "post_interaction_rate    object\n",
       "engagement               object\n",
       "nr_likes                  int64\n",
       "post_type                 int32\n",
       "dtype: object"
      ]
     },
     "execution_count": 29,
     "metadata": {},
     "output_type": "execute_result"
    }
   ],
   "source": [
    "df.dtypes"
   ]
  },
  {
   "cell_type": "code",
   "execution_count": 30,
   "metadata": {},
   "outputs": [],
   "source": [
    "# Remove the comma from the string and convert it to a float\n",
    "df['engagement'] = df['engagement'].str.replace(',', '.').astype(float)"
   ]
  },
  {
   "cell_type": "code",
   "execution_count": 31,
   "metadata": {},
   "outputs": [
    {
     "data": {
      "text/plain": [
       "profile                   object\n",
       "nr_reactions               int64\n",
       "nr_comments                int64\n",
       "nr_shares                  int64\n",
       "comments/post              int64\n",
       "post_interaction_rate     object\n",
       "engagement               float64\n",
       "nr_likes                   int64\n",
       "post_type                  int32\n",
       "dtype: object"
      ]
     },
     "execution_count": 31,
     "metadata": {},
     "output_type": "execute_result"
    }
   ],
   "source": [
    "df.dtypes"
   ]
  },
  {
   "cell_type": "code",
   "execution_count": 32,
   "metadata": {},
   "outputs": [
    {
     "name": "stdout",
     "output_type": "stream",
     "text": [
      "Shapiro-Wilk Test Statistic: 0.7344926595687866\n",
      "p-value: 0.0\n",
      "Sample does not look Gaussian (reject H0)\n"
     ]
    },
    {
     "name": "stderr",
     "output_type": "stream",
     "text": [
      "c:\\Users\\paula\\AppData\\Local\\Programs\\Python\\Python311\\Lib\\site-packages\\scipy\\stats\\_morestats.py:1882: UserWarning: p-value may not be accurate for N > 5000.\n",
      "  warnings.warn(\"p-value may not be accurate for N > 5000.\")\n"
     ]
    }
   ],
   "source": [
    "from scipy.stats import shapiro\n",
    "\n",
    "# Apply the Shapiro-Wilk test on the original engagement_score2 column\n",
    "# Assuming 'df' is your DataFrame and 'engagement_score2' is your column\n",
    "stat, p = shapiro(df['engagement'].dropna())\n",
    "\n",
    "# Print the test statistic and the p-value\n",
    "print('Shapiro-Wilk Test Statistic:', stat)\n",
    "print('p-value:', p)\n",
    "\n",
    "# Interpret the results\n",
    "alpha = 0.05\n",
    "if p > alpha:\n",
    "    print('Sample looks Gaussian (fail to reject H0)')\n",
    "else:\n",
    "    print('Sample does not look Gaussian (reject H0)')\n"
   ]
  },
  {
   "cell_type": "code",
   "execution_count": 33,
   "metadata": {},
   "outputs": [
    {
     "name": "stdout",
     "output_type": "stream",
     "text": [
      "Mann-Whitney U Test Statistic: 10256434.0\n",
      "p-value: 0.004674038950706106\n",
      "We reject the null hypothesis. There is a statistically significant difference in engagement scores between posts with media and without.\n"
     ]
    }
   ],
   "source": [
    "from scipy.stats import mannwhitneyu\n",
    "\n",
    "# Separate your data into two groups: one for posts with pictures/videos and one for posts without\n",
    "group_with_media = df[(df['post_type'] == 1) | (df['post_type'] == 2)]['engagement']\n",
    "group_without_media = df[df['post_type'] == 3]['engagement']\n",
    "\n",
    "# Perform the Mann-Whitney U test\n",
    "u_statistic, p_value = mannwhitneyu(group_with_media, group_without_media, alternative='greater')\n",
    "\n",
    "# Print the test statistic and p-value\n",
    "print('Mann-Whitney U Test Statistic:', u_statistic)\n",
    "print('p-value:', p_value)\n",
    "\n",
    "# Interpret the results\n",
    "alpha = 0.05\n",
    "if p_value < alpha:\n",
    "    print(\"We reject the null hypothesis. There is a statistically significant difference in engagement scores between posts with media and without.\")\n",
    "else:\n",
    "    print(\"We fail to reject the null hypothesis. There is not a statistically significant difference in engagement scores between posts with media and without.\")\n"
   ]
  },
  {
   "cell_type": "markdown",
   "metadata": {},
   "source": [
    "Interpretation: The p-value is less than 0.05, which suggests that there is a statistically significant difference in engagement scores between posts with pictures (post_type 1) and posts without media (post_type 3). Given that the alternative hypothesis for the test was that posts with media have higher engagement, this result suggests that picture posts are associated with higher engagement than posts without media."
   ]
  },
  {
   "cell_type": "code",
   "execution_count": 34,
   "metadata": {},
   "outputs": [
    {
     "name": "stdout",
     "output_type": "stream",
     "text": [
      "Mann-Whitney U Test Statistic: 1763285.0\n",
      "p-value: 0.22343316978941552\n",
      "We fail to reject the null hypothesis. There is not a statistically significant difference in engagement scores between posts with media and without.\n"
     ]
    }
   ],
   "source": [
    "from scipy.stats import mannwhitneyu\n",
    "\n",
    "# Separate your data into two groups: one for posts with pictures/videos and one for posts without\n",
    "group_with_media = df[(df['post_type'] == 2) | (df['post_type'] == 2)]['engagement']\n",
    "group_without_media = df[df['post_type'] == 3]['engagement']\n",
    "\n",
    "# Perform the Mann-Whitney U test\n",
    "u_statistic, p_value = mannwhitneyu(group_with_media, group_without_media, alternative='greater')\n",
    "\n",
    "# Print the test statistic and p-value\n",
    "print('Mann-Whitney U Test Statistic:', u_statistic)\n",
    "print('p-value:', p_value)\n",
    "\n",
    "# Interpret the results\n",
    "alpha = 0.05\n",
    "if p_value < alpha:\n",
    "    print(\"We reject the null hypothesis. There is a statistically significant difference in engagement scores between posts with media and without.\")\n",
    "else:\n",
    "    print(\"We fail to reject the null hypothesis. There is not a statistically significant difference in engagement scores between posts with media and without.\")\n"
   ]
  },
  {
   "cell_type": "markdown",
   "metadata": {},
   "source": [
    "Interpretation: The p-value is greater than 0.05, which suggests that there is no statistically significant difference in engagement scores between posts with videos (post_type 2) and posts without media (post_type 3). This means that, based on your sample, video posts do not show a significant difference in engagement compared to other types of posts."
   ]
  },
  {
   "cell_type": "code",
   "execution_count": null,
   "metadata": {},
   "outputs": [],
   "source": []
  }
 ],
 "metadata": {
  "kernelspec": {
   "display_name": "base",
   "language": "python",
   "name": "python3"
  },
  "language_info": {
   "codemirror_mode": {
    "name": "ipython",
    "version": 3
   },
   "file_extension": ".py",
   "mimetype": "text/x-python",
   "name": "python",
   "nbconvert_exporter": "python",
   "pygments_lexer": "ipython3",
   "version": "3.11.5"
  }
 },
 "nbformat": 4,
 "nbformat_minor": 2
}
