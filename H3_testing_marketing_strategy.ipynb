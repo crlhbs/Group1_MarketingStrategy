{
 "cells": [
  {
   "cell_type": "code",
   "execution_count": 42,
   "metadata": {},
   "outputs": [
    {
     "name": "stdout",
     "output_type": "stream",
     "text": [
      "Requirement already satisfied: pygam in c:\\users\\ottok\\appdata\\roaming\\python\\python311\\site-packages (0.9.1)\n",
      "Requirement already satisfied: numpy>=1.25 in c:\\users\\ottok\\anaconda3\\lib\\site-packages (from pygam) (1.26.4)\n",
      "Requirement already satisfied: progressbar2<5.0.0,>=4.2.0 in c:\\users\\ottok\\appdata\\roaming\\python\\python311\\site-packages (from pygam) (4.4.2)\n",
      "Requirement already satisfied: scipy<1.12,>=1.11.1 in c:\\users\\ottok\\appdata\\roaming\\python\\python311\\site-packages (from pygam) (1.11.4)\n",
      "Requirement already satisfied: python-utils>=3.8.1 in c:\\users\\ottok\\anaconda3\\lib\\site-packages (from progressbar2<5.0.0,>=4.2.0->pygam) (3.8.2)\n",
      "Requirement already satisfied: typing-extensions>3.10.0.2 in c:\\users\\ottok\\anaconda3\\lib\\site-packages (from python-utils>=3.8.1->progressbar2<5.0.0,>=4.2.0->pygam) (4.7.1)\n"
     ]
    }
   ],
   "source": [
    "!pip install pygam --user\n"
   ]
  },
  {
   "cell_type": "code",
   "execution_count": 43,
   "metadata": {},
   "outputs": [
    {
     "name": "stdout",
     "output_type": "stream",
     "text": [
      "Collecting maxentropy\n",
      "  Using cached maxentropy-0.3.0.tar.gz (47 kB)\n",
      "  Preparing metadata (setup.py): started\n",
      "  Preparing metadata (setup.py): finished with status 'done'\n",
      "Collecting sklearn (from maxentropy)\n",
      "  Using cached sklearn-0.0.post12.tar.gz (2.6 kB)\n",
      "  Preparing metadata (setup.py): started\n",
      "  Preparing metadata (setup.py): finished with status 'error'\n"
     ]
    },
    {
     "name": "stderr",
     "output_type": "stream",
     "text": [
      "  error: subprocess-exited-with-error\n",
      "  \n",
      "  × python setup.py egg_info did not run successfully.\n",
      "  │ exit code: 1\n",
      "  ╰─> [15 lines of output]\n",
      "      The 'sklearn' PyPI package is deprecated, use 'scikit-learn'\n",
      "      rather than 'sklearn' for pip commands.\n",
      "      \n",
      "      Here is how to fix this error in the main use cases:\n",
      "      - use 'pip install scikit-learn' rather than 'pip install sklearn'\n",
      "      - replace 'sklearn' by 'scikit-learn' in your pip requirements files\n",
      "        (requirements.txt, setup.py, setup.cfg, Pipfile, etc ...)\n",
      "      - if the 'sklearn' package is used by one of your dependencies,\n",
      "        it would be great if you take some time to track which package uses\n",
      "        'sklearn' instead of 'scikit-learn' and report it to their issue tracker\n",
      "      - as a last resort, set the environment variable\n",
      "        SKLEARN_ALLOW_DEPRECATED_SKLEARN_PACKAGE_INSTALL=True to avoid this error\n",
      "      \n",
      "      More information is available at\n",
      "      https://github.com/scikit-learn/sklearn-pypi-package\n",
      "      [end of output]\n",
      "  \n",
      "  note: This error originates from a subprocess, and is likely not a problem with pip.\n",
      "error: metadata-generation-failed\n",
      "\n",
      "× Encountered error while generating package metadata.\n",
      "╰─> See above for output.\n",
      "\n",
      "note: This is an issue with the package mentioned above, not pip.\n",
      "hint: See above for details.\n"
     ]
    }
   ],
   "source": [
    "!pip install maxentropy\n"
   ]
  },
  {
   "cell_type": "code",
   "execution_count": 44,
   "metadata": {},
   "outputs": [
    {
     "name": "stdout",
     "output_type": "stream",
     "text": [
      "                   Date                                    Profile  \\\n",
      "0      12/31/23 9:40 PM                 Wild Adventures Theme Park   \n",
      "1      12/31/23 8:01 PM                           Fun Spot America   \n",
      "2      12/31/23 7:30 PM                           Fun Spot America   \n",
      "3      12/31/23 7:00 PM                           Disneyland Paris   \n",
      "4      12/31/23 7:00 PM                      Silverwood Theme Park   \n",
      "...                 ...                                        ...   \n",
      "15438  01/01/2023 02:00                 Wild Adventures Theme Park   \n",
      "15439  01/01/2023 01:20                                   Playland   \n",
      "15440  01/01/2023 00:01                           Disneyland Paris   \n",
      "15441  01/01/2023 00:00  Six Flags Over Georgia & Hurricane Harbor   \n",
      "15442  01/01/2023 00:00                         Knott's Berry Farm   \n",
      "\n",
      "                                                 Message  Number of Reactions  \\\n",
      "0      🎟️🚨 Today's the FINAL day to use your 2023 Sea...                 16.0   \n",
      "1      See you next year! 😉                Don’t miss...                 38.0   \n",
      "2      Don't miss our HUGE firework display ! 🥳\\n\\n#f...                 23.0   \n",
      "3         Fijne jaarwisseling! 🥂🎉\\nEn tot volgend jaar 😉                646.0   \n",
      "4      It's the last day of our New Year's Sale! Save...                 17.0   \n",
      "...                                                  ...                  ...   \n",
      "15438  LAST CHANCE! \\n\\nPrices on 2023 Season Passes ...                 20.0   \n",
      "15439  O Grupo Playcenter e os Parques Playcenter Fam...                  7.0   \n",
      "15440  Gelukkig 2023! Laat de magie dit jaar stralen ...                833.0   \n",
      "15441  What are your 2023 New Years resolutions? ✨\\n\\...                 58.0   \n",
      "15442  The countdown to 2023 is on!🎉 Join us tonight ...                451.0   \n",
      "\n",
      "       Number of Shares  Number of Comments (primary)  Number of Shares.1  \\\n",
      "0                   NaN                           2.0                 2.0   \n",
      "1                   NaN                           1.0                 2.0   \n",
      "2                   NaN                           2.0                 3.0   \n",
      "3                   NaN                          52.0                12.0   \n",
      "4                   NaN                           2.0                 0.0   \n",
      "...                 ...                           ...                 ...   \n",
      "15438               NaN                           1.0                 0.0   \n",
      "15439               NaN                           1.0                 0.0   \n",
      "15440               NaN                          40.0                31.0   \n",
      "15441               NaN                           7.0                 2.0   \n",
      "15442               NaN                          31.0                28.0   \n",
      "\n",
      "       Comments per post  Comments on posts by fans Post interaction rate  \\\n",
      "0                    2.0                        2.0              1,09E+12   \n",
      "1                    1.0                        1.0              4,17E+11   \n",
      "2                    2.0                        2.0              2,85E+11   \n",
      "3                   56.0                       56.0              1,36E+11   \n",
      "4                    2.0                        2.0              4,96E+11   \n",
      "...                  ...                        ...                   ...   \n",
      "15438                2.0                        2.0              1,25E+11   \n",
      "15439                1.0                        1.0              2,46E+09   \n",
      "15440               44.0                       44.0              1,75E+12   \n",
      "15441                9.0                        9.0              1,42E+12   \n",
      "15442               66.0                       66.0              8,60E+11   \n",
      "\n",
      "      Engagement  Number of Likes  Link-posts  Picture Posts  Video-posts  \\\n",
      "0       1,09E+12             13.0         NaN            1.0          NaN   \n",
      "1       4,17E+11             33.0         NaN            NaN          NaN   \n",
      "2       2,85E+11             21.0         NaN            NaN          1.0   \n",
      "3       1,36E+11            478.0         NaN            1.0          NaN   \n",
      "4       4,96E+11             16.0         NaN            NaN          1.0   \n",
      "...          ...              ...         ...            ...          ...   \n",
      "15438   1,25E+11             20.0         NaN            1.0          NaN   \n",
      "15439   2,46E+09              7.0         NaN            1.0          NaN   \n",
      "15440   1,75E+12            621.0         NaN            NaN          1.0   \n",
      "15441   1,42E+12             49.0         NaN            1.0          NaN   \n",
      "15442   8,60E+11            399.0         NaN            1.0          NaN   \n",
      "\n",
      "        Profile-ID                           Post-ID  \\\n",
      "0      84679583132       84679583132_770120045161180   \n",
      "1       1,8402E+11      184020466977_767286052104076   \n",
      "2       1,8402E+11      184020466977_767267948772553   \n",
      "3      6,52389E+14   652389081615295_775974521237956   \n",
      "4      7,62702E+14   762701550509617_678920137770716   \n",
      "...            ...                               ...   \n",
      "15438  84679583132     84679583132_10159284713193133   \n",
      "15439  1,70866E+14  170865866397863_2401446080006486   \n",
      "15440  6,52389E+14  652389081615295_2176203019233886   \n",
      "15441  34284255238     34284255238_10160187479800239   \n",
      "15442  10286130875     10286130875_10158812069760876   \n",
      "\n",
      "                                                    Link  \n",
      "0      https://www.facebook.com/617429960430190/posts...  \n",
      "1      https://www.facebook.com/653224623510220/posts...  \n",
      "2      https://www.facebook.com/653224623510220/posts...  \n",
      "3      https://www.facebook.com/724434559725286/posts...  \n",
      "4      https://www.facebook.com/562559642740100/posts...  \n",
      "...                                                  ...  \n",
      "15438  https://www.facebook.com/WildAdventures/photos...  \n",
      "15439  https://www.facebook.com/170865866397863/posts...  \n",
      "15440  https://www.facebook.com/652389081615295/posts...  \n",
      "15441  https://www.facebook.com/sixflagsovergeorgia/p...  \n",
      "15442  https://www.facebook.com/KnottsBerryFarm/photo...  \n",
      "\n",
      "[15443 rows x 18 columns]\n"
     ]
    }
   ],
   "source": [
    "import pandas as pd\n",
    "\n",
    "# Read the CSV file\n",
    "df = pd.read_csv(r'c:\\Users\\ottok\\Downloads\\Combined_Themeparks.csv')\n",
    "\n",
    "# Display the data\n",
    "print(df)\n"
   ]
  },
  {
   "cell_type": "code",
   "execution_count": 45,
   "metadata": {},
   "outputs": [
    {
     "name": "stdout",
     "output_type": "stream",
     "text": [
      "                                             Variable Name  Null Values\n",
      "Date                                                  Date            0\n",
      "Profile                                            Profile            0\n",
      "Message                                            Message            0\n",
      "Number of Reactions                    Number of Reactions            0\n",
      "Number of Shares                          Number of Shares        15443\n",
      "Number of Comments (primary)  Number of Comments (primary)            0\n",
      "Number of Shares.1                      Number of Shares.1            0\n",
      "Comments per post                        Comments per post            0\n",
      "Comments on posts by fans        Comments on posts by fans            0\n",
      "Post interaction rate                Post interaction rate            0\n",
      "Engagement                                      Engagement            0\n",
      "Number of Likes                            Number of Likes            0\n",
      "Link-posts                                      Link-posts        14888\n",
      "Picture Posts                                Picture Posts         3881\n",
      "Video-posts                                    Video-posts        12964\n",
      "Profile-ID                                      Profile-ID            0\n",
      "Post-ID                                            Post-ID            0\n",
      "Link                                                  Link            0\n"
     ]
    }
   ],
   "source": [
    "null_values_df = pd.DataFrame({\n",
    "    'Variable Name': df.columns,\n",
    "    'Null Values': df.isnull().sum()\n",
    "})\n",
    "\n",
    "print(null_values_df)\n"
   ]
  },
  {
   "cell_type": "code",
   "execution_count": 46,
   "metadata": {},
   "outputs": [
    {
     "name": "stdout",
     "output_type": "stream",
     "text": [
      "                   Date                                    Profile  \\\n",
      "0      12/31/23 9:40 PM                 Wild Adventures Theme Park   \n",
      "1      12/31/23 8:01 PM                           Fun Spot America   \n",
      "2      12/31/23 7:30 PM                           Fun Spot America   \n",
      "3      12/31/23 7:00 PM                           Disneyland Paris   \n",
      "4      12/31/23 7:00 PM                      Silverwood Theme Park   \n",
      "...                 ...                                        ...   \n",
      "15438  01/01/2023 02:00                 Wild Adventures Theme Park   \n",
      "15439  01/01/2023 01:20                                   Playland   \n",
      "15440  01/01/2023 00:01                           Disneyland Paris   \n",
      "15441  01/01/2023 00:00  Six Flags Over Georgia & Hurricane Harbor   \n",
      "15442  01/01/2023 00:00                         Knott's Berry Farm   \n",
      "\n",
      "                                                 Message  Number of Reactions  \\\n",
      "0      🎟️🚨 Today's the FINAL day to use your 2023 Sea...                 16.0   \n",
      "1      See you next year! 😉                Don’t miss...                 38.0   \n",
      "2      Don't miss our HUGE firework display ! 🥳\\n\\n#f...                 23.0   \n",
      "3         Fijne jaarwisseling! 🥂🎉\\nEn tot volgend jaar 😉                646.0   \n",
      "4      It's the last day of our New Year's Sale! Save...                 17.0   \n",
      "...                                                  ...                  ...   \n",
      "15438  LAST CHANCE! \\n\\nPrices on 2023 Season Passes ...                 20.0   \n",
      "15439  O Grupo Playcenter e os Parques Playcenter Fam...                  7.0   \n",
      "15440  Gelukkig 2023! Laat de magie dit jaar stralen ...                833.0   \n",
      "15441  What are your 2023 New Years resolutions? ✨\\n\\...                 58.0   \n",
      "15442  The countdown to 2023 is on!🎉 Join us tonight ...                451.0   \n",
      "\n",
      "       Number of Shares  Number of Comments (primary)  Number of Shares.1  \\\n",
      "0                   NaN                           2.0                 2.0   \n",
      "1                   NaN                           1.0                 2.0   \n",
      "2                   NaN                           2.0                 3.0   \n",
      "3                   NaN                          52.0                12.0   \n",
      "4                   NaN                           2.0                 0.0   \n",
      "...                 ...                           ...                 ...   \n",
      "15438               NaN                           1.0                 0.0   \n",
      "15439               NaN                           1.0                 0.0   \n",
      "15440               NaN                          40.0                31.0   \n",
      "15441               NaN                           7.0                 2.0   \n",
      "15442               NaN                          31.0                28.0   \n",
      "\n",
      "       Comments per post  Comments on posts by fans Post interaction rate  \\\n",
      "0                    2.0                        2.0              1,09E+12   \n",
      "1                    1.0                        1.0              4,17E+11   \n",
      "2                    2.0                        2.0              2,85E+11   \n",
      "3                   56.0                       56.0              1,36E+11   \n",
      "4                    2.0                        2.0              4,96E+11   \n",
      "...                  ...                        ...                   ...   \n",
      "15438                2.0                        2.0              1,25E+11   \n",
      "15439                1.0                        1.0              2,46E+09   \n",
      "15440               44.0                       44.0              1,75E+12   \n",
      "15441                9.0                        9.0              1,42E+12   \n",
      "15442               66.0                       66.0              8,60E+11   \n",
      "\n",
      "      Engagement  Number of Likes  Link-posts  Picture Posts  Video-posts  \\\n",
      "0       1,09E+12             13.0         NaN            1.0          NaN   \n",
      "1       4,17E+11             33.0         NaN            NaN          NaN   \n",
      "2       2,85E+11             21.0         NaN            NaN          1.0   \n",
      "3       1,36E+11            478.0         NaN            1.0          NaN   \n",
      "4       4,96E+11             16.0         NaN            NaN          1.0   \n",
      "...          ...              ...         ...            ...          ...   \n",
      "15438   1,25E+11             20.0         NaN            1.0          NaN   \n",
      "15439   2,46E+09              7.0         NaN            1.0          NaN   \n",
      "15440   1,75E+12            621.0         NaN            NaN          1.0   \n",
      "15441   1,42E+12             49.0         NaN            1.0          NaN   \n",
      "15442   8,60E+11            399.0         NaN            1.0          NaN   \n",
      "\n",
      "        Profile-ID                           Post-ID  \\\n",
      "0      84679583132       84679583132_770120045161180   \n",
      "1       1,8402E+11      184020466977_767286052104076   \n",
      "2       1,8402E+11      184020466977_767267948772553   \n",
      "3      6,52389E+14   652389081615295_775974521237956   \n",
      "4      7,62702E+14   762701550509617_678920137770716   \n",
      "...            ...                               ...   \n",
      "15438  84679583132     84679583132_10159284713193133   \n",
      "15439  1,70866E+14  170865866397863_2401446080006486   \n",
      "15440  6,52389E+14  652389081615295_2176203019233886   \n",
      "15441  34284255238     34284255238_10160187479800239   \n",
      "15442  10286130875     10286130875_10158812069760876   \n",
      "\n",
      "                                                    Link  Sentiment  \n",
      "0      https://www.facebook.com/617429960430190/posts...   0.317857  \n",
      "1      https://www.facebook.com/653224623510220/posts...   0.200000  \n",
      "2      https://www.facebook.com/653224623510220/posts...   0.500000  \n",
      "3      https://www.facebook.com/724434559725286/posts...   0.000000  \n",
      "4      https://www.facebook.com/562559642740100/posts...   0.129545  \n",
      "...                                                  ...        ...  \n",
      "15438  https://www.facebook.com/WildAdventures/photos...   0.304167  \n",
      "15439  https://www.facebook.com/170865866397863/posts...   0.000000  \n",
      "15440  https://www.facebook.com/652389081615295/posts...   0.000000  \n",
      "15441  https://www.facebook.com/sixflagsovergeorgia/p...   0.443182  \n",
      "15442  https://www.facebook.com/KnottsBerryFarm/photo...   0.174011  \n",
      "\n",
      "[15443 rows x 19 columns]\n"
     ]
    }
   ],
   "source": [
    "from textblob import TextBlob\n",
    "\n",
    "# Function to calculate sentiment polarity\n",
    "def get_sentiment(message):\n",
    "    blob = TextBlob(message)\n",
    "    return blob.sentiment.polarity\n",
    "\n",
    "# Apply sentiment analysis to the message column\n",
    "df['Sentiment'] = df['Message'].apply(get_sentiment)\n",
    "\n",
    "# Display the updated DataFrame\n",
    "print(df)\n"
   ]
  },
  {
   "cell_type": "code",
   "execution_count": 47,
   "metadata": {},
   "outputs": [
    {
     "name": "stdout",
     "output_type": "stream",
     "text": [
      "Index(['Date', 'Profile', 'Message', 'Number of Reactions', 'Number of Shares',\n",
      "       'Number of Comments (primary)', 'Number of Shares.1',\n",
      "       'Comments per post', 'Comments on posts by fans',\n",
      "       'Post interaction rate', 'Engagement', 'Number of Likes', 'Link-posts',\n",
      "       'Picture Posts', 'Video-posts', 'Profile-ID', 'Post-ID', 'Link',\n",
      "       'Sentiment'],\n",
      "      dtype='object')\n"
     ]
    }
   ],
   "source": [
    "column_names = df.columns\n",
    "print(column_names)\n"
   ]
  },
  {
   "cell_type": "code",
   "execution_count": 48,
   "metadata": {},
   "outputs": [
    {
     "data": {
      "text/html": [
       "<div>\n",
       "<style scoped>\n",
       "    .dataframe tbody tr th:only-of-type {\n",
       "        vertical-align: middle;\n",
       "    }\n",
       "\n",
       "    .dataframe tbody tr th {\n",
       "        vertical-align: top;\n",
       "    }\n",
       "\n",
       "    .dataframe thead th {\n",
       "        text-align: right;\n",
       "    }\n",
       "</style>\n",
       "<table border=\"1\" class=\"dataframe\">\n",
       "  <thead>\n",
       "    <tr style=\"text-align: right;\">\n",
       "      <th></th>\n",
       "      <th>Message</th>\n",
       "      <th>Sentiment</th>\n",
       "      <th>Engagement</th>\n",
       "    </tr>\n",
       "  </thead>\n",
       "  <tbody>\n",
       "    <tr>\n",
       "      <th>0</th>\n",
       "      <td>🎟️🚨 Today's the FINAL day to use your 2023 Sea...</td>\n",
       "      <td>0.317857</td>\n",
       "      <td>1,09E+12</td>\n",
       "    </tr>\n",
       "    <tr>\n",
       "      <th>1</th>\n",
       "      <td>See you next year! 😉                Don’t miss...</td>\n",
       "      <td>0.200000</td>\n",
       "      <td>4,17E+11</td>\n",
       "    </tr>\n",
       "    <tr>\n",
       "      <th>2</th>\n",
       "      <td>Don't miss our HUGE firework display ! 🥳\\n\\n#f...</td>\n",
       "      <td>0.500000</td>\n",
       "      <td>2,85E+11</td>\n",
       "    </tr>\n",
       "    <tr>\n",
       "      <th>3</th>\n",
       "      <td>Fijne jaarwisseling! 🥂🎉\\nEn tot volgend jaar 😉</td>\n",
       "      <td>0.000000</td>\n",
       "      <td>1,36E+11</td>\n",
       "    </tr>\n",
       "    <tr>\n",
       "      <th>4</th>\n",
       "      <td>It's the last day of our New Year's Sale! Save...</td>\n",
       "      <td>0.129545</td>\n",
       "      <td>4,96E+11</td>\n",
       "    </tr>\n",
       "    <tr>\n",
       "      <th>...</th>\n",
       "      <td>...</td>\n",
       "      <td>...</td>\n",
       "      <td>...</td>\n",
       "    </tr>\n",
       "    <tr>\n",
       "      <th>15438</th>\n",
       "      <td>LAST CHANCE! \\n\\nPrices on 2023 Season Passes ...</td>\n",
       "      <td>0.304167</td>\n",
       "      <td>1,25E+11</td>\n",
       "    </tr>\n",
       "    <tr>\n",
       "      <th>15439</th>\n",
       "      <td>O Grupo Playcenter e os Parques Playcenter Fam...</td>\n",
       "      <td>0.000000</td>\n",
       "      <td>2,46E+09</td>\n",
       "    </tr>\n",
       "    <tr>\n",
       "      <th>15440</th>\n",
       "      <td>Gelukkig 2023! Laat de magie dit jaar stralen ...</td>\n",
       "      <td>0.000000</td>\n",
       "      <td>1,75E+12</td>\n",
       "    </tr>\n",
       "    <tr>\n",
       "      <th>15441</th>\n",
       "      <td>What are your 2023 New Years resolutions? ✨\\n\\...</td>\n",
       "      <td>0.443182</td>\n",
       "      <td>1,42E+12</td>\n",
       "    </tr>\n",
       "    <tr>\n",
       "      <th>15442</th>\n",
       "      <td>The countdown to 2023 is on!🎉 Join us tonight ...</td>\n",
       "      <td>0.174011</td>\n",
       "      <td>8,60E+11</td>\n",
       "    </tr>\n",
       "  </tbody>\n",
       "</table>\n",
       "<p>15443 rows × 3 columns</p>\n",
       "</div>"
      ],
      "text/plain": [
       "                                                 Message  Sentiment Engagement\n",
       "0      🎟️🚨 Today's the FINAL day to use your 2023 Sea...   0.317857   1,09E+12\n",
       "1      See you next year! 😉                Don’t miss...   0.200000   4,17E+11\n",
       "2      Don't miss our HUGE firework display ! 🥳\\n\\n#f...   0.500000   2,85E+11\n",
       "3         Fijne jaarwisseling! 🥂🎉\\nEn tot volgend jaar 😉   0.000000   1,36E+11\n",
       "4      It's the last day of our New Year's Sale! Save...   0.129545   4,96E+11\n",
       "...                                                  ...        ...        ...\n",
       "15438  LAST CHANCE! \\n\\nPrices on 2023 Season Passes ...   0.304167   1,25E+11\n",
       "15439  O Grupo Playcenter e os Parques Playcenter Fam...   0.000000   2,46E+09\n",
       "15440  Gelukkig 2023! Laat de magie dit jaar stralen ...   0.000000   1,75E+12\n",
       "15441  What are your 2023 New Years resolutions? ✨\\n\\...   0.443182   1,42E+12\n",
       "15442  The countdown to 2023 is on!🎉 Join us tonight ...   0.174011   8,60E+11\n",
       "\n",
       "[15443 rows x 3 columns]"
      ]
     },
     "execution_count": 48,
     "metadata": {},
     "output_type": "execute_result"
    }
   ],
   "source": [
    "df[['Message', 'Sentiment', 'Engagement']]\n"
   ]
  },
  {
   "cell_type": "code",
   "execution_count": 49,
   "metadata": {},
   "outputs": [
    {
     "name": "stdout",
     "output_type": "stream",
     "text": [
      "Date                             object\n",
      "Profile                          object\n",
      "Message                          object\n",
      "Number of Reactions             float64\n",
      "Number of Shares                float64\n",
      "Number of Comments (primary)    float64\n",
      "Number of Shares.1              float64\n",
      "Comments per post               float64\n",
      "Comments on posts by fans       float64\n",
      "Post interaction rate            object\n",
      "Engagement                       object\n",
      "Number of Likes                 float64\n",
      "Link-posts                      float64\n",
      "Picture Posts                   float64\n",
      "Video-posts                     float64\n",
      "Profile-ID                       object\n",
      "Post-ID                          object\n",
      "Link                             object\n",
      "Sentiment                       float64\n",
      "dtype: object\n"
     ]
    }
   ],
   "source": [
    "column_dtypes = df.dtypes\n",
    "print(column_dtypes)\n"
   ]
  },
  {
   "cell_type": "code",
   "execution_count": 50,
   "metadata": {},
   "outputs": [],
   "source": [
    "# Remove the comma from the string and convert it to a float\n",
    "df['Engagement'] = df['Engagement'].str.replace(',', '.').astype(float)\n",
    "\n"
   ]
  },
  {
   "cell_type": "code",
   "execution_count": 51,
   "metadata": {},
   "outputs": [
    {
     "name": "stdout",
     "output_type": "stream",
     "text": [
      "There are negative values in the sentiment column.\n"
     ]
    }
   ],
   "source": [
    "negative_sentiments = df[df['Sentiment'] < 0]\n",
    "if not negative_sentiments.empty:\n",
    "    print(\"There are negative values in the sentiment column.\")\n",
    "else:\n",
    "    print(\"There are no negative values in the sentiment column.\")\n"
   ]
  },
  {
   "cell_type": "code",
   "execution_count": 52,
   "metadata": {},
   "outputs": [
    {
     "name": "stdout",
     "output_type": "stream",
     "text": [
      "872\n"
     ]
    }
   ],
   "source": [
    "negative_count = negative_sentiments[negative_sentiments['Sentiment'] < 0]['Sentiment'].count()\n",
    "print(negative_count)\n"
   ]
  },
  {
   "cell_type": "code",
   "execution_count": 53,
   "metadata": {},
   "outputs": [
    {
     "name": "stdout",
     "output_type": "stream",
     "text": [
      "                                             Variable Name  Null Values\n",
      "Date                                                  Date            0\n",
      "Profile                                            Profile            0\n",
      "Message                                            Message            0\n",
      "Number of Reactions                    Number of Reactions            0\n",
      "Number of Shares                          Number of Shares        15443\n",
      "Number of Comments (primary)  Number of Comments (primary)            0\n",
      "Number of Shares.1                      Number of Shares.1            0\n",
      "Comments per post                        Comments per post            0\n",
      "Comments on posts by fans        Comments on posts by fans            0\n",
      "Post interaction rate                Post interaction rate            0\n",
      "Engagement                                      Engagement            0\n",
      "Number of Likes                            Number of Likes            0\n",
      "Link-posts                                      Link-posts        14888\n",
      "Picture Posts                                Picture Posts         3881\n",
      "Video-posts                                    Video-posts        12964\n",
      "Profile-ID                                      Profile-ID            0\n",
      "Post-ID                                            Post-ID            0\n",
      "Link                                                  Link            0\n",
      "Sentiment                                        Sentiment            0\n"
     ]
    }
   ],
   "source": [
    "# Check for null values in each DataFrame\n",
    "null_values_df = pd.DataFrame({\n",
    "    'Variable Name': df.columns,\n",
    "    'Null Values': df.isnull().sum()\n",
    "})\n",
    "\n",
    "print(null_values_df)\n"
   ]
  },
  {
   "cell_type": "code",
   "execution_count": 54,
   "metadata": {},
   "outputs": [
    {
     "name": "stdout",
     "output_type": "stream",
     "text": [
      "Correlation coefficient: 0.03349423097831414\n",
      "P-value: 3.138804980698981e-05\n"
     ]
    }
   ],
   "source": [
    "from scipy.stats import pearsonr\n",
    "\n",
    "# Calculate the correlation coefficient and p-value\n",
    "correlation, p_value = pearsonr(df['Sentiment'], df['Engagement'])\n",
    "\n",
    "# Print the correlation coefficient and p-value\n",
    "print(\"Correlation coefficient:\", correlation)\n",
    "print(\"P-value:\", p_value)\n"
   ]
  },
  {
   "cell_type": "code",
   "execution_count": 55,
   "metadata": {},
   "outputs": [
    {
     "data": {
      "image/png": "[encoded data removed]",
      "text/plain": [
       "<Figure size 640x480 with 1 Axes>"
      ]
     },
     "metadata": {},
     "output_type": "display_data"
    }
   ],
   "source": [
    "import matplotlib.pyplot as plt\n",
    "\n",
    "plt.scatter(df['Sentiment'], df['Engagement'])\n",
    "plt.xlabel('Sentiment')\n",
    "plt.ylabel('Engagement')\n",
    "plt.title('Scatter Plot of Sentiment vs Engagement')\n",
    "plt.show()\n"
   ]
  },
  {
   "cell_type": "code",
   "execution_count": 70,
   "metadata": {},
   "outputs": [
    {
     "name": "stdout",
     "output_type": "stream",
     "text": [
      "Test Statistic: 27.944689959293544\n",
      "P-value: 8.548455909947135e-07\n"
     ]
    }
   ],
   "source": [
    "from scipy.stats import kruskal\n",
    "\n",
    "# Filter the DataFrame for each sentiment category\n",
    "neutral_engagement = df[df['Sentiment'] == 0]['Engagement']\n",
    "positive_engagement = df[df['Sentiment'] > 0]['Engagement']\n",
    "negative_engagement = df[df['Sentiment'] < 0]['Engagement']\n",
    "\n",
    "# Run the Kruskal-Wallis test\n",
    "statistic, p_value = kruskal(neutral_engagement, positive_engagement, negative_engagement)\n",
    "\n",
    "# Print the test statistic and p-value\n",
    "print(\"Test Statistic:\", statistic)\n",
    "print(\"P-value:\", p_value)\n"
   ]
  },
  {
   "cell_type": "code",
   "execution_count": 57,
   "metadata": {},
   "outputs": [
    {
     "data": {
      "image/png": "[encoded data removed]",
      "text/plain": [
       "<Figure size 640x480 with 1 Axes>"
      ]
     },
     "metadata": {},
     "output_type": "display_data"
    }
   ],
   "source": [
    "plt.hist(df['Engagement'], bins=10)\n",
    "plt.xlabel('Engagement')\n",
    "plt.ylabel('Frequency')\n",
    "plt.title('Distribution of Engagement')\n",
    "plt.show()\n"
   ]
  },
  {
   "cell_type": "code",
   "execution_count": 58,
   "metadata": {},
   "outputs": [
    {
     "data": {
      "image/png": "[encoded data removed]",
      "text/plain": [
       "<Figure size 640x480 with 1 Axes>"
      ]
     },
     "metadata": {},
     "output_type": "display_data"
    }
   ],
   "source": [
    "import matplotlib.pyplot as plt\n",
    "\n",
    "plt.hist(df['Sentiment'], bins=10)\n",
    "plt.xlabel('Sentiment')\n",
    "plt.ylabel('Frequency')\n",
    "plt.title('Distribution of Sentiment')\n",
    "plt.show()\n"
   ]
  },
  {
   "cell_type": "code",
   "execution_count": 61,
   "metadata": {},
   "outputs": [
    {
     "name": "stdout",
     "output_type": "stream",
     "text": [
      "Test Statistic: 4621804.0\n",
      "P-value: 0.16662008574945886\n"
     ]
    }
   ],
   "source": [
    "from scipy.stats import mannwhitneyu\n",
    "\n",
    "# Filter the DataFrame for sentiment with negative scores\n",
    "negative_engagement = df[df['Sentiment'] < 0]['Engagement']\n",
    "\n",
    "# Filter the DataFrame for sentiment with positive scores\n",
    "positive_engagement = df[df['Sentiment'] > 0]['Engagement']\n",
    "\n",
    "# Perform the Mann-Whitney U test\n",
    "statistic, p_value = mannwhitneyu(negative_engagement, positive_engagement)\n",
    "\n",
    "# Print the test statistic and p-value\n",
    "print(\"Test Statistic:\", statistic)\n",
    "print(\"P-value:\", p_value)\n"
   ]
  },
  {
   "cell_type": "code",
   "execution_count": 62,
   "metadata": {},
   "outputs": [
    {
     "name": "stdout",
     "output_type": "stream",
     "text": [
      "Test Statistic: 18824796.5\n",
      "P-value: 1.5100589881882836e-07\n"
     ]
    }
   ],
   "source": [
    "from scipy.stats import mannwhitneyu\n",
    "\n",
    "# Filter the DataFrame for sentiment with neutral scores\n",
    "neutral_engagement = df[df['Sentiment'] == 0]['Engagement']\n",
    "\n",
    "# Filter the DataFrame for sentiment with positive scores\n",
    "positive_engagement = df[df['Sentiment'] > 0]['Engagement']\n",
    "\n",
    "# Perform the Mann-Whitney U test\n",
    "statistic, p_value = mannwhitneyu(neutral_engagement, positive_engagement)\n",
    "\n",
    "# Print the test statistic and p-value\n",
    "print(\"Test Statistic:\", statistic)\n",
    "print(\"P-value:\", p_value)\n"
   ]
  },
  {
   "cell_type": "code",
   "execution_count": 67,
   "metadata": {},
   "outputs": [
    {
     "name": "stdout",
     "output_type": "stream",
     "text": [
      "Common Language Effect Size: 0.47081531010692623\n"
     ]
    }
   ],
   "source": [
    "import numpy as np\n",
    "\n",
    "def cles_ind(x1, x2):\n",
    "    \"\"\"Calculate Common Language Effect Size Indicator for independent groups.\n",
    "    Arguments:\n",
    "    x1, x2: Arrays of values for two groups\n",
    "    Returns:\n",
    "    cles: Common Language Effect Size\n",
    "    \"\"\"\n",
    "    x1 = np.array(x1)\n",
    "    x2 = np.array(x2)\n",
    "    diff = x1[:, None] - x2\n",
    "    cles = (diff > 0).sum() / diff.size\n",
    "    return cles\n",
    "\n",
    "# Calculate the Common Language Effect Size\n",
    "cles = cles_ind(neutral_engagement, positive_engagement)\n",
    "\n",
    "print(\"Common Language Effect Size:\", cles)"
   ]
  },
  {
   "cell_type": "code",
   "execution_count": 63,
   "metadata": {},
   "outputs": [
    {
     "name": "stdout",
     "output_type": "stream",
     "text": [
      "Test Statistic: 1553619.0\n",
      "P-value: 0.20671624639099362\n"
     ]
    }
   ],
   "source": [
    "from scipy.stats import mannwhitneyu\n",
    "\n",
    "# Filter the DataFrame for sentiment with neutral scores\n",
    "neutral_engagement = df[df['Sentiment'] == 0]['Engagement']\n",
    "\n",
    "# Filter the DataFrame for sentiment with negative scores\n",
    "negative_engagement = df[df['Sentiment'] < 0]['Engagement']\n",
    "\n",
    "# Perform the Mann-Whitney U test\n",
    "statistic, p_value = mannwhitneyu(neutral_engagement, negative_engagement)\n",
    "\n",
    "# Print the test statistic and p-value\n",
    "print(\"Test Statistic:\", statistic)\n",
    "print(\"P-value:\", p_value)"
   ]
  },
  {
   "cell_type": "code",
   "execution_count": 22,
   "metadata": {},
   "outputs": [],
   "source": [
    "df['Sentiment'] = df['Sentiment'].apply(lambda x: 'neutral' if x == 0 else 'positive' if x > 0 else 'negative')\n"
   ]
  },
  {
   "cell_type": "code",
   "execution_count": 23,
   "metadata": {},
   "outputs": [
    {
     "data": {
      "text/html": [
       "<div>\n",
       "<style scoped>\n",
       "    .dataframe tbody tr th:only-of-type {\n",
       "        vertical-align: middle;\n",
       "    }\n",
       "\n",
       "    .dataframe tbody tr th {\n",
       "        vertical-align: top;\n",
       "    }\n",
       "\n",
       "    .dataframe thead th {\n",
       "        text-align: right;\n",
       "    }\n",
       "</style>\n",
       "<table border=\"1\" class=\"dataframe\">\n",
       "  <thead>\n",
       "    <tr style=\"text-align: right;\">\n",
       "      <th></th>\n",
       "      <th>Message</th>\n",
       "      <th>Sentiment</th>\n",
       "    </tr>\n",
       "  </thead>\n",
       "  <tbody>\n",
       "    <tr>\n",
       "      <th>0</th>\n",
       "      <td>🎟️🚨 Today's the FINAL day to use your 2023 Sea...</td>\n",
       "      <td>positive</td>\n",
       "    </tr>\n",
       "    <tr>\n",
       "      <th>1</th>\n",
       "      <td>See you next year! 😉                Don’t miss...</td>\n",
       "      <td>positive</td>\n",
       "    </tr>\n",
       "    <tr>\n",
       "      <th>2</th>\n",
       "      <td>Don't miss our HUGE firework display ! 🥳\\n\\n#f...</td>\n",
       "      <td>positive</td>\n",
       "    </tr>\n",
       "    <tr>\n",
       "      <th>3</th>\n",
       "      <td>Fijne jaarwisseling! 🥂🎉\\nEn tot volgend jaar 😉</td>\n",
       "      <td>neutral</td>\n",
       "    </tr>\n",
       "    <tr>\n",
       "      <th>4</th>\n",
       "      <td>It's the last day of our New Year's Sale! Save...</td>\n",
       "      <td>positive</td>\n",
       "    </tr>\n",
       "    <tr>\n",
       "      <th>...</th>\n",
       "      <td>...</td>\n",
       "      <td>...</td>\n",
       "    </tr>\n",
       "    <tr>\n",
       "      <th>15438</th>\n",
       "      <td>LAST CHANCE! \\n\\nPrices on 2023 Season Passes ...</td>\n",
       "      <td>positive</td>\n",
       "    </tr>\n",
       "    <tr>\n",
       "      <th>15439</th>\n",
       "      <td>O Grupo Playcenter e os Parques Playcenter Fam...</td>\n",
       "      <td>neutral</td>\n",
       "    </tr>\n",
       "    <tr>\n",
       "      <th>15440</th>\n",
       "      <td>Gelukkig 2023! Laat de magie dit jaar stralen ...</td>\n",
       "      <td>neutral</td>\n",
       "    </tr>\n",
       "    <tr>\n",
       "      <th>15441</th>\n",
       "      <td>What are your 2023 New Years resolutions? ✨\\n\\...</td>\n",
       "      <td>positive</td>\n",
       "    </tr>\n",
       "    <tr>\n",
       "      <th>15442</th>\n",
       "      <td>The countdown to 2023 is on!🎉 Join us tonight ...</td>\n",
       "      <td>positive</td>\n",
       "    </tr>\n",
       "  </tbody>\n",
       "</table>\n",
       "<p>15443 rows × 2 columns</p>\n",
       "</div>"
      ],
      "text/plain": [
       "                                                 Message Sentiment\n",
       "0      🎟️🚨 Today's the FINAL day to use your 2023 Sea...  positive\n",
       "1      See you next year! 😉                Don’t miss...  positive\n",
       "2      Don't miss our HUGE firework display ! 🥳\\n\\n#f...  positive\n",
       "3         Fijne jaarwisseling! 🥂🎉\\nEn tot volgend jaar 😉   neutral\n",
       "4      It's the last day of our New Year's Sale! Save...  positive\n",
       "...                                                  ...       ...\n",
       "15438  LAST CHANCE! \\n\\nPrices on 2023 Season Passes ...  positive\n",
       "15439  O Grupo Playcenter e os Parques Playcenter Fam...   neutral\n",
       "15440  Gelukkig 2023! Laat de magie dit jaar stralen ...   neutral\n",
       "15441  What are your 2023 New Years resolutions? ✨\\n\\...  positive\n",
       "15442  The countdown to 2023 is on!🎉 Join us tonight ...  positive\n",
       "\n",
       "[15443 rows x 2 columns]"
      ]
     },
     "execution_count": 23,
     "metadata": {},
     "output_type": "execute_result"
    }
   ],
   "source": [
    "df[['Message', 'Sentiment']]"
   ]
  },
  {
   "cell_type": "code",
   "execution_count": 24,
   "metadata": {},
   "outputs": [
    {
     "name": "stdout",
     "output_type": "stream",
     "text": [
      "Accuracy: 0.904823567497572\n"
     ]
    }
   ],
   "source": [
    "import pandas as pd\n",
    "from sklearn.model_selection import train_test_split\n",
    "from sklearn.feature_extraction.text import TfidfVectorizer\n",
    "from sklearn.svm import SVC\n",
    "from sklearn.metrics import accuracy_score\n",
    "\n",
    "# Preprocess the text data\n",
    "# Add your preprocessing steps here (e.g., removing stopwords, punctuation, etc.)\n",
    "\n",
    "# Split the dataset into training and testing sets\n",
    "X_train, X_test, y_train, y_test = train_test_split(df['Message'], df['Sentiment'], test_size=0.2, random_state=42)\n",
    "\n",
    "# Convert text data into numerical features using TF-IDF\n",
    "tfidf_vectorizer = TfidfVectorizer(max_features=10000)  # You can adjust max_features based on your dataset size\n",
    "X_train_tfidf = tfidf_vectorizer.fit_transform(X_train)\n",
    "X_test_tfidf = tfidf_vectorizer.transform(X_test)\n",
    "\n",
    "# Train the SVM model\n",
    "svm_classifier = SVC(kernel='linear')\n",
    "svm_classifier.fit(X_train_tfidf, y_train)\n",
    "\n",
    "# Predict the sentiment of test data\n",
    "y_pred = svm_classifier.predict(X_test_tfidf)\n",
    "\n",
    "# Evaluate the model\n",
    "accuracy = accuracy_score(y_test, y_pred)\n",
    "print(\"Accuracy:\", accuracy)\n"
   ]
  },
  {
   "cell_type": "code",
   "execution_count": 25,
   "metadata": {},
   "outputs": [
    {
     "name": "stdout",
     "output_type": "stream",
     "text": [
      "['positive' 'positive' 'positive' ... 'neutral' 'positive' 'positive']\n",
      "                                                 Message Predicted Sentiment\n",
      "150    The holidays can be a bit of a wild ride, and ...            positive\n",
      "12890  We're seeing green this weekend!\\n🍀 Enjoy our ...            positive\n",
      "5733   Who’s ready for the ultimate BOYBAND experienc...            positive\n",
      "14078  We're Hiring! 📣 Join us at our Hiring Week eve...             neutral\n",
      "4764   Are you brave enough? Join us tonight for #Fri...            positive\n",
      "...                                                  ...                 ...\n",
      "1731                            Thanksgiving essentials.             neutral\n",
      "2622   We need YOUR help! WinterFest has been nominat...            positive\n",
      "11065                     Hump Day \\n📷 : @Coaster.stalls             neutral\n",
      "14883  Celebrate 2023 in style at Local's Night!! 🤩Re...            positive\n",
      "3643   Ready to Plan Your Ultimate Holiday Celebratio...            positive\n",
      "\n",
      "[3089 rows x 2 columns]\n"
     ]
    }
   ],
   "source": [
    "# Print the predicted labels\n",
    "print(y_pred)\n",
    "\n",
    "# Create a DataFrame for easier viewing\n",
    "results_df = pd.DataFrame({\n",
    "    'Message': X_test,\n",
    "    'Predicted Sentiment': y_pred\n",
    "})\n",
    "\n",
    "print(results_df)"
   ]
  },
  {
   "cell_type": "code",
   "execution_count": 26,
   "metadata": {},
   "outputs": [
    {
     "name": "stdout",
     "output_type": "stream",
     "text": [
      "Accuracy: 0.7381029459371965\n"
     ]
    }
   ],
   "source": [
    "from textblob import TextBlob\n",
    "from sklearn.model_selection import train_test_split\n",
    "from sklearn.naive_bayes import MultinomialNB\n",
    "from sklearn.metrics import accuracy_score\n",
    "\n",
    "# Preprocess the text data\n",
    "# Add your preprocessing steps here (e.g., removing stopwords, punctuation, etc.)\n",
    "\n",
    "# Split the dataset into training and testing sets\n",
    "X_train, X_test, y_train, y_test = train_test_split(df['Message'], df['Sentiment'], test_size=0.2, random_state=42)\n",
    "\n",
    "# Convert text data into numerical features using TF-IDF or CountVectorizer\n",
    "# Add your vectorization method here\n",
    "\n",
    "# Train the Naive Bayes model\n",
    "naive_bayes_classifier = MultinomialNB()\n",
    "naive_bayes_classifier.fit(X_train_tfidf, y_train)\n",
    "\n",
    "# Predict the sentiment of test data\n",
    "y_pred = naive_bayes_classifier.predict(X_test_tfidf)\n",
    "\n",
    "# Evaluate the model\n",
    "accuracy = accuracy_score(y_test, y_pred)\n",
    "print(\"Accuracy:\", accuracy)\n"
   ]
  },
  {
   "cell_type": "code",
   "execution_count": 28,
   "metadata": {},
   "outputs": [
    {
     "ename": "ModuleNotFoundError",
     "evalue": "No module named 'maxentropy'",
     "output_type": "error",
     "traceback": [
      "\u001b[1;31m---------------------------------------------------------------------------\u001b[0m",
      "\u001b[1;31mModuleNotFoundError\u001b[0m                       Traceback (most recent call last)",
      "Cell \u001b[1;32mIn[28], line 2\u001b[0m\n\u001b[0;32m      1\u001b[0m \u001b[38;5;66;03m# Import the required libraries\u001b[39;00m\n\u001b[1;32m----> 2\u001b[0m \u001b[38;5;28;01mfrom\u001b[39;00m \u001b[38;5;21;01mmaxentropy\u001b[39;00m \u001b[38;5;28;01mimport\u001b[39;00m MaxentModel\n\u001b[0;32m      3\u001b[0m \u001b[38;5;28;01mfrom\u001b[39;00m \u001b[38;5;21;01msklearn\u001b[39;00m\u001b[38;5;21;01m.\u001b[39;00m\u001b[38;5;21;01mfeature_extraction\u001b[39;00m\u001b[38;5;21;01m.\u001b[39;00m\u001b[38;5;21;01mtext\u001b[39;00m \u001b[38;5;28;01mimport\u001b[39;00m CountVectorizer\n\u001b[0;32m      4\u001b[0m \u001b[38;5;28;01mfrom\u001b[39;00m \u001b[38;5;21;01msklearn\u001b[39;00m\u001b[38;5;21;01m.\u001b[39;00m\u001b[38;5;21;01mmodel_selection\u001b[39;00m \u001b[38;5;28;01mimport\u001b[39;00m train_test_split\n",
      "\u001b[1;31mModuleNotFoundError\u001b[0m: No module named 'maxentropy'"
     ]
    }
   ],
   "source": [
    "# Import the required libraries\n",
    "from maxentropy import MaxentModel\n",
    "from sklearn.feature_extraction.text import CountVectorizer\n",
    "from sklearn.model_selection import train_test_split\n",
    "from sklearn.metrics import accuracy_score\n",
    "\n",
    "# Preprocess the text data\n",
    "# Add your preprocessing steps here (e.g., removing stopwords, punctuation, etc.)\n",
    "\n",
    "# Split the dataset into training and testing sets\n",
    "X_train, X_test, y_train, y_test = train_test_split(df['Message'], df['Sentiment'], test_size=0.2, random_state=42)\n",
    "\n",
    "# Convert text data into numerical features using CountVectorizer\n",
    "count_vectorizer = CountVectorizer(max_features=10000)  # You can adjust max_features based on your dataset size\n",
    "X_train_counts = count_vectorizer.fit_transform(X_train)\n",
    "X_test_counts = count_vectorizer.transform(X_test)\n",
    "\n",
    "# Train the Maxentropy model\n",
    "maxent_model = MaxentModel()\n",
    "maxent_model.fit(X_train_counts, y_train)\n",
    "\n",
    "# Predict the sentiment of test data\n",
    "y_pred = maxent_model.predict(X_test_counts)\n",
    "\n",
    "# Evaluate the model\n",
    "accuracy = accuracy_score(y_test, y_pred)\n",
    "print(\"Accuracy:\", accuracy)\n",
    "from sklearn.feature_extraction.text import CountVectorizer\n"
   ]
  }
 ],
 "metadata": {
  "kernelspec": {
   "display_name": "base",
   "language": "python",
   "name": "python3"
  },
  "language_info": {
   "codemirror_mode": {
    "name": "ipython",
    "version": 3
   },
   "file_extension": ".py",
   "mimetype": "text/x-python",
   "name": "python",
   "nbconvert_exporter": "python",
   "pygments_lexer": "ipython3",
   "version": "3.11.4"
  }
 },
 "nbformat": 4,
 "nbformat_minor": 2
}
