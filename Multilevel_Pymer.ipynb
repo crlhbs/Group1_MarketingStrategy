{
 "cells": [
  {
   "cell_type": "markdown",
   "metadata": {},
   "source": [
    "Note: This code was a team effort by Group 1."
   ]
  },
  {
   "cell_type": "markdown",
   "metadata": {},
   "source": [
    "##### **In order to perform a multilevel analysis, the Pymer4 tool has been used, as proposed by Jolly (2018).**\n",
    "\n",
    "Reference:\n",
    "Jolly, (2018). Pymer4: Connecting R and Python for Linear Mixed Modeling. Journal of Open Source Software, 3(31), 862, https://doi.org/10.21105/joss.00862"
   ]
  },
  {
   "cell_type": "code",
   "execution_count": 16,
   "metadata": {},
   "outputs": [],
   "source": [
    "# import some basic libraries\n",
    "import os\n",
    "import pandas as pd\n",
    "\n",
    "\n",
    "os.environ[\"R_HOME\"] = \"/Library/Frameworks/R.framework/Resources\"\n",
    "\n",
    "\n",
    "# import utility function for sample data path\n",
    "from pymer4.utils import get_resource_path"
   ]
  },
  {
   "cell_type": "markdown",
   "metadata": {},
   "source": [
    "Loading our data: \n",
    "\n",
    "Load the cleaned dataset 'combined_themepark_dataset.csv' into a pandas DataFrame."
   ]
  },
  {
   "cell_type": "code",
   "execution_count": 17,
   "metadata": {},
   "outputs": [],
   "source": [
    "data = pd.read_csv('combined_themepark_dataset.csv')"
   ]
  },
  {
   "cell_type": "code",
   "execution_count": 18,
   "metadata": {},
   "outputs": [
    {
     "data": {
      "text/html": [
       "<div>\n",
       "<style scoped>\n",
       "    .dataframe tbody tr th:only-of-type {\n",
       "        vertical-align: middle;\n",
       "    }\n",
       "\n",
       "    .dataframe tbody tr th {\n",
       "        vertical-align: top;\n",
       "    }\n",
       "\n",
       "    .dataframe thead th {\n",
       "        text-align: right;\n",
       "    }\n",
       "</style>\n",
       "<table border=\"1\" class=\"dataframe\">\n",
       "  <thead>\n",
       "    <tr style=\"text-align: right;\">\n",
       "      <th></th>\n",
       "      <th>date</th>\n",
       "      <th>profile</th>\n",
       "      <th>message</th>\n",
       "      <th>nr_reactions</th>\n",
       "      <th>nr_comments</th>\n",
       "      <th>nr_shares</th>\n",
       "      <th>comments/post</th>\n",
       "      <th>post_interaction_rate</th>\n",
       "      <th>engagement</th>\n",
       "      <th>nr_likes</th>\n",
       "      <th>link_posts</th>\n",
       "      <th>picture_posts</th>\n",
       "      <th>video_posts</th>\n",
       "      <th>profile_id</th>\n",
       "      <th>post_id</th>\n",
       "      <th>link</th>\n",
       "    </tr>\n",
       "  </thead>\n",
       "  <tbody>\n",
       "    <tr>\n",
       "      <th>0</th>\n",
       "      <td>12/31/23 9:40 PM</td>\n",
       "      <td>Wild Adventures Theme Park</td>\n",
       "      <td>🎟️🚨 Today's the FINAL day to use your 2023 Sea...</td>\n",
       "      <td>16</td>\n",
       "      <td>2</td>\n",
       "      <td>2</td>\n",
       "      <td>2</td>\n",
       "      <td>1,09E+12</td>\n",
       "      <td>1.090000e+12</td>\n",
       "      <td>13</td>\n",
       "      <td>NaN</td>\n",
       "      <td>1.0</td>\n",
       "      <td>NaN</td>\n",
       "      <td>84679583132</td>\n",
       "      <td>84679583132_770120045161180</td>\n",
       "      <td>https://www.facebook.com/617429960430190/posts...</td>\n",
       "    </tr>\n",
       "    <tr>\n",
       "      <th>1</th>\n",
       "      <td>12/31/23 8:01 PM</td>\n",
       "      <td>Fun Spot America</td>\n",
       "      <td>See you next year! 😉                Don’t miss...</td>\n",
       "      <td>38</td>\n",
       "      <td>1</td>\n",
       "      <td>2</td>\n",
       "      <td>1</td>\n",
       "      <td>4,17E+11</td>\n",
       "      <td>4.170000e+11</td>\n",
       "      <td>33</td>\n",
       "      <td>NaN</td>\n",
       "      <td>NaN</td>\n",
       "      <td>NaN</td>\n",
       "      <td>1,8402E+11</td>\n",
       "      <td>184020466977_767286052104076</td>\n",
       "      <td>https://www.facebook.com/653224623510220/posts...</td>\n",
       "    </tr>\n",
       "  </tbody>\n",
       "</table>\n",
       "</div>"
      ],
      "text/plain": [
       "               date                     profile  \\\n",
       "0  12/31/23 9:40 PM  Wild Adventures Theme Park   \n",
       "1  12/31/23 8:01 PM            Fun Spot America   \n",
       "\n",
       "                                             message  nr_reactions  \\\n",
       "0  🎟️🚨 Today's the FINAL day to use your 2023 Sea...            16   \n",
       "1  See you next year! 😉                Don’t miss...            38   \n",
       "\n",
       "   nr_comments  nr_shares  comments/post post_interaction_rate    engagement  \\\n",
       "0            2          2              2              1,09E+12  1.090000e+12   \n",
       "1            1          2              1              4,17E+11  4.170000e+11   \n",
       "\n",
       "   nr_likes  link_posts  picture_posts  video_posts   profile_id  \\\n",
       "0        13         NaN            1.0          NaN  84679583132   \n",
       "1        33         NaN            NaN          NaN   1,8402E+11   \n",
       "\n",
       "                        post_id  \\\n",
       "0   84679583132_770120045161180   \n",
       "1  184020466977_767286052104076   \n",
       "\n",
       "                                                link  \n",
       "0  https://www.facebook.com/617429960430190/posts...  \n",
       "1  https://www.facebook.com/653224623510220/posts...  "
      ]
     },
     "execution_count": 18,
     "metadata": {},
     "output_type": "execute_result"
    }
   ],
   "source": [
    "data.head(2)"
   ]
  },
  {
   "cell_type": "code",
   "execution_count": 19,
   "metadata": {},
   "outputs": [
    {
     "name": "stdout",
     "output_type": "stream",
     "text": [
      "   Group   IV1  DV_l         DV       IV2  IV3\n",
      "0      1  20.0     0   7.936508  4.563492  0.5\n",
      "1      1  20.0     0  15.277778  0.000000  1.0\n",
      "2      1  20.0     1   0.000000  0.000000  1.5\n",
      "3      1  20.0     1   9.523810  0.000000  0.5\n",
      "4      1  12.5     0   0.000000  0.000000  1.0\n"
     ]
    }
   ],
   "source": [
    "# Load and checkout sample data\n",
    "df = pd.read_csv(os.path.join(get_resource_path(), \"sample_data.csv\"))\n",
    "print(df.head())"
   ]
  },
  {
   "cell_type": "code",
   "execution_count": 20,
   "metadata": {},
   "outputs": [],
   "source": [
    "# Import the lmm model class\n",
    "from pymer4.models import Lmer"
   ]
  },
  {
   "cell_type": "code",
   "execution_count": 21,
   "metadata": {},
   "outputs": [
    {
     "name": "stdout",
     "output_type": "stream",
     "text": [
      "Model failed to converge with max|grad| = 0.896708 (tol = 0.002, component 1) \n",
      "\n",
      "Linear mixed model fit by REML [’lmerMod’]\n",
      "Formula: DV~IV2+(IV2|Group)\n",
      "\n",
      "Family: gaussian\t Inference: parametric\n",
      "\n",
      "Number of observations: 564\t Groups: {'Group': 47.0}\n",
      "\n",
      "Log-likelihood: -2249.420 \t AIC: 4510.839\n",
      "\n",
      "Random effects:\n",
      "\n",
      "                 Name      Var     Std\n",
      "Group     (Intercept)  161.413  12.705\n",
      "Group             IV2    0.126   0.355\n",
      "Residual               122.940  11.088\n",
      "\n",
      "               IV1  IV2   Corr\n",
      "Group  (Intercept)  IV2 -0.536\n",
      "\n",
      "Fixed effects:\n",
      "\n",
      "             Estimate  2.5_ci  97.5_ci     SE      DF  T-stat  P-val  Sig\n",
      "(Intercept)     9.857   4.787   14.927  2.587  22.389   3.811  0.001  ***\n",
      "IV2             0.688   0.566    0.810  0.062  46.439  11.045  0.000  ***\n"
     ]
    }
   ],
   "source": [
    "# Initialize model instance using 1 predictor with random intercepts and slopes\n",
    "model = Lmer(\"DV ~ IV2 + (IV2|Group)\", data=df)\n",
    "\n",
    "# Fit it\n",
    "print(model.fit())"
   ]
  },
  {
   "cell_type": "code",
   "execution_count": 22,
   "metadata": {},
   "outputs": [
    {
     "name": "stdout",
     "output_type": "stream",
     "text": [
      "             Estimate    2.5_ci    97.5_ci        SE         DF     T-stat  \\\n",
      "(Intercept)  9.857094  4.787487  14.926700  2.586581  22.389120   3.810858   \n",
      "IV2          0.687975  0.565892   0.810058  0.062289  46.439194  11.044961   \n",
      "\n",
      "                    P-val  Sig  \n",
      "(Intercept)  9.326090e-04  ***  \n",
      "IV2          1.382486e-14  ***  \n"
     ]
    }
   ],
   "source": [
    "# Get population level coefficients\n",
    "print(model.coefs)"
   ]
  },
  {
   "cell_type": "code",
   "execution_count": 23,
   "metadata": {},
   "outputs": [
    {
     "name": "stdout",
     "output_type": "stream",
     "text": [
      "   (Intercept)       IV2\n",
      "1     4.538175  0.881432\n",
      "2    16.988103  0.640521\n",
      "3     8.681741  0.838443\n",
      "4     9.813423  0.869052\n",
      "5     9.926038  0.187751\n"
     ]
    }
   ],
   "source": [
    "# Get group level coefficients (just the first 5)\n",
    "# Each row here is a unique intercept and slope\n",
    "# which vary because we parameterized our rfx that way above\n",
    "print(model.fixef.head(5))"
   ]
  },
  {
   "cell_type": "code",
   "execution_count": 24,
   "metadata": {},
   "outputs": [
    {
     "name": "stdout",
     "output_type": "stream",
     "text": [
      "   X.Intercept.       IV2\n",
      "1     -5.318919  0.193457\n",
      "2      7.131010 -0.047454\n",
      "3     -1.175353  0.150468\n",
      "4     -0.043671  0.181077\n",
      "5      0.068944 -0.500224\n"
     ]
    }
   ],
   "source": [
    "# Get group level deviates from population level coefficients (i.e. rfx)\n",
    "print(model.ranef.head(5))"
   ]
  },
  {
   "cell_type": "code",
   "execution_count": 25,
   "metadata": {},
   "outputs": [
    {
     "data": {
      "text/plain": [
       "<Axes: xlabel='Estimate'>"
      ]
     },
     "execution_count": 25,
     "metadata": {},
     "output_type": "execute_result"
    },
    {
     "data": {
      "image/png": "[encoded data removed]",
      "text/plain": [
       "<Figure size 1200x600 with 1 Axes>"
      ]
     },
     "metadata": {},
     "output_type": "display_data"
    }
   ],
   "source": [
    "# Visualize coefficients with group/cluster fits overlaid (\"forest plot\")\n",
    "model.plot_summary()"
   ]
  },
  {
   "cell_type": "code",
   "execution_count": null,
   "metadata": {},
   "outputs": [],
   "source": []
  }
 ],
 "metadata": {
  "kernelspec": {
   "display_name": "base",
   "language": "python",
   "name": "python3"
  },
  "language_info": {
   "codemirror_mode": {
    "name": "ipython",
    "version": 3
   },
   "file_extension": ".py",
   "mimetype": "text/x-python",
   "name": "python",
   "nbconvert_exporter": "python",
   "pygments_lexer": "ipython3",
   "version": "3.11.4"
  }
 },
 "nbformat": 4,
 "nbformat_minor": 2
}
