{
 "cells": [
  {
   "cell_type": "markdown",
   "metadata": {},
   "source": [
    "*Note: This code was a team effort by Group 1.*"
   ]
  },
  {
   "cell_type": "markdown",
   "metadata": {},
   "source": [
    "# **Mutlilevel Analysis**\n",
    "\n",
    "In order to perform a multilevel analysis, the Pymer4 tool has been used, as proposed by Jolly (2018).\n",
    "\n",
    "Reference:\n",
    "Jolly, (2018). Pymer4: Connecting R and Python for Linear Mixed Modeling. Journal of Open Source Software, 3(31), 862, https://doi.org/10.21105/joss.00862"
   ]
  },
  {
   "cell_type": "code",
   "execution_count": 100,
   "metadata": {},
   "outputs": [],
   "source": [
    "# import some basic libraries\n",
    "import os\n",
    "import pandas as pd\n",
    "\n",
    "\n",
    "os.environ[\"R_HOME\"] = \"/Library/Frameworks/R.framework/Resources\"\n",
    "\n",
    "\n",
    "# import utility function for sample data path\n",
    "from pymer4.utils import get_resource_path"
   ]
  },
  {
   "cell_type": "markdown",
   "metadata": {},
   "source": [
    "## **1. Loading the data**\n",
    "\n",
    "Loading the cleaned dataset 'combined_themepark_dataset.csv' into a pandas DataFrame."
   ]
  },
  {
   "cell_type": "code",
   "execution_count": 101,
   "metadata": {},
   "outputs": [
    {
     "data": {
      "text/html": [
       "<div>\n",
       "<style scoped>\n",
       "    .dataframe tbody tr th:only-of-type {\n",
       "        vertical-align: middle;\n",
       "    }\n",
       "\n",
       "    .dataframe tbody tr th {\n",
       "        vertical-align: top;\n",
       "    }\n",
       "\n",
       "    .dataframe thead th {\n",
       "        text-align: right;\n",
       "    }\n",
       "</style>\n",
       "<table border=\"1\" class=\"dataframe\">\n",
       "  <thead>\n",
       "    <tr style=\"text-align: right;\">\n",
       "      <th></th>\n",
       "      <th>date</th>\n",
       "      <th>profile</th>\n",
       "      <th>message</th>\n",
       "      <th>nr_reactions</th>\n",
       "      <th>nr_comments</th>\n",
       "      <th>nr_shares</th>\n",
       "      <th>comments/post</th>\n",
       "      <th>post_interaction_rate</th>\n",
       "      <th>engagement</th>\n",
       "      <th>nr_likes</th>\n",
       "      <th>link_posts</th>\n",
       "      <th>picture_posts</th>\n",
       "      <th>video_posts</th>\n",
       "      <th>profile_id</th>\n",
       "      <th>post_id</th>\n",
       "      <th>link</th>\n",
       "      <th>followers</th>\n",
       "      <th>has_emoji</th>\n",
       "    </tr>\n",
       "  </thead>\n",
       "  <tbody>\n",
       "    <tr>\n",
       "      <th>0</th>\n",
       "      <td>12/31/23 9:40 PM</td>\n",
       "      <td>wild adventures theme park</td>\n",
       "      <td>🎟️🚨 Today's the FINAL day to use your 2023 Sea...</td>\n",
       "      <td>16</td>\n",
       "      <td>2</td>\n",
       "      <td>2</td>\n",
       "      <td>2</td>\n",
       "      <td>1,09E+12</td>\n",
       "      <td>1.090000e+12</td>\n",
       "      <td>13</td>\n",
       "      <td>NaN</td>\n",
       "      <td>1.0</td>\n",
       "      <td>NaN</td>\n",
       "      <td>84679583132</td>\n",
       "      <td>84679583132_770120045161180</td>\n",
       "      <td>https://www.facebook.com/617429960430190/posts...</td>\n",
       "      <td>66.0</td>\n",
       "      <td>1</td>\n",
       "    </tr>\n",
       "    <tr>\n",
       "      <th>1</th>\n",
       "      <td>12/31/23 8:01 PM</td>\n",
       "      <td>fun spot america</td>\n",
       "      <td>See you next year! 😉                Don’t miss...</td>\n",
       "      <td>38</td>\n",
       "      <td>1</td>\n",
       "      <td>2</td>\n",
       "      <td>1</td>\n",
       "      <td>4,17E+11</td>\n",
       "      <td>4.170000e+11</td>\n",
       "      <td>33</td>\n",
       "      <td>NaN</td>\n",
       "      <td>NaN</td>\n",
       "      <td>NaN</td>\n",
       "      <td>1,8402E+11</td>\n",
       "      <td>184020466977_767286052104076</td>\n",
       "      <td>https://www.facebook.com/653224623510220/posts...</td>\n",
       "      <td>100000.0</td>\n",
       "      <td>1</td>\n",
       "    </tr>\n",
       "    <tr>\n",
       "      <th>2</th>\n",
       "      <td>12/31/23 7:30 PM</td>\n",
       "      <td>fun spot america</td>\n",
       "      <td>Don't miss our HUGE firework display ! 🥳\\n\\n#f...</td>\n",
       "      <td>23</td>\n",
       "      <td>2</td>\n",
       "      <td>3</td>\n",
       "      <td>2</td>\n",
       "      <td>2,85E+11</td>\n",
       "      <td>2.850000e+11</td>\n",
       "      <td>21</td>\n",
       "      <td>NaN</td>\n",
       "      <td>NaN</td>\n",
       "      <td>1.0</td>\n",
       "      <td>1,8402E+11</td>\n",
       "      <td>184020466977_767267948772553</td>\n",
       "      <td>https://www.facebook.com/653224623510220/posts...</td>\n",
       "      <td>100000.0</td>\n",
       "      <td>1</td>\n",
       "    </tr>\n",
       "    <tr>\n",
       "      <th>3</th>\n",
       "      <td>12/31/23 7:00 PM</td>\n",
       "      <td>disneyland paris</td>\n",
       "      <td>Fijne jaarwisseling! 🥂🎉\\nEn tot volgend jaar 😉</td>\n",
       "      <td>646</td>\n",
       "      <td>52</td>\n",
       "      <td>12</td>\n",
       "      <td>56</td>\n",
       "      <td>1,36E+11</td>\n",
       "      <td>1.360000e+11</td>\n",
       "      <td>478</td>\n",
       "      <td>NaN</td>\n",
       "      <td>1.0</td>\n",
       "      <td>NaN</td>\n",
       "      <td>6,52389E+14</td>\n",
       "      <td>652389081615295_775974521237956</td>\n",
       "      <td>https://www.facebook.com/724434559725286/posts...</td>\n",
       "      <td>NaN</td>\n",
       "      <td>1</td>\n",
       "    </tr>\n",
       "    <tr>\n",
       "      <th>4</th>\n",
       "      <td>12/31/23 7:00 PM</td>\n",
       "      <td>silverwood theme park</td>\n",
       "      <td>It's the last day of our New Year's Sale! Save...</td>\n",
       "      <td>17</td>\n",
       "      <td>2</td>\n",
       "      <td>0</td>\n",
       "      <td>2</td>\n",
       "      <td>4,96E+11</td>\n",
       "      <td>4.960000e+11</td>\n",
       "      <td>16</td>\n",
       "      <td>NaN</td>\n",
       "      <td>NaN</td>\n",
       "      <td>1.0</td>\n",
       "      <td>7,62702E+14</td>\n",
       "      <td>762701550509617_678920137770716</td>\n",
       "      <td>https://www.facebook.com/562559642740100/posts...</td>\n",
       "      <td>381000.0</td>\n",
       "      <td>0</td>\n",
       "    </tr>\n",
       "  </tbody>\n",
       "</table>\n",
       "</div>"
      ],
      "text/plain": [
       "               date                     profile  \\\n",
       "0  12/31/23 9:40 PM  wild adventures theme park   \n",
       "1  12/31/23 8:01 PM            fun spot america   \n",
       "2  12/31/23 7:30 PM            fun spot america   \n",
       "3  12/31/23 7:00 PM            disneyland paris   \n",
       "4  12/31/23 7:00 PM       silverwood theme park   \n",
       "\n",
       "                                             message  nr_reactions  \\\n",
       "0  🎟️🚨 Today's the FINAL day to use your 2023 Sea...            16   \n",
       "1  See you next year! 😉                Don’t miss...            38   \n",
       "2  Don't miss our HUGE firework display ! 🥳\\n\\n#f...            23   \n",
       "3     Fijne jaarwisseling! 🥂🎉\\nEn tot volgend jaar 😉           646   \n",
       "4  It's the last day of our New Year's Sale! Save...            17   \n",
       "\n",
       "   nr_comments  nr_shares  comments/post post_interaction_rate    engagement  \\\n",
       "0            2          2              2              1,09E+12  1.090000e+12   \n",
       "1            1          2              1              4,17E+11  4.170000e+11   \n",
       "2            2          3              2              2,85E+11  2.850000e+11   \n",
       "3           52         12             56              1,36E+11  1.360000e+11   \n",
       "4            2          0              2              4,96E+11  4.960000e+11   \n",
       "\n",
       "   nr_likes  link_posts  picture_posts  video_posts   profile_id  \\\n",
       "0        13         NaN            1.0          NaN  84679583132   \n",
       "1        33         NaN            NaN          NaN   1,8402E+11   \n",
       "2        21         NaN            NaN          1.0   1,8402E+11   \n",
       "3       478         NaN            1.0          NaN  6,52389E+14   \n",
       "4        16         NaN            NaN          1.0  7,62702E+14   \n",
       "\n",
       "                           post_id  \\\n",
       "0      84679583132_770120045161180   \n",
       "1     184020466977_767286052104076   \n",
       "2     184020466977_767267948772553   \n",
       "3  652389081615295_775974521237956   \n",
       "4  762701550509617_678920137770716   \n",
       "\n",
       "                                                link  followers  has_emoji  \n",
       "0  https://www.facebook.com/617429960430190/posts...       66.0          1  \n",
       "1  https://www.facebook.com/653224623510220/posts...   100000.0          1  \n",
       "2  https://www.facebook.com/653224623510220/posts...   100000.0          1  \n",
       "3  https://www.facebook.com/724434559725286/posts...        NaN          1  \n",
       "4  https://www.facebook.com/562559642740100/posts...   381000.0          0  "
      ]
     },
     "execution_count": 101,
     "metadata": {},
     "output_type": "execute_result"
    }
   ],
   "source": [
    "# Get the directory of the current Jupyter Notebook file\n",
    "notebook_directory = os.path.dirname(os.path.abspath('__file__'))\n",
    "\n",
    "# Specify the relative path to the folder containing the CSV file\n",
    "folder_path = os.path.join(notebook_directory, '02_new dataframes')\n",
    "\n",
    "# Specify the file name\n",
    "file_name = 'H4_dataframe.csv'\n",
    "\n",
    "# Construct the full path to the CSV file\n",
    "csv_file_path = os.path.join(folder_path, file_name)\n",
    "\n",
    "# Read the CSV file into a DataFrame\n",
    "df = pd.read_csv(csv_file_path)\n",
    "\n",
    "# Print the first few rows of the DataFrame to verify that it was read successfully\n",
    "df.head()"
   ]
  },
  {
   "cell_type": "markdown",
   "metadata": {},
   "source": [
    "### **2. Model fitting**"
   ]
  },
  {
   "cell_type": "code",
   "execution_count": 102,
   "metadata": {},
   "outputs": [
    {
     "name": "stdout",
     "output_type": "stream",
     "text": [
      "Linear mixed model fit by REML [’lmerMod’]\n",
      "Formula: engagement~nr_reactions+has_emoji+(1|profile)\n",
      "\n",
      "Family: gaussian\t Inference: parametric\n",
      "\n",
      "Number of observations: 15443\t Groups: {'profile': 59.0}\n",
      "\n",
      "Log-likelihood: -449430.218 \t AIC: 898870.435\n",
      "\n",
      "Random effects:\n",
      "\n",
      "                 Name           Var           Std\n",
      "profile   (Intercept)  8.694048e+22  2.948567e+11\n",
      "Residual               1.108398e+24  1.052805e+12\n",
      "\n",
      "No random effect correlations specified\n",
      "\n",
      "Fixed effects:\n",
      "\n",
      "Linear mixed model fit by REML [’lmerMod’]\n",
      "Formula: engagement~nr_reactions+has_emoji+(1|profile)\n",
      "\n",
      "Family: gaussian\t Inference: parametric\n",
      "\n",
      "Number of observations: 15443\t Groups: {'profile': 59.0}\n",
      "\n",
      "Log-likelihood: -449430.218 \t AIC: 898870.435\n",
      "\n",
      "Random effects:\n",
      "\n",
      "                 Name           Var           Std\n",
      "profile   (Intercept)  8.694048e+22  2.948567e+11\n",
      "Residual               1.108398e+24  1.052805e+12\n",
      "\n",
      "No random effect correlations specified\n",
      "\n",
      "Fixed effects:\n",
      "\n",
      "                  Estimate        2.5_ci       97.5_ci            SE  \\\n",
      "(Intercept)   7.600720e+11  6.787333e+11  8.414106e+11  4.150007e+10   \n",
      "nr_reactions -7.354422e+06 -1.196241e+07 -2.746437e+06  2.351056e+06   \n",
      "has_emoji    -1.079017e+10 -4.954297e+10  2.796263e+10  1.977220e+10   \n",
      "\n",
      "                       DF  T-stat  P-val  Sig  \n",
      "(Intercept)        63.776  18.315  0.000  ***  \n",
      "nr_reactions  5317835.604  -3.128  0.002   **  \n",
      "has_emoji      153457.987  -0.546  0.585       \n"
     ]
    }
   ],
   "source": [
    "from pymer4.models import Lmer\n",
    "\n",
    "# Define the formula for the multilevel regression model\n",
    "formula = 'engagement ~ nr_reactions + has_emoji + (1|profile)'\n",
    "\n",
    "# Create an instance of the Lmer model\n",
    "model = Lmer(formula, data=df)\n",
    "\n",
    "# Fit the model to the data\n",
    "model.fit()\n",
    "\n",
    "# Print a summary of the fitted model\n",
    "print(model.summary())"
   ]
  },
  {
   "cell_type": "code",
   "execution_count": 103,
   "metadata": {},
   "outputs": [
    {
     "name": "stdout",
     "output_type": "stream",
     "text": [
      "                  Estimate        2.5_ci       97.5_ci            SE  \\\n",
      "(Intercept)   7.600720e+11  6.787333e+11  8.414106e+11  4.150007e+10   \n",
      "nr_reactions -7.354422e+06 -1.196241e+07 -2.746437e+06  2.351056e+06   \n",
      "has_emoji    -1.079017e+10 -4.954297e+10  2.796263e+10  1.977220e+10   \n",
      "\n",
      "                        DF     T-stat         P-val  Sig  \n",
      "(Intercept)   6.377618e+01  18.314958  4.306195e-27  ***  \n",
      "nr_reactions  5.317836e+06  -3.128136  1.759199e-03   **  \n",
      "has_emoji     1.534580e+05  -0.545724  5.852564e-01       \n"
     ]
    }
   ],
   "source": [
    "# Get population level coefficients\n",
    "print(model.coefs)"
   ]
  },
  {
   "cell_type": "code",
   "execution_count": 104,
   "metadata": {},
   "outputs": [
    {
     "name": "stdout",
     "output_type": "stream",
     "text": [
      "                                  (Intercept)  nr_reactions     has_emoji\n",
      "acn - america's coaster network  1.078562e+11 -7.354422e+06 -1.079017e+10\n",
      "adventure city                   9.373215e+11 -7.354422e+06 -1.079017e+10\n",
      "belmont park                     9.494745e+11 -7.354422e+06 -1.079017e+10\n",
      "big kahuna's nj                  6.397893e+11 -7.354422e+06 -1.079017e+10\n",
      "busch gardens tampa bay          1.164889e+12 -7.354422e+06 -1.079017e+10\n"
     ]
    }
   ],
   "source": [
    "# Get group level coefficients (just the first 5)\n",
    "# Each row here is a unique intercept and slope\n",
    "# which vary because we parameterized our rfx that way above\n",
    "print(model.fixef.head(5))"
   ]
  },
  {
   "cell_type": "code",
   "execution_count": 105,
   "metadata": {},
   "outputs": [
    {
     "name": "stdout",
     "output_type": "stream",
     "text": [
      "                                 X.Intercept.\n",
      "acn - america's coaster network -6.522157e+11\n",
      "adventure city                   1.772496e+11\n",
      "belmont park                     1.894026e+11\n",
      "big kahuna's nj                 -1.202826e+11\n",
      "busch gardens tampa bay          4.048167e+11\n"
     ]
    }
   ],
   "source": [
    "# Get group level deviates from population level coefficients (i.e. rfx)\n",
    "print(model.ranef.head(5))"
   ]
  },
  {
   "cell_type": "code",
   "execution_count": 106,
   "metadata": {},
   "outputs": [
    {
     "data": {
      "text/plain": [
       "<Axes: xlabel='Estimate'>"
      ]
     },
     "execution_count": 106,
     "metadata": {},
     "output_type": "execute_result"
    },
    {
     "data": {
      "image/png": "[encoded data removed]",
      "text/plain": [
       "<Figure size 1200x600 with 1 Axes>"
      ]
     },
     "metadata": {},
     "output_type": "display_data"
    }
   ],
   "source": [
    "# Visualize coefficients with group/cluster fits overlaid (\"forest plot\")\n",
    "model.plot_summary()"
   ]
  },
  {
   "cell_type": "code",
   "execution_count": 107,
   "metadata": {},
   "outputs": [
    {
     "data": {
      "text/plain": [
       "<Axes: xlabel='has_emoji', ylabel='predicted engagement'>"
      ]
     },
     "execution_count": 107,
     "metadata": {},
     "output_type": "execute_result"
    },
    {
     "data": {
      "image/png": "[encoded data removed]",
      "text/plain": [
       "<Figure size 800x600 with 1 Axes>"
      ]
     },
     "metadata": {},
     "output_type": "display_data"
    }
   ],
   "source": [
    "# Plot coefficients for each group/cluster as separate regressions\n",
    "model.plot(\"has_emoji\", plot_ci=True, ylabel=\"predicted engagement\")"
   ]
  },
  {
   "cell_type": "markdown",
   "metadata": {},
   "source": [
    "## **3. Interpretation**"
   ]
  },
  {
   "cell_type": "markdown",
   "metadata": {},
   "source": []
  }
 ],
 "metadata": {
  "kernelspec": {
   "display_name": "base",
   "language": "python",
   "name": "python3"
  },
  "language_info": {
   "codemirror_mode": {
    "name": "ipython",
    "version": 3
   },
   "file_extension": ".py",
   "mimetype": "text/x-python",
   "name": "python",
   "nbconvert_exporter": "python",
   "pygments_lexer": "ipython3",
   "version": "3.11.4"
  }
 },
 "nbformat": 4,
 "nbformat_minor": 2
}
